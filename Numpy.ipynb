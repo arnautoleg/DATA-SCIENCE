{
  "nbformat": 4,
  "nbformat_minor": 0,
  "metadata": {
    "colab": {
      "provenance": [],
      "toc_visible": true,
      "authorship_tag": "ABX9TyPXiKmRT+VvkoPw0Ilr2Ryb",
      "include_colab_link": true
    },
    "kernelspec": {
      "name": "python3",
      "display_name": "Python 3"
    },
    "language_info": {
      "name": "python"
    }
  },
  "cells": [
    {
      "cell_type": "markdown",
      "metadata": {
        "id": "view-in-github",
        "colab_type": "text"
      },
      "source": [
        "<a href=\"https://colab.research.google.com/github/arnautoleg/DATA-SCIENCE/blob/main/Numpy.ipynb\" target=\"_parent\"><img src=\"https://colab.research.google.com/assets/colab-badge.svg\" alt=\"Open In Colab\"/></a>"
      ]
    },
    {
      "cell_type": "code",
      "execution_count": 1,
      "metadata": {
        "id": "RS3ThFMQov_W"
      },
      "outputs": [],
      "source": [
        "import numpy as np"
      ]
    },
    {
      "cell_type": "markdown",
      "source": [
        "# ТИПЫ ДАННЫХ"
      ],
      "metadata": {
        "id": "hbpG8M2vpBEG"
      }
    },
    {
      "cell_type": "code",
      "source": [
        "#Какие минимальное и максимальное числа можно сохранить в 16 бит?\n",
        "\n",
        "print(2**16/2 - 1)\n",
        "print(-2**16/2)\n"
      ],
      "metadata": {
        "colab": {
          "base_uri": "https://localhost:8080/"
        },
        "id": "egNQ3ASoo8GI",
        "outputId": "063024b6-e560-480e-a208-7bde71731608"
      },
      "execution_count": 4,
      "outputs": [
        {
          "output_type": "stream",
          "name": "stdout",
          "text": [
            "32767.0\n",
            "-32768.0\n"
          ]
        }
      ]
    },
    {
      "cell_type": "code",
      "source": [
        "import numpy as np\n",
        "a = np.int8(25)\n",
        "print(a)\n",
        "# 25"
      ],
      "metadata": {
        "colab": {
          "base_uri": "https://localhost:8080/"
        },
        "id": "ILczHe-OqLyy",
        "outputId": "63c866fb-66ec-4387-d4b8-c58385ba62c9"
      },
      "execution_count": 10,
      "outputs": [
        {
          "output_type": "stream",
          "name": "stdout",
          "text": [
            "25\n"
          ]
        }
      ]
    },
    {
      "cell_type": "code",
      "source": [
        "print(type(a))\n",
        "# <class 'numpy.int8'>"
      ],
      "metadata": {
        "colab": {
          "base_uri": "https://localhost:8080/"
        },
        "id": "iQim6h1kqNS9",
        "outputId": "dd999377-222e-4df7-ad46-53ac2d5e245c"
      },
      "execution_count": 11,
      "outputs": [
        {
          "output_type": "stream",
          "name": "stdout",
          "text": [
            "<class 'numpy.int8'>\n"
          ]
        }
      ]
    },
    {
      "cell_type": "code",
      "source": [
        "# Можно применить к самому\n",
        "# названию типа данных\n",
        "print(np.iinfo(np.int64))\n",
        "# iinfo(min=-128, max=127, dtype=int8)\n",
        "\n",
        "# Можно применить к существующему\n",
        "# конкретному объекту\n",
        "print(np.iinfo(a))\n",
        "# iinfo(min=-128, max=127, dtype=int8)"
      ],
      "metadata": {
        "colab": {
          "base_uri": "https://localhost:8080/"
        },
        "id": "YvVfIIL0qasd",
        "outputId": "b3d2adfd-3415-4e3d-dd8f-9231404e5025"
      },
      "execution_count": 17,
      "outputs": [
        {
          "output_type": "stream",
          "name": "stdout",
          "text": [
            "Machine parameters for int64\n",
            "---------------------------------------------------------------\n",
            "min = -9223372036854775808\n",
            "max = 9223372036854775807\n",
            "---------------------------------------------------------------\n",
            "\n",
            "Machine parameters for int8\n",
            "---------------------------------------------------------------\n",
            "min = -128\n",
            "max = 127\n",
            "---------------------------------------------------------------\n",
            "\n"
          ]
        }
      ]
    },
    {
      "cell_type": "code",
      "source": [
        "b = np.uint8(124)\n",
        "print(b)\n",
        "# 124\n",
        "print(type(b))\n",
        "# <class 'numpy.uint8'>\n",
        "np.iinfo(b)\n",
        "# iinfo(min=0, max=255, dtype=uint8)"
      ],
      "metadata": {
        "colab": {
          "base_uri": "https://localhost:8080/"
        },
        "id": "-SgwUMgFq0aY",
        "outputId": "be757315-5ac3-4920-f2bd-4c1c294c5829"
      },
      "execution_count": 18,
      "outputs": [
        {
          "output_type": "stream",
          "name": "stdout",
          "text": [
            "124\n",
            "<class 'numpy.uint8'>\n"
          ]
        },
        {
          "output_type": "execute_result",
          "data": {
            "text/plain": [
              "iinfo(min=0, max=255, dtype=uint8)"
            ]
          },
          "metadata": {},
          "execution_count": 18
        }
      ]
    },
    {
      "cell_type": "code",
      "source": [
        "b = np.uint8(-456)\n",
        "print(b)\n",
        "# 124\n",
        "print(type(b))\n",
        "# <class 'numpy.uint8'>\n",
        "np.iinfo(b)\n",
        "# iinfo(min=0, max=255, dtype=uint8)"
      ],
      "metadata": {
        "colab": {
          "base_uri": "https://localhost:8080/"
        },
        "id": "t1bkCtROsTIm",
        "outputId": "c50d8443-7276-4daf-e559-441057d5caee"
      },
      "execution_count": 25,
      "outputs": [
        {
          "output_type": "stream",
          "name": "stdout",
          "text": [
            "56\n",
            "<class 'numpy.uint8'>\n"
          ]
        },
        {
          "output_type": "execute_result",
          "data": {
            "text/plain": [
              "iinfo(min=0, max=255, dtype=uint8)"
            ]
          },
          "metadata": {},
          "execution_count": 25
        }
      ]
    },
    {
      "cell_type": "code",
      "source": [
        "np.finfo(np.float16)\n",
        "# finfo(resolution=0.001, min=-6.55040e+04, max=6.55040e+04, dtype=float16)\n",
        "np.finfo(np.float32)\n",
        "# finfo(resolution=1e-06, min=-3.4028235e+38, max=3.4028235e+38, dtype=float32)\n",
        "np.finfo(np.float64)\n",
        "# finfo(resolution=1e-15, min=-1.7976931348623157e+308, max=1.7976931348623157e+308, dtype=float64)\n",
        "np.finfo(np.float128)\n",
        "# finfo(resolution=1e-18, min=-1.189731495357231765e+4932, max=1.189731495357231765e+4932, dtype=float128)"
      ],
      "metadata": {
        "colab": {
          "base_uri": "https://localhost:8080/"
        },
        "id": "Nc9O8OQzq2hW",
        "outputId": "f915355d-69f6-4db5-ae61-ff3c9befc271"
      },
      "execution_count": 19,
      "outputs": [
        {
          "output_type": "execute_result",
          "data": {
            "text/plain": [
              "finfo(resolution=1e-18, min=-1.189731495357231765e+4932, max=1.189731495357231765e+4932, dtype=float128)"
            ]
          },
          "metadata": {},
          "execution_count": 19
        }
      ]
    },
    {
      "cell_type": "code",
      "source": [
        "print(np.sctypeDict)\n",
        "print(len(np.sctypeDict))\n",
        "# 158, но может быть 135 или 139"
      ],
      "metadata": {
        "colab": {
          "base_uri": "https://localhost:8080/"
        },
        "id": "kpO91SMEr0KB",
        "outputId": "46b405d3-0287-404a-bb68-175031fc65cf"
      },
      "execution_count": 20,
      "outputs": [
        {
          "output_type": "stream",
          "name": "stdout",
          "text": [
            "{'?': <class 'numpy.bool_'>, 0: <class 'numpy.bool_'>, 'byte': <class 'numpy.int8'>, 'b': <class 'numpy.int8'>, 1: <class 'numpy.int8'>, 'ubyte': <class 'numpy.uint8'>, 'B': <class 'numpy.uint8'>, 2: <class 'numpy.uint8'>, 'short': <class 'numpy.int16'>, 'h': <class 'numpy.int16'>, 3: <class 'numpy.int16'>, 'ushort': <class 'numpy.uint16'>, 'H': <class 'numpy.uint16'>, 4: <class 'numpy.uint16'>, 'i': <class 'numpy.int32'>, 5: <class 'numpy.int32'>, 'uint': <class 'numpy.uint64'>, 'I': <class 'numpy.uint32'>, 6: <class 'numpy.uint32'>, 'intp': <class 'numpy.int64'>, 'p': <class 'numpy.int64'>, 7: <class 'numpy.int64'>, 'uintp': <class 'numpy.uint64'>, 'P': <class 'numpy.uint64'>, 8: <class 'numpy.uint64'>, 'long': <class 'numpy.int64'>, 'l': <class 'numpy.int64'>, 'ulong': <class 'numpy.uint64'>, 'L': <class 'numpy.uint64'>, 'longlong': <class 'numpy.longlong'>, 'q': <class 'numpy.longlong'>, 9: <class 'numpy.longlong'>, 'ulonglong': <class 'numpy.ulonglong'>, 'Q': <class 'numpy.ulonglong'>, 10: <class 'numpy.ulonglong'>, 'half': <class 'numpy.float16'>, 'e': <class 'numpy.float16'>, 23: <class 'numpy.float16'>, 'f': <class 'numpy.float32'>, 11: <class 'numpy.float32'>, 'double': <class 'numpy.float64'>, 'd': <class 'numpy.float64'>, 12: <class 'numpy.float64'>, 'longdouble': <class 'numpy.float128'>, 'g': <class 'numpy.float128'>, 13: <class 'numpy.float128'>, 'cfloat': <class 'numpy.complex128'>, 'F': <class 'numpy.complex64'>, 14: <class 'numpy.complex64'>, 'cdouble': <class 'numpy.complex128'>, 'D': <class 'numpy.complex128'>, 15: <class 'numpy.complex128'>, 'clongdouble': <class 'numpy.complex256'>, 'G': <class 'numpy.complex256'>, 16: <class 'numpy.complex256'>, 'O': <class 'numpy.object_'>, 17: <class 'numpy.object_'>, 'S': <class 'numpy.bytes_'>, 18: <class 'numpy.bytes_'>, 'unicode': <class 'numpy.str_'>, 'U': <class 'numpy.str_'>, 19: <class 'numpy.str_'>, 'void': <class 'numpy.void'>, 'V': <class 'numpy.void'>, 20: <class 'numpy.void'>, 'M': <class 'numpy.datetime64'>, 21: <class 'numpy.datetime64'>, 'm': <class 'numpy.timedelta64'>, 22: <class 'numpy.timedelta64'>, 'bool8': <class 'numpy.bool_'>, 'b1': <class 'numpy.bool_'>, 'int64': <class 'numpy.int64'>, 'i8': <class 'numpy.int64'>, 'uint64': <class 'numpy.uint64'>, 'u8': <class 'numpy.uint64'>, 'float16': <class 'numpy.float16'>, 'f2': <class 'numpy.float16'>, 'float32': <class 'numpy.float32'>, 'f4': <class 'numpy.float32'>, 'float64': <class 'numpy.float64'>, 'f8': <class 'numpy.float64'>, 'float128': <class 'numpy.float128'>, 'f16': <class 'numpy.float128'>, 'complex64': <class 'numpy.complex64'>, 'c8': <class 'numpy.complex64'>, 'complex128': <class 'numpy.complex128'>, 'c16': <class 'numpy.complex128'>, 'complex256': <class 'numpy.complex256'>, 'c32': <class 'numpy.complex256'>, 'object0': <class 'numpy.object_'>, 'bytes0': <class 'numpy.bytes_'>, 'str0': <class 'numpy.str_'>, 'void0': <class 'numpy.void'>, 'datetime64': <class 'numpy.datetime64'>, 'M8': <class 'numpy.datetime64'>, 'timedelta64': <class 'numpy.timedelta64'>, 'm8': <class 'numpy.timedelta64'>, 'int32': <class 'numpy.int32'>, 'i4': <class 'numpy.int32'>, 'uint32': <class 'numpy.uint32'>, 'u4': <class 'numpy.uint32'>, 'int16': <class 'numpy.int16'>, 'i2': <class 'numpy.int16'>, 'uint16': <class 'numpy.uint16'>, 'u2': <class 'numpy.uint16'>, 'int8': <class 'numpy.int8'>, 'i1': <class 'numpy.int8'>, 'uint8': <class 'numpy.uint8'>, 'u1': <class 'numpy.uint8'>, 'complex_': <class 'numpy.complex128'>, 'int0': <class 'numpy.int64'>, 'uint0': <class 'numpy.uint64'>, 'single': <class 'numpy.float32'>, 'csingle': <class 'numpy.complex64'>, 'singlecomplex': <class 'numpy.complex64'>, 'float_': <class 'numpy.float64'>, 'intc': <class 'numpy.int32'>, 'uintc': <class 'numpy.uint32'>, 'int_': <class 'numpy.int64'>, 'longfloat': <class 'numpy.float128'>, 'clongfloat': <class 'numpy.complex256'>, 'longcomplex': <class 'numpy.complex256'>, 'bool_': <class 'numpy.bool_'>, 'bytes_': <class 'numpy.bytes_'>, 'string_': <class 'numpy.bytes_'>, 'str_': <class 'numpy.str_'>, 'unicode_': <class 'numpy.str_'>, 'object_': <class 'numpy.object_'>, 'int': <class 'numpy.int64'>, 'float': <class 'numpy.float64'>, 'complex': <class 'numpy.complex128'>, 'bool': <class 'numpy.bool_'>, 'object': <class 'numpy.object_'>, 'str': <class 'numpy.str_'>, 'bytes': <class 'numpy.bytes_'>, 'a': <class 'numpy.bytes_'>}\n",
            "136\n"
          ]
        }
      ]
    },
    {
      "cell_type": "markdown",
      "source": [
        "# Модуль NumPy. Массивы\n",
        "\n",
        "Итак, массив — это структура данных, в которой:\n",
        "\n",
        "1\n",
        "Элементы хранятся в указанном порядке.\n",
        "\n",
        "2\n",
        "Каждый элемент можно получить по индексу за одинаковое время.\n",
        "\n",
        "3\n",
        "Все элементы приведены к одному и тому же типу данных.\n",
        "\n",
        "4\n",
        "Максимальное число элементов и объём выделенной памяти заданы заранее."
      ],
      "metadata": {
        "id": "_t1DtOXnstas"
      }
    },
    {
      "cell_type": "code",
      "source": [
        "import numpy as np\n",
        "arr = np.array([1,5,2,9,10])\n",
        "arr\n",
        "# array([ 1,  5,  2,  9, 10])"
      ],
      "metadata": {
        "colab": {
          "base_uri": "https://localhost:8080/"
        },
        "id": "4FT2j6utsMJ4",
        "outputId": "c85edd3e-526a-4f7a-e636-1d7bc4ad7771"
      },
      "execution_count": 26,
      "outputs": [
        {
          "output_type": "execute_result",
          "data": {
            "text/plain": [
              "array([ 1,  5,  2,  9, 10])"
            ]
          },
          "metadata": {},
          "execution_count": 26
        }
      ]
    },
    {
      "cell_type": "code",
      "source": [
        "print(type(arr))\n",
        "# <class 'numpy.ndarray'>"
      ],
      "metadata": {
        "colab": {
          "base_uri": "https://localhost:8080/"
        },
        "id": "US9P2yq5tqG2",
        "outputId": "f8ae1518-3f29-4a71-d885-3dc06cfc59cf"
      },
      "execution_count": 27,
      "outputs": [
        {
          "output_type": "stream",
          "name": "stdout",
          "text": [
            "<class 'numpy.ndarray'>\n"
          ]
        }
      ]
    },
    {
      "cell_type": "code",
      "source": [
        "# Перечислить список из списков можно\n",
        "# было и в одну строку, но на нескольких\n",
        "# строках получается нагляднее\n",
        "nd_arr = np.array([\n",
        "               [12, 45, 78],\n",
        "               [34, 56, 13],\n",
        "               [12, 98, 76]\n",
        "               ])\n",
        "nd_arr\n",
        "# array([[12, 45, 78],\n",
        "#        [34, 56, 13],\n",
        "#        [12, 98, 76]])"
      ],
      "metadata": {
        "colab": {
          "base_uri": "https://localhost:8080/"
        },
        "id": "Qjh1ld41tuKU",
        "outputId": "a0efcbbb-401d-4f6f-a5cf-f2a70c62bf46"
      },
      "execution_count": 28,
      "outputs": [
        {
          "output_type": "execute_result",
          "data": {
            "text/plain": [
              "array([[12, 45, 78],\n",
              "       [34, 56, 13],\n",
              "       [12, 98, 76]])"
            ]
          },
          "metadata": {},
          "execution_count": 28
        }
      ]
    },
    {
      "cell_type": "code",
      "source": [
        "arr = np.array([1,5,2,9,10])\n",
        "arr.dtype\n",
        "# dtype('int64')"
      ],
      "metadata": {
        "colab": {
          "base_uri": "https://localhost:8080/"
        },
        "id": "_Le-36EEtvYM",
        "outputId": "0d9dd777-7883-4e9a-88e0-d711495e70ff"
      },
      "execution_count": 29,
      "outputs": [
        {
          "output_type": "execute_result",
          "data": {
            "text/plain": [
              "dtype('int64')"
            ]
          },
          "metadata": {},
          "execution_count": 29
        }
      ]
    },
    {
      "cell_type": "code",
      "source": [
        "arr = np.array([1,5,2,9,10], dtype=np.int8)\n",
        "arr\n",
        "# array([ 1,  5,  2,  9, 10], dtype=int8)"
      ],
      "metadata": {
        "colab": {
          "base_uri": "https://localhost:8080/"
        },
        "id": "l38c9wJPt1Z-",
        "outputId": "60513932-9b15-4f64-e70a-132edf24351b"
      },
      "execution_count": 30,
      "outputs": [
        {
          "output_type": "execute_result",
          "data": {
            "text/plain": [
              "array([ 1,  5,  2,  9, 10], dtype=int8)"
            ]
          },
          "metadata": {},
          "execution_count": 30
        }
      ]
    },
    {
      "cell_type": "code",
      "source": [
        "arr[2] = 2000\n",
        "arr\n",
        "# array([  1,   5, -48,   9,  10], dtype=int8)"
      ],
      "metadata": {
        "colab": {
          "base_uri": "https://localhost:8080/"
        },
        "id": "dGtvOZ78uCEz",
        "outputId": "49441561-31fc-413a-ed69-e5a4ca475a22"
      },
      "execution_count": 31,
      "outputs": [
        {
          "output_type": "execute_result",
          "data": {
            "text/plain": [
              "array([  1,   5, -48,   9,  10], dtype=int8)"
            ]
          },
          "metadata": {},
          "execution_count": 31
        }
      ]
    },
    {
      "cell_type": "markdown",
      "source": [
        "# СВОЙСТВА NUMPY-МАССИВОВ"
      ],
      "metadata": {
        "id": "fLF3-ntZvmRP"
      }
    },
    {
      "cell_type": "code",
      "source": [
        "arr = np.array([1,5,2,9,10], dtype=np.int8)\n",
        "nd_arr = np.array([\n",
        "               [12, 45, 78],\n",
        "               [34, 56, 13],\n",
        "               [12, 98, 76]\n",
        "               ], dtype=np.int16)"
      ],
      "metadata": {
        "id": "jeWFPkz2uFmA"
      },
      "execution_count": 32,
      "outputs": []
    },
    {
      "cell_type": "markdown",
      "source": [
        "## Узнать размерность массива можно с помощью .ndim:"
      ],
      "metadata": {
        "id": "n-6aRvfNvvT6"
      }
    },
    {
      "cell_type": "code",
      "source": [
        "arr.ndim\n",
        "# 1\n",
        "nd_arr.ndim\n",
        "# 2"
      ],
      "metadata": {
        "colab": {
          "base_uri": "https://localhost:8080/"
        },
        "id": "cWBUbTUQvqO5",
        "outputId": "fa9e351f-1103-40f1-b513-f2c0a178cded"
      },
      "execution_count": 33,
      "outputs": [
        {
          "output_type": "execute_result",
          "data": {
            "text/plain": [
              "2"
            ]
          },
          "metadata": {},
          "execution_count": 33
        }
      ]
    },
    {
      "cell_type": "markdown",
      "source": [
        "## Узнать общее число элементов в массиве можно с помощью .size:"
      ],
      "metadata": {
        "id": "KsG-Zn-PvxIz"
      }
    },
    {
      "cell_type": "code",
      "source": [
        "arr.size\n",
        "# 5\n",
        "nd_arr.size\n",
        "# 9"
      ],
      "metadata": {
        "colab": {
          "base_uri": "https://localhost:8080/"
        },
        "id": "Q_tNeO25v0J6",
        "outputId": "f6e8644f-a946-41b1-8441-927f5e3ce923"
      },
      "execution_count": 34,
      "outputs": [
        {
          "output_type": "execute_result",
          "data": {
            "text/plain": [
              "9"
            ]
          },
          "metadata": {},
          "execution_count": 34
        }
      ]
    },
    {
      "cell_type": "markdown",
      "source": [
        "## Форма или структура массива хранится в атрибуте .shape:"
      ],
      "metadata": {
        "id": "55T3VVfuv7-Z"
      }
    },
    {
      "cell_type": "code",
      "source": [
        "arr.shape\n",
        "# (5,)\n",
        "nd_arr.shape\n",
        "# (3, 3)"
      ],
      "metadata": {
        "colab": {
          "base_uri": "https://localhost:8080/"
        },
        "id": "fLqefDXjv-o4",
        "outputId": "e81c299d-2667-4411-9092-ba81e8184cfb"
      },
      "execution_count": 35,
      "outputs": [
        {
          "output_type": "execute_result",
          "data": {
            "text/plain": [
              "(3, 3)"
            ]
          },
          "metadata": {},
          "execution_count": 35
        }
      ]
    },
    {
      "cell_type": "markdown",
      "source": [
        "## Наконец, узнать, сколько «весит» каждый элемент массива в байтах позволяет .itemsize:"
      ],
      "metadata": {
        "id": "2wXMkBnhwDdc"
      }
    },
    {
      "cell_type": "code",
      "source": [
        "arr.itemsize\n",
        "# 1\n",
        "nd_arr.itemsize\n",
        "# 2"
      ],
      "metadata": {
        "colab": {
          "base_uri": "https://localhost:8080/"
        },
        "id": "5jHI76IDwCOY",
        "outputId": "32e6da02-3eee-416d-91f1-f0eb818ebe84"
      },
      "execution_count": 36,
      "outputs": [
        {
          "output_type": "execute_result",
          "data": {
            "text/plain": [
              "2"
            ]
          },
          "metadata": {},
          "execution_count": 36
        }
      ]
    },
    {
      "cell_type": "markdown",
      "source": [
        "# ЗАПОЛНЕНИЕ НОВЫХ МАССИВОВ"
      ],
      "metadata": {
        "id": "11dmdYw-wble"
      }
    },
    {
      "cell_type": "code",
      "source": [
        "zeros_1d = np.zeros(5)\n",
        "zeros_1d\n",
        "# array([0., 0., 0., 0., 0.])"
      ],
      "metadata": {
        "colab": {
          "base_uri": "https://localhost:8080/"
        },
        "id": "A_PB4b90wiCk",
        "outputId": "92cf11a9-7566-4d0e-c265-45bc91ad6fdc"
      },
      "execution_count": 37,
      "outputs": [
        {
          "output_type": "execute_result",
          "data": {
            "text/plain": [
              "array([0., 0., 0., 0., 0.])"
            ]
          },
          "metadata": {},
          "execution_count": 37
        }
      ]
    },
    {
      "cell_type": "code",
      "source": [
        "zeros_1d.itemsize"
      ],
      "metadata": {
        "colab": {
          "base_uri": "https://localhost:8080/"
        },
        "id": "HwTkbyP6xB5U",
        "outputId": "72e749dc-182e-4e43-bb00-370e9ebe1d86"
      },
      "execution_count": 38,
      "outputs": [
        {
          "output_type": "execute_result",
          "data": {
            "text/plain": [
              "8"
            ]
          },
          "metadata": {},
          "execution_count": 38
        }
      ]
    },
    {
      "cell_type": "code",
      "source": [
        "zeros_3d = np.zeros((5,4,3), dtype=np.float32)\n",
        "print(zeros_3d.shape)\n",
        "# (5, 4, 3)"
      ],
      "metadata": {
        "colab": {
          "base_uri": "https://localhost:8080/"
        },
        "id": "HpuFA29VxQiv",
        "outputId": "6793287b-3201-4473-d19a-9c64806ffa8b"
      },
      "execution_count": 39,
      "outputs": [
        {
          "output_type": "stream",
          "name": "stdout",
          "text": [
            "(5, 4, 3)\n"
          ]
        }
      ]
    },
    {
      "cell_type": "code",
      "source": [
        "zeros_3d"
      ],
      "metadata": {
        "colab": {
          "base_uri": "https://localhost:8080/"
        },
        "id": "ZGrRL5VixUfh",
        "outputId": "9d6330dd-feba-4cf9-b872-9a97a36427ae"
      },
      "execution_count": 40,
      "outputs": [
        {
          "output_type": "execute_result",
          "data": {
            "text/plain": [
              "array([[[0., 0., 0.],\n",
              "        [0., 0., 0.],\n",
              "        [0., 0., 0.],\n",
              "        [0., 0., 0.]],\n",
              "\n",
              "       [[0., 0., 0.],\n",
              "        [0., 0., 0.],\n",
              "        [0., 0., 0.],\n",
              "        [0., 0., 0.]],\n",
              "\n",
              "       [[0., 0., 0.],\n",
              "        [0., 0., 0.],\n",
              "        [0., 0., 0.],\n",
              "        [0., 0., 0.]],\n",
              "\n",
              "       [[0., 0., 0.],\n",
              "        [0., 0., 0.],\n",
              "        [0., 0., 0.],\n",
              "        [0., 0., 0.]],\n",
              "\n",
              "       [[0., 0., 0.],\n",
              "        [0., 0., 0.],\n",
              "        [0., 0., 0.],\n",
              "        [0., 0., 0.]]], dtype=float32)"
            ]
          },
          "metadata": {},
          "execution_count": 40
        }
      ]
    },
    {
      "cell_type": "code",
      "source": [
        "np.arange(5)\n",
        "# array([0, 1, 2, 3, 4])"
      ],
      "metadata": {
        "colab": {
          "base_uri": "https://localhost:8080/"
        },
        "id": "qapG_zc8xe2_",
        "outputId": "14821338-c224-4a7e-eefa-8fa8c3561cce"
      },
      "execution_count": 41,
      "outputs": [
        {
          "output_type": "execute_result",
          "data": {
            "text/plain": [
              "array([0, 1, 2, 3, 4])"
            ]
          },
          "metadata": {},
          "execution_count": 41
        }
      ]
    },
    {
      "cell_type": "code",
      "source": [
        "np.arange(2.5, 5)\n",
        "# array([2.5, 3.5, 4.5])"
      ],
      "metadata": {
        "colab": {
          "base_uri": "https://localhost:8080/"
        },
        "id": "Gno-EYLRxf4r",
        "outputId": "644a23d6-b24d-4c88-db36-47d282412c10"
      },
      "execution_count": 42,
      "outputs": [
        {
          "output_type": "execute_result",
          "data": {
            "text/plain": [
              "array([2.5, 3.5, 4.5])"
            ]
          },
          "metadata": {},
          "execution_count": 42
        }
      ]
    },
    {
      "cell_type": "code",
      "source": [
        "np.arange(2.5, 5, 1)\n",
        "# array([2.5, 3. , 3.5, 4. , 4.5])"
      ],
      "metadata": {
        "colab": {
          "base_uri": "https://localhost:8080/"
        },
        "id": "OQ719RV0xjM5",
        "outputId": "577fd002-bfa8-4492-fe2e-7d4da40053ff"
      },
      "execution_count": 44,
      "outputs": [
        {
          "output_type": "execute_result",
          "data": {
            "text/plain": [
              "array([2.5, 3.5, 4.5])"
            ]
          },
          "metadata": {},
          "execution_count": 44
        }
      ]
    },
    {
      "cell_type": "code",
      "source": [
        "np.arange(2.5, 5, 0.5, dtype=np.float16)\n",
        "# array([2.5, 3. , 3.5, 4. , 4.5], dtype=float16)"
      ],
      "metadata": {
        "colab": {
          "base_uri": "https://localhost:8080/"
        },
        "id": "rdPU680FxmUg",
        "outputId": "f42ad14c-9b24-436a-c321-ccf77562ab09"
      },
      "execution_count": 45,
      "outputs": [
        {
          "output_type": "execute_result",
          "data": {
            "text/plain": [
              "array([2.5, 3. , 3.5, 4. , 4.5], dtype=float16)"
            ]
          },
          "metadata": {},
          "execution_count": 45
        }
      ]
    },
    {
      "cell_type": "markdown",
      "source": [
        "## np.linspace(start, stop, num=50, endpoint=True, retstep=False, dtype=None)\n",
        "\n",
        "start и stop являются обязательными параметрами, задающими начало и конец возвращаемого диапазона;\n",
        "\n",
        "num — параметр, задающий число элементов, которое должно оказаться в массиве (по умолчанию 50);\n",
        "\n",
        "endpoint — включён или исключён конец диапазона (по умолчанию включён);\n",
        "\n",
        "retstep (по умолчанию False) позволяет указать, возвращать ли использованный шаг между значениями, помимо самого массива;\n",
        "\n",
        "dtype — уже хорошо знакомый нам параметр, задающий тип данных (если не задан, определяется автоматически)."
      ],
      "metadata": {
        "id": "n6CHKYbwx9JV"
      }
    },
    {
      "cell_type": "code",
      "source": [
        "arr = np.linspace(1, 2, 10)\n",
        "arr\n",
        "# array([1.        , 1.11111111, 1.22222222, 1.33333333, 1.44444444,\n",
        "#        1.55555556, 1.66666667, 1.77777778, 1.88888889, 2.        ])"
      ],
      "metadata": {
        "colab": {
          "base_uri": "https://localhost:8080/"
        },
        "id": "CMQEVvs6yRGx",
        "outputId": "7baef0e9-200f-4e4d-c763-a9aa7750bffb"
      },
      "execution_count": 46,
      "outputs": [
        {
          "output_type": "execute_result",
          "data": {
            "text/plain": [
              "array([1.        , 1.11111111, 1.22222222, 1.33333333, 1.44444444,\n",
              "       1.55555556, 1.66666667, 1.77777778, 1.88888889, 2.        ])"
            ]
          },
          "metadata": {},
          "execution_count": 46
        }
      ]
    },
    {
      "cell_type": "code",
      "source": [
        "arr = np.linspace(1, 2, 10, endpoint=False)\n",
        "arr\n",
        "# array([1. , 1.1, 1.2, 1.3, 1.4, 1.5, 1.6, 1.7, 1.8, 1.9])"
      ],
      "metadata": {
        "colab": {
          "base_uri": "https://localhost:8080/"
        },
        "id": "82Y2BUuVyWFZ",
        "outputId": "d8a41e0d-0c60-47a8-ec7d-5624e1e53727"
      },
      "execution_count": 47,
      "outputs": [
        {
          "output_type": "execute_result",
          "data": {
            "text/plain": [
              "array([1. , 1.1, 1.2, 1.3, 1.4, 1.5, 1.6, 1.7, 1.8, 1.9])"
            ]
          },
          "metadata": {},
          "execution_count": 47
        }
      ]
    },
    {
      "cell_type": "code",
      "source": [
        "arr, step = np.linspace(1, 2, 10, endpoint=True, retstep=True)\n",
        "print(step)\n",
        "# 0.1111111111111111\n",
        "\n",
        "arr, step = np.linspace(1, 2, 10, endpoint=False, retstep=True)\n",
        "print(step)\n",
        "# 0.1"
      ],
      "metadata": {
        "colab": {
          "base_uri": "https://localhost:8080/"
        },
        "id": "rjkbiMxyyXfd",
        "outputId": "f0408b93-b3c2-4375-f3b3-42faaa5f7bd8"
      },
      "execution_count": 48,
      "outputs": [
        {
          "output_type": "stream",
          "name": "stdout",
          "text": [
            "0.1111111111111111\n",
            "0.1\n"
          ]
        }
      ]
    },
    {
      "cell_type": "code",
      "source": [
        "arr, step = np.linspace(-6, 21, 60, endpoint=True, retstep=True)\n",
        "print(step)\n",
        "# 0.1111111111111111\n",
        "\n",
        "arr, step = np.linspace(-6, 21, 60, endpoint=False, retstep=True)\n",
        "print(step)\n",
        "# 0.1"
      ],
      "metadata": {
        "colab": {
          "base_uri": "https://localhost:8080/"
        },
        "id": "b4AopKOnyaM0",
        "outputId": "23a0d044-a606-4237-eee7-cb5f8e11330b"
      },
      "execution_count": 49,
      "outputs": [
        {
          "output_type": "stream",
          "name": "stdout",
          "text": [
            "0.4576271186440678\n",
            "0.45\n"
          ]
        }
      ]
    },
    {
      "cell_type": "markdown",
      "source": [
        "# Модуль NumPy. Действия с массивами"
      ],
      "metadata": {
        "id": "7u_RkigD0ZWS"
      }
    },
    {
      "cell_type": "code",
      "source": [
        "import numpy as np\n",
        "arr = np.arange(8)\n",
        "arr\n",
        "# array([0, 1, 2, 3, 4, 5, 6, 7])"
      ],
      "metadata": {
        "colab": {
          "base_uri": "https://localhost:8080/"
        },
        "id": "Rv5ez9dU0hQK",
        "outputId": "19154bfd-eeec-47ef-c624-3e61edc3c675"
      },
      "execution_count": 55,
      "outputs": [
        {
          "output_type": "execute_result",
          "data": {
            "text/plain": [
              "array([0, 1, 2, 3, 4, 5, 6, 7])"
            ]
          },
          "metadata": {},
          "execution_count": 55
        }
      ]
    },
    {
      "cell_type": "code",
      "source": [
        "arr.shape = (2, 2, 2)\n",
        "#arr.shape = (2, 4)\n",
        "arr\n",
        "# array([[0, 1, 2, 3],\n",
        "#        [4, 5, 6, 7]])"
      ],
      "metadata": {
        "colab": {
          "base_uri": "https://localhost:8080/"
        },
        "id": "vxMdxzey0izm",
        "outputId": "c189b389-14f1-4c3c-ce0a-62507dfaa267"
      },
      "execution_count": 59,
      "outputs": [
        {
          "output_type": "execute_result",
          "data": {
            "text/plain": [
              "array([[0, 1, 2, 3],\n",
              "       [4, 5, 6, 7]])"
            ]
          },
          "metadata": {},
          "execution_count": 59
        }
      ]
    },
    {
      "cell_type": "code",
      "source": [
        "arr = np.arange(8)\n",
        "arr_new = arr.reshape((2, 4))\n",
        "arr_new\n",
        "# array([[0, 1, 2, 3],\n",
        "#       [4, 5, 6, 7]])"
      ],
      "metadata": {
        "colab": {
          "base_uri": "https://localhost:8080/"
        },
        "id": "KHMg7ubd00Xh",
        "outputId": "efb7d6b6-4aed-4581-81c8-0d6ea0a44c01"
      },
      "execution_count": 60,
      "outputs": [
        {
          "output_type": "execute_result",
          "data": {
            "text/plain": [
              "array([[0, 1, 2, 3],\n",
              "       [4, 5, 6, 7]])"
            ]
          },
          "metadata": {},
          "execution_count": 60
        }
      ]
    },
    {
      "cell_type": "code",
      "source": [
        "# У функции reshape есть дополнительный именованный аргумент order.\n",
        "# Он задаёт принцип, по которому элементы заполняют массив новой формы.\n",
        "# Если order='C' (по умолчанию), массив заполняется по строкам, как в примере выше.\n",
        "# Если order='F', массив заполняется числами по столбцам:\n",
        "\n",
        "arr = np.arange(8)\n",
        "arr_new = arr.reshape((2, 4), order='F')\n",
        "arr_new\n",
        "# array([[0, 2, 4, 6],\n",
        "#       [1, 3, 5, 7]])"
      ],
      "metadata": {
        "colab": {
          "base_uri": "https://localhost:8080/"
        },
        "id": "DHkwaNzM08xE",
        "outputId": "eae0b47a-d2f8-4593-b56c-77b3be63fc0b"
      },
      "execution_count": 63,
      "outputs": [
        {
          "output_type": "execute_result",
          "data": {
            "text/plain": [
              "array([[0, 2, 4, 6],\n",
              "       [1, 3, 5, 7]])"
            ]
          },
          "metadata": {},
          "execution_count": 63
        }
      ]
    },
    {
      "cell_type": "code",
      "source": [
        "arr = np.arange(8)\n",
        "arr.shape = (2, 4)\n",
        "arr\n",
        "# array([[0, 1, 2, 3],\n",
        "#        [4, 5, 6, 7]])"
      ],
      "metadata": {
        "colab": {
          "base_uri": "https://localhost:8080/"
        },
        "id": "68v9-1Zi2lWf",
        "outputId": "27dbe500-4d21-48b6-b841-135e517b6ace"
      },
      "execution_count": 67,
      "outputs": [
        {
          "output_type": "execute_result",
          "data": {
            "text/plain": [
              "array([[0, 1, 2, 3],\n",
              "       [4, 5, 6, 7]])"
            ]
          },
          "metadata": {},
          "execution_count": 67
        }
      ]
    },
    {
      "cell_type": "code",
      "source": [
        "arr_trans = arr.transpose()\n",
        "arr_trans\n",
        "# array([[0, 4],\n",
        "#        [1, 5],\n",
        "#        [2, 6],\n",
        "#        [3, 7]])"
      ],
      "metadata": {
        "colab": {
          "base_uri": "https://localhost:8080/"
        },
        "id": "tuXGI5xm0-Hk",
        "outputId": "2ed36974-1fe6-4814-c9b1-972db9b0d718"
      },
      "execution_count": 69,
      "outputs": [
        {
          "output_type": "execute_result",
          "data": {
            "text/plain": [
              "array([[0, 4],\n",
              "       [1, 5],\n",
              "       [2, 6],\n",
              "       [3, 7]])"
            ]
          },
          "metadata": {},
          "execution_count": 69
        }
      ]
    },
    {
      "cell_type": "markdown",
      "source": [
        "# ИНДЕКСЫ И СРЕЗЫ В МАССИВАХ"
      ],
      "metadata": {
        "id": "YdW6VXB628On"
      }
    },
    {
      "cell_type": "code",
      "source": [
        "arr = np.linspace(1, 2, 6)\n",
        "arr\n",
        "# array([1. , 1.2, 1.4, 1.6, 1.8, 2. ])"
      ],
      "metadata": {
        "colab": {
          "base_uri": "https://localhost:8080/"
        },
        "id": "3W0gsk1u29ps",
        "outputId": "e4ae98b2-9f12-4a01-c270-7193d625b39f"
      },
      "execution_count": 70,
      "outputs": [
        {
          "output_type": "execute_result",
          "data": {
            "text/plain": [
              "array([1. , 1.2, 1.4, 1.6, 1.8, 2. ])"
            ]
          },
          "metadata": {},
          "execution_count": 70
        }
      ]
    },
    {
      "cell_type": "code",
      "source": [
        "print(arr[2])\n",
        "# 1.4"
      ],
      "metadata": {
        "colab": {
          "base_uri": "https://localhost:8080/"
        },
        "id": "Q0w_A7KV2_lC",
        "outputId": "3eee2a8c-0628-4f89-febc-cb70a838a4bb"
      },
      "execution_count": 71,
      "outputs": [
        {
          "output_type": "stream",
          "name": "stdout",
          "text": [
            "1.4\n"
          ]
        }
      ]
    },
    {
      "cell_type": "code",
      "source": [
        "\n",
        "print(arr[2:4])\n",
        "# [1.4 1.6]\n"
      ],
      "metadata": {
        "colab": {
          "base_uri": "https://localhost:8080/"
        },
        "id": "gOqJUAaW4HbJ",
        "outputId": "3a42e8ad-968f-427d-bb6c-7436eae3b41a"
      },
      "execution_count": 72,
      "outputs": [
        {
          "output_type": "stream",
          "name": "stdout",
          "text": [
            "[1.4 1.6]\n"
          ]
        }
      ]
    },
    {
      "cell_type": "code",
      "source": [
        "print(arr[::-1])\n",
        "# [2.  1.8 1.6 1.4 1.2 1. ]"
      ],
      "metadata": {
        "colab": {
          "base_uri": "https://localhost:8080/"
        },
        "id": "8N7HSb7v4gDA",
        "outputId": "1bac948b-966c-43be-b47f-55d0a924474e"
      },
      "execution_count": 73,
      "outputs": [
        {
          "output_type": "stream",
          "name": "stdout",
          "text": [
            "[2.  1.8 1.6 1.4 1.2 1. ]\n"
          ]
        }
      ]
    },
    {
      "cell_type": "code",
      "source": [
        "nd_array =  np.linspace(0, 6, 12, endpoint=False).reshape(3,4)\n",
        "nd_array\n",
        "# array([[0. , 0.5, 1. , 1.5],\n",
        "#        [2. , 2.5, 3. , 3.5],\n",
        "#        [4. , 4.5, 5. , 5.5]])"
      ],
      "metadata": {
        "colab": {
          "base_uri": "https://localhost:8080/"
        },
        "id": "p8JEP0fY4hNq",
        "outputId": "efa0839d-9e98-47bf-daf4-ba3999c6237e"
      },
      "execution_count": 74,
      "outputs": [
        {
          "output_type": "execute_result",
          "data": {
            "text/plain": [
              "array([[0. , 0.5, 1. , 1.5],\n",
              "       [2. , 2.5, 3. , 3.5],\n",
              "       [4. , 4.5, 5. , 5.5]])"
            ]
          },
          "metadata": {},
          "execution_count": 74
        }
      ]
    },
    {
      "cell_type": "code",
      "source": [
        "nd_array[1][2]\n",
        "# 3.0"
      ],
      "metadata": {
        "colab": {
          "base_uri": "https://localhost:8080/"
        },
        "id": "VsCy66aT4p4v",
        "outputId": "088e4b73-0fe2-47ef-ee36-3795ebd1eaa5"
      },
      "execution_count": 75,
      "outputs": [
        {
          "output_type": "execute_result",
          "data": {
            "text/plain": [
              "3.0"
            ]
          },
          "metadata": {},
          "execution_count": 75
        }
      ]
    },
    {
      "cell_type": "code",
      "source": [
        "nd_array[1, 2]\n",
        "# 3.0"
      ],
      "metadata": {
        "colab": {
          "base_uri": "https://localhost:8080/"
        },
        "id": "5vVxFp6T4rH5",
        "outputId": "9e6ac28b-7d36-4f63-849a-c5a26b18798c"
      },
      "execution_count": 76,
      "outputs": [
        {
          "output_type": "execute_result",
          "data": {
            "text/plain": [
              "3.0"
            ]
          },
          "metadata": {},
          "execution_count": 76
        }
      ]
    },
    {
      "cell_type": "code",
      "source": [
        "nd_array[:2, 2]\n",
        "# array([1., 3.])"
      ],
      "metadata": {
        "colab": {
          "base_uri": "https://localhost:8080/"
        },
        "id": "UKRkb_Sq4xmC",
        "outputId": "444b7ca0-2c1b-4247-edef-dbf8cf2c08e4"
      },
      "execution_count": 77,
      "outputs": [
        {
          "output_type": "execute_result",
          "data": {
            "text/plain": [
              "array([1., 3.])"
            ]
          },
          "metadata": {},
          "execution_count": 77
        }
      ]
    },
    {
      "cell_type": "code",
      "source": [
        "nd_array[1:, 2:4]\n",
        "# array([[3. , 3.5],\n",
        "#       [5. , 5.5]])"
      ],
      "metadata": {
        "colab": {
          "base_uri": "https://localhost:8080/"
        },
        "id": "RAzAA7uA475S",
        "outputId": "88689cb1-f6be-4e4c-8f07-d056471196b3"
      },
      "execution_count": 78,
      "outputs": [
        {
          "output_type": "execute_result",
          "data": {
            "text/plain": [
              "array([[3. , 3.5],\n",
              "       [5. , 5.5]])"
            ]
          },
          "metadata": {},
          "execution_count": 78
        }
      ]
    },
    {
      "cell_type": "code",
      "source": [
        "nd_array[:, 2:4]\n",
        "# array([[1. , 1.5],\n",
        "#       [3. , 3.5],\n",
        "#       [5. , 5.5]])"
      ],
      "metadata": {
        "colab": {
          "base_uri": "https://localhost:8080/"
        },
        "id": "98Iu87qe5DpE",
        "outputId": "76e0b552-fd9c-4710-f66a-399d00c16548"
      },
      "execution_count": 79,
      "outputs": [
        {
          "output_type": "execute_result",
          "data": {
            "text/plain": [
              "array([[1. , 1.5],\n",
              "       [3. , 3.5],\n",
              "       [5. , 5.5]])"
            ]
          },
          "metadata": {},
          "execution_count": 79
        }
      ]
    },
    {
      "cell_type": "code",
      "source": [
        "nd_array[:2]\n",
        "# array([[0. , 0.5, 1. , 1.5],\n",
        "#       [2. , 2.5, 3. , 3.5]])"
      ],
      "metadata": {
        "colab": {
          "base_uri": "https://localhost:8080/"
        },
        "id": "dyN0xRsW5HE-",
        "outputId": "7ea0d7f9-0ca6-4314-9e15-9c4a65901f60"
      },
      "execution_count": 80,
      "outputs": [
        {
          "output_type": "execute_result",
          "data": {
            "text/plain": [
              "array([[0. , 0.5, 1. , 1.5],\n",
              "       [2. , 2.5, 3. , 3.5]])"
            ]
          },
          "metadata": {},
          "execution_count": 80
        }
      ]
    },
    {
      "cell_type": "code",
      "source": [
        "mystery = np.array([[-13586,  15203,  28445, -27117,  -1781, -17182, -18049],\n",
        "                    [ 25936, -30968,  -1297,  -4593,   6451,  15790,   7181],\n",
        "                    [ 13348,  28049,  28655,  -6012,  21762,  25397,   8225],\n",
        "                    [ 13240,   7994,  32592,  20149,  13754,  11795,   -564],\n",
        "                    [-21725,  -8681,  30305,  22260, -17918,  12578,  29943],\n",
        "                    [-16841, -25392, -17278,  11740,   5916,    -47, -32037]],\n",
        "                     dtype=np.int16)"
      ],
      "metadata": {
        "id": "mnHnn4Ix5Kk7"
      },
      "execution_count": 81,
      "outputs": []
    },
    {
      "cell_type": "code",
      "source": [
        "elem_5_3 = mystery[4, 2]\n",
        "print(elem_5_3)\n",
        "last = mystery[-1, -1]\n",
        "print(last)\n",
        "line_4 = mystery[3]\n",
        "print(line_4)\n",
        "col_2 = mystery[:, -2]\n",
        "print(col_2)\n",
        "part = mystery[1:4, 2:5]\n",
        "print(part)\n",
        "rev = mystery[:, -1]\n",
        "rev = rev[::-1]\n",
        "print(rev)\n",
        "trans = mystery.transpose()\n",
        "print(trans)\n"
      ],
      "metadata": {
        "colab": {
          "base_uri": "https://localhost:8080/"
        },
        "id": "adwvmFJl5Sxt",
        "outputId": "7d039a4d-62d8-4bc4-dd31-8c8a80d10485"
      },
      "execution_count": 91,
      "outputs": [
        {
          "output_type": "stream",
          "name": "stdout",
          "text": [
            "30305\n",
            "-32037\n",
            "[13240  7994 32592 20149 13754 11795  -564]\n",
            "[-17182  15790  25397  11795  12578    -47]\n",
            "[[-1297 -4593  6451]\n",
            " [28655 -6012 21762]\n",
            " [32592 20149 13754]]\n",
            "[-32037  29943   -564   8225   7181 -18049]\n",
            "[[-13586  25936  13348  13240 -21725 -16841]\n",
            " [ 15203 -30968  28049   7994  -8681 -25392]\n",
            " [ 28445  -1297  28655  32592  30305 -17278]\n",
            " [-27117  -4593  -6012  20149  22260  11740]\n",
            " [ -1781   6451  21762  13754 -17918   5916]\n",
            " [-17182  15790  25397  11795  12578    -47]\n",
            " [-18049   7181   8225   -564  29943 -32037]]\n"
          ]
        }
      ]
    },
    {
      "cell_type": "markdown",
      "source": [
        "## СОРТИРОВКА ОДНОМЕРНЫХ МАССИВОВ"
      ],
      "metadata": {
        "id": "kceFEOEX-qre"
      }
    },
    {
      "cell_type": "code",
      "source": [
        "arr = np.array([23,12,45,12,23,4,15,3])\n",
        "arr_new = np.sort(arr)\n",
        "print(arr)\n",
        "# [23 12 45 12 23  4 15  3]\n",
        "print(arr_new)\n",
        "# [ 3  4 12 12 15 23 23 45]"
      ],
      "metadata": {
        "colab": {
          "base_uri": "https://localhost:8080/"
        },
        "id": "555SYiG7-qVl",
        "outputId": "2c96caff-2193-4a85-e57a-65392d50ca7f"
      },
      "execution_count": 92,
      "outputs": [
        {
          "output_type": "stream",
          "name": "stdout",
          "text": [
            "[23 12 45 12 23  4 15  3]\n",
            "[ 3  4 12 12 15 23 23 45]\n"
          ]
        }
      ]
    },
    {
      "cell_type": "code",
      "source": [
        "arr = np.array([23,12,45,12,23,4,15,3])\n",
        "print(arr.sort())\n",
        "# None\n",
        "print(arr)\n",
        "# [ 3  4 12 12 15 23 23 45]"
      ],
      "metadata": {
        "colab": {
          "base_uri": "https://localhost:8080/"
        },
        "id": "Gbas7ts1-x-g",
        "outputId": "8759ab41-8e03-4d78-edbf-e071b4fce577"
      },
      "execution_count": 94,
      "outputs": [
        {
          "output_type": "stream",
          "name": "stdout",
          "text": [
            "None\n",
            "[ 3  4 12 12 15 23 23 45]\n"
          ]
        }
      ]
    },
    {
      "cell_type": "markdown",
      "source": [
        "## РАБОТА С ПРОПУЩЕННЫМИ ДАННЫМИ"
      ],
      "metadata": {
        "id": "FxtynnUk-_KD"
      }
    },
    {
      "cell_type": "code",
      "source": [
        "data = np.array([4, 9, -4, 3])"
      ],
      "metadata": {
        "id": "-orIAMij-7Hd"
      },
      "execution_count": 95,
      "outputs": []
    },
    {
      "cell_type": "code",
      "source": [
        "roots = np.sqrt(data)\n",
        "roots\n",
        "# RuntimeWarning: invalid value encountered in sqrt\n",
        "# array([2.        , 3.        ,        nan, 1.73205081])"
      ],
      "metadata": {
        "colab": {
          "base_uri": "https://localhost:8080/"
        },
        "id": "9NcXasVx_FUD",
        "outputId": "6a9990f0-1cd0-4b86-c950-d98bae257fe0"
      },
      "execution_count": 96,
      "outputs": [
        {
          "output_type": "stream",
          "name": "stderr",
          "text": [
            "<ipython-input-96-b84b0d3d488d>:1: RuntimeWarning: invalid value encountered in sqrt\n",
            "  roots = np.sqrt(data)\n"
          ]
        },
        {
          "output_type": "execute_result",
          "data": {
            "text/plain": [
              "array([2.        , 3.        ,        nan, 1.73205081])"
            ]
          },
          "metadata": {},
          "execution_count": 96
        }
      ]
    },
    {
      "cell_type": "code",
      "source": [
        "# Отличие 1. None является отдельным объектом типа NoneType.\n",
        "# np.nan — это отдельный представитель класса float:\n",
        "\n",
        "print(type(None))\n",
        "# <class 'NoneType'>\n",
        "print(type(np.nan))\n",
        "# <class 'float'>\n",
        "type(np.nan)\n"
      ],
      "metadata": {
        "colab": {
          "base_uri": "https://localhost:8080/"
        },
        "id": "Ok1hslZV_Hec",
        "outputId": "d027757c-ed1b-4316-99d7-bfa6fece7900"
      },
      "execution_count": 98,
      "outputs": [
        {
          "output_type": "stream",
          "name": "stdout",
          "text": [
            "<class 'NoneType'>\n",
            "<class 'float'>\n"
          ]
        },
        {
          "output_type": "execute_result",
          "data": {
            "text/plain": [
              "float"
            ]
          },
          "metadata": {},
          "execution_count": 98
        }
      ]
    },
    {
      "cell_type": "code",
      "source": [
        "# Отличие 2. None могут быть равны друг другу, а np.nan — нет:\n",
        "\n",
        "print(None == None)\n",
        "# True\n",
        "print(np.nan == np.nan)\n",
        "# False\n"
      ],
      "metadata": {
        "colab": {
          "base_uri": "https://localhost:8080/"
        },
        "id": "Qb9IQW_c_nOH",
        "outputId": "a65748ba-8cb5-4749-c211-6e75debb8d17"
      },
      "execution_count": 99,
      "outputs": [
        {
          "output_type": "stream",
          "name": "stdout",
          "text": [
            "True\n",
            "False\n"
          ]
        }
      ]
    },
    {
      "cell_type": "code",
      "source": [
        "# Как вы помните, чтобы грамотно сравнить что-либо с None, необходимо использовать оператор is.\n",
        "# Это ещё более актуально для np.nan.\n",
        "# Однако None даже через is не является эквивалентным np.nan:\n",
        "\n",
        "print(None is None)\n",
        "# True\n",
        "print(np.nan is np.nan)\n",
        "# True\n",
        "print(np.nan is None)\n",
        "# False\n"
      ],
      "metadata": {
        "colab": {
          "base_uri": "https://localhost:8080/"
        },
        "id": "ckHcIhr1_rjb",
        "outputId": "a8bb9c8b-7431-4554-ef3d-ad463f6919c6"
      },
      "execution_count": 100,
      "outputs": [
        {
          "output_type": "stream",
          "name": "stdout",
          "text": [
            "True\n",
            "True\n",
            "False\n"
          ]
        }
      ]
    },
    {
      "cell_type": "code",
      "source": [
        "sum(roots)\n",
        "# nan\n"
      ],
      "metadata": {
        "colab": {
          "base_uri": "https://localhost:8080/"
        },
        "id": "rHkUGheDADYp",
        "outputId": "345a83b9-c049-4b97-bafc-cd05940a370b"
      },
      "execution_count": 101,
      "outputs": [
        {
          "output_type": "execute_result",
          "data": {
            "text/plain": [
              "nan"
            ]
          },
          "metadata": {},
          "execution_count": 101
        }
      ]
    },
    {
      "cell_type": "code",
      "source": [
        "np.isnan(roots)\n",
        "# array([False, False,  True, False])\n"
      ],
      "metadata": {
        "colab": {
          "base_uri": "https://localhost:8080/"
        },
        "id": "loefxSRMAEbO",
        "outputId": "219a7621-9e2a-4fcb-ff34-5184d7e79b55"
      },
      "execution_count": 102,
      "outputs": [
        {
          "output_type": "execute_result",
          "data": {
            "text/plain": [
              "array([False, False,  True, False])"
            ]
          },
          "metadata": {},
          "execution_count": 102
        }
      ]
    },
    {
      "cell_type": "code",
      "source": [
        "roots[np.isnan(roots)]\n",
        "# array([nan])"
      ],
      "metadata": {
        "colab": {
          "base_uri": "https://localhost:8080/"
        },
        "id": "pgTcI6zBA7kC",
        "outputId": "552c040b-06fc-4556-c395-34c8c0cb7f06"
      },
      "execution_count": 103,
      "outputs": [
        {
          "output_type": "execute_result",
          "data": {
            "text/plain": [
              "array([nan])"
            ]
          },
          "metadata": {},
          "execution_count": 103
        }
      ]
    },
    {
      "cell_type": "code",
      "source": [
        "roots[np.isnan(roots)] = 0\n",
        "roots\n",
        "# array([2.        , 3.        , 0.        , 1.73205081])"
      ],
      "metadata": {
        "colab": {
          "base_uri": "https://localhost:8080/"
        },
        "id": "gQWPXF8IA9AM",
        "outputId": "fb99a421-606e-4652-adba-8ffede5f64f8"
      },
      "execution_count": 104,
      "outputs": [
        {
          "output_type": "execute_result",
          "data": {
            "text/plain": [
              "array([2.        , 3.        , 0.        , 1.73205081])"
            ]
          },
          "metadata": {},
          "execution_count": 104
        }
      ]
    },
    {
      "cell_type": "code",
      "source": [
        "sum(roots)\n",
        "# 6.732050807568877"
      ],
      "metadata": {
        "colab": {
          "base_uri": "https://localhost:8080/"
        },
        "id": "_LrxD9esBAVn",
        "outputId": "4e79b10c-4c5d-4577-a11c-f4f8516da287"
      },
      "execution_count": 105,
      "outputs": [
        {
          "output_type": "execute_result",
          "data": {
            "text/plain": [
              "6.732050807568877"
            ]
          },
          "metadata": {},
          "execution_count": 105
        }
      ]
    },
    {
      "cell_type": "code",
      "source": [
        "mystery = np.array([ 12279., -26024.,  28745.,  np.nan,  31244.,  -2365.,  -6974.,\n",
        "                     -9212., np.nan, -17722.,  16132.,  25933.,  np.nan, -16431.,\n",
        "                     29810.], dtype=np.float32)"
      ],
      "metadata": {
        "id": "bsRtNL8hBR1D"
      },
      "execution_count": 152,
      "outputs": []
    },
    {
      "cell_type": "code",
      "source": [
        "from collections import Counter\n",
        "\n",
        "nans_index = np.isnan(mystery)\n",
        "print(nans_index)\n",
        "\n",
        "n_nan = Counter(nans_index)[1]\n",
        "print(n_nan)\n",
        "\n",
        "mystery_int = np.array(mystery, dtype=np.int32)\n",
        "print(mystery_int)\n",
        "\n",
        "array = np.sort(mystery)\n",
        "print(array)\n",
        "\n",
        "table = array.reshape((5, 3), order='F')\n",
        "print(table)\n",
        "\n",
        "mystery_new = mystery.copy()\n",
        "\n",
        "mystery_new[np.isnan(mystery_new)] = 0\n",
        "print(mystery_new)\n",
        "\n",
        "col=table[:, -2]\n",
        "print(col)\n",
        "\n",
        "\n"
      ],
      "metadata": {
        "colab": {
          "base_uri": "https://localhost:8080/"
        },
        "id": "E_MOpe2xBb8_",
        "outputId": "d6c58e4c-6717-43f6-9f81-efe71ec4a30c"
      },
      "execution_count": 156,
      "outputs": [
        {
          "output_type": "stream",
          "name": "stdout",
          "text": [
            "[False False False  True False False False False  True False False False\n",
            "  True False False]\n",
            "3\n",
            "[      12279      -26024       28745 -2147483648       31244       -2365\n",
            "       -6974       -9212 -2147483648      -17722       16132       25933\n",
            " -2147483648      -16431       29810]\n",
            "[-26024. -17722. -16431.  -9212.  -6974.  -2365.  12279.  16132.  25933.\n",
            "  28745.  29810.  31244.     nan     nan     nan]\n",
            "[[-26024.  -2365.  29810.]\n",
            " [-17722.  12279.  31244.]\n",
            " [-16431.  16132.     nan]\n",
            " [ -9212.  25933.     nan]\n",
            " [ -6974.  28745.     nan]]\n",
            "[ 12279. -26024.  28745.      0.  31244.  -2365.  -6974.  -9212.      0.\n",
            " -17722.  16132.  25933.      0. -16431.  29810.]\n",
            "[-2365. 12279. 16132. 25933. 28745.]\n"
          ]
        },
        {
          "output_type": "execute_result",
          "data": {
            "text/plain": [
              "array([[-26024.,  -2365.,  29810.],\n",
              "       [-17722.,  12279.,  31244.],\n",
              "       [-16431.,  16132.,     nan],\n",
              "       [ -9212.,  25933.,     nan],\n",
              "       [ -6974.,  28745.,     nan]], dtype=float32)"
            ]
          },
          "metadata": {},
          "execution_count": 156
        }
      ]
    },
    {
      "cell_type": "markdown",
      "source": [
        "# Модуль NumPy. Операции с векторами"
      ],
      "metadata": {
        "id": "hqGrJeEAOG5S"
      }
    },
    {
      "cell_type": "code",
      "source": [
        "import numpy as np\n",
        "vec1 = np.array([2, 4, 7, 2.5])\n",
        "vec2 = np.array([12, 6, 3.6, 13])\n",
        "vec1 + vec2\n",
        "# array([14. , 10. , 10.6, 15.5])"
      ],
      "metadata": {
        "colab": {
          "base_uri": "https://localhost:8080/"
        },
        "id": "MPgXoxStM4Op",
        "outputId": "65213e25-1943-41ae-99ac-3e725e2ff7c9"
      },
      "execution_count": 157,
      "outputs": [
        {
          "output_type": "execute_result",
          "data": {
            "text/plain": [
              "array([14. , 10. , 10.6, 15.5])"
            ]
          },
          "metadata": {},
          "execution_count": 157
        }
      ]
    },
    {
      "cell_type": "code",
      "source": [
        "list1 = [2, 4, 7, 2.5]\n",
        "list2 = [12, 6, 3.6, 13]\n",
        "list1 + list2\n",
        "# [2, 4, 7, 2.5, 12, 6, 3.6, 13]"
      ],
      "metadata": {
        "colab": {
          "base_uri": "https://localhost:8080/"
        },
        "id": "2UndmKOyQ3BR",
        "outputId": "d5f26d79-4fd6-4d8c-9cef-451cf59db0f6"
      },
      "execution_count": 159,
      "outputs": [
        {
          "output_type": "execute_result",
          "data": {
            "text/plain": [
              "[2, 4, 7, 2.5, 12, 6, 3.6, 13]"
            ]
          },
          "metadata": {},
          "execution_count": 159
        }
      ]
    },
    {
      "cell_type": "code",
      "source": [
        "[x + y for x, y in zip(list1, list2)]\n",
        "# [14, 10, 10.6, 15.5]"
      ],
      "metadata": {
        "colab": {
          "base_uri": "https://localhost:8080/"
        },
        "id": "_a_KvEZcP6Xk",
        "outputId": "3ceb5d77-16d0-4734-d258-f96bd12576bc"
      },
      "execution_count": 160,
      "outputs": [
        {
          "output_type": "execute_result",
          "data": {
            "text/plain": [
              "[14, 10, 10.6, 15.5]"
            ]
          },
          "metadata": {},
          "execution_count": 160
        }
      ]
    },
    {
      "cell_type": "code",
      "source": [
        "vec1 = np.array([2, 4, 7, 2.5])\n",
        "vec2 = np.array([12, 6, 3.6, 13])\n",
        "vec1 * vec2\n",
        "# array([24. , 24. , 25.2, 32.5])"
      ],
      "metadata": {
        "colab": {
          "base_uri": "https://localhost:8080/"
        },
        "id": "0GtOl91IQzsf",
        "outputId": "070566a2-d769-437f-9770-1c0bc3d5ba47"
      },
      "execution_count": 161,
      "outputs": [
        {
          "output_type": "execute_result",
          "data": {
            "text/plain": [
              "array([24. , 24. , 25.2, 32.5])"
            ]
          },
          "metadata": {},
          "execution_count": 161
        }
      ]
    },
    {
      "cell_type": "code",
      "source": [
        "vec = np.arange(5)\n",
        "vec * 10\n",
        "# array([ 0, 10, 20, 30, 40])\n",
        "vec ** 2\n",
        "# array([ 0,  1,  4,  9, 16])"
      ],
      "metadata": {
        "colab": {
          "base_uri": "https://localhost:8080/"
        },
        "id": "zPzr8rPoRCQU",
        "outputId": "002d1ac9-1e85-4d24-f33e-9f600b5bd3ab"
      },
      "execution_count": 162,
      "outputs": [
        {
          "output_type": "execute_result",
          "data": {
            "text/plain": [
              "array([ 0,  1,  4,  9, 16])"
            ]
          },
          "metadata": {},
          "execution_count": 162
        }
      ]
    },
    {
      "cell_type": "code",
      "source": [
        "vec1 = np.array([2, 4, 7, 2.5])\n",
        "vec2 = np.array([12, 6, 3.6, 13])\n",
        "\n",
        "vec1 > vec2\n",
        "# array([False, False,  True, False])"
      ],
      "metadata": {
        "colab": {
          "base_uri": "https://localhost:8080/"
        },
        "id": "kJCYfzapRDYL",
        "outputId": "b3f5c3af-d810-4e4a-d3b4-16d170a0a9f6"
      },
      "execution_count": 163,
      "outputs": [
        {
          "output_type": "execute_result",
          "data": {
            "text/plain": [
              "array([False, False,  True, False])"
            ]
          },
          "metadata": {},
          "execution_count": 163
        }
      ]
    },
    {
      "cell_type": "code",
      "source": [
        "vec = np.array([14,15,9,26,53,5,89])\n",
        "vec <= 26\n",
        "# array([ True,  True,  True,  True, False,  True, False])"
      ],
      "metadata": {
        "colab": {
          "base_uri": "https://localhost:8080/"
        },
        "id": "auhG5WcsRGTV",
        "outputId": "e1aae7fa-7c34-432b-f4bb-15c318661721"
      },
      "execution_count": 164,
      "outputs": [
        {
          "output_type": "execute_result",
          "data": {
            "text/plain": [
              "array([ True,  True,  True,  True, False,  True, False])"
            ]
          },
          "metadata": {},
          "execution_count": 164
        }
      ]
    },
    {
      "cell_type": "markdown",
      "source": [
        "## ПРОДВИНУТЫЕ ОПЕРАЦИИ С ВЕКТОРАМИ"
      ],
      "metadata": {
        "id": "g9Rv05HwRuGY"
      }
    },
    {
      "cell_type": "code",
      "source": [
        "# Длина\n",
        "vec = np.array([3, 4])\n",
        "length = np.sqrt(np.sum(vec ** 2))\n",
        "print(length)\n",
        "# 5.0"
      ],
      "metadata": {
        "colab": {
          "base_uri": "https://localhost:8080/"
        },
        "id": "b-znYbCURsxq",
        "outputId": "25f479b2-e5c0-4c33-b006-c5a3f5a5596b"
      },
      "execution_count": 165,
      "outputs": [
        {
          "output_type": "stream",
          "name": "stdout",
          "text": [
            "5.0\n"
          ]
        }
      ]
    },
    {
      "cell_type": "code",
      "source": [
        "length = np.linalg.norm(vec)\n",
        "print(length)\n",
        "# 5.0"
      ],
      "metadata": {
        "colab": {
          "base_uri": "https://localhost:8080/"
        },
        "id": "hDF8kUAzR7w0",
        "outputId": "013e805f-e7c2-4963-84d0-2325e991ffd3"
      },
      "execution_count": 166,
      "outputs": [
        {
          "output_type": "stream",
          "name": "stdout",
          "text": [
            "5.0\n"
          ]
        }
      ]
    },
    {
      "cell_type": "code",
      "source": [
        "# Расстояние\n",
        "vec1 = np.array([0, 3, 5])\n",
        "vec2 = np.array([12, 4, 7])\n",
        "distance = np.sqrt(np.sum((vec1 - vec2) ** 2))\n",
        "distance\n",
        "# 12.206555615733702"
      ],
      "metadata": {
        "colab": {
          "base_uri": "https://localhost:8080/"
        },
        "id": "Mv4JzYBPR_2t",
        "outputId": "98787b18-1581-4475-8779-ba2ad5860cdd"
      },
      "execution_count": 167,
      "outputs": [
        {
          "output_type": "execute_result",
          "data": {
            "text/plain": [
              "12.206555615733702"
            ]
          },
          "metadata": {},
          "execution_count": 167
        }
      ]
    },
    {
      "cell_type": "code",
      "source": [
        "vec1 = np.array([0, 3, 5])\n",
        "vec2 = np.array([12, 4, 7])\n",
        "distance = np.linalg.norm(vec1 - vec2)\n",
        "distance\n",
        "# 12.206555615733702"
      ],
      "metadata": {
        "colab": {
          "base_uri": "https://localhost:8080/"
        },
        "id": "vHv5rv1ASMXW",
        "outputId": "91599cbf-0905-4ecf-fa9f-2ffabf37a81e"
      },
      "execution_count": 168,
      "outputs": [
        {
          "output_type": "execute_result",
          "data": {
            "text/plain": [
              "12.206555615733702"
            ]
          },
          "metadata": {},
          "execution_count": 168
        }
      ]
    },
    {
      "cell_type": "code",
      "source": [
        "# Cкалярное произведение\n",
        "vec1 = np.arange(1, 6)\n",
        "vec2 = np.linspace(10, 20, 5)\n",
        "scalar_product = np.sum(vec1 * vec2)\n",
        "scalar_product\n",
        "# 250.0"
      ],
      "metadata": {
        "colab": {
          "base_uri": "https://localhost:8080/"
        },
        "id": "pYj42F1jSa2m",
        "outputId": "5dbb86ce-7616-417e-afc2-04988803ffa8"
      },
      "execution_count": 169,
      "outputs": [
        {
          "output_type": "execute_result",
          "data": {
            "text/plain": [
              "250.0"
            ]
          },
          "metadata": {},
          "execution_count": 169
        }
      ]
    },
    {
      "cell_type": "code",
      "source": [
        "scalar_product = np.dot(vec1, vec2)\n",
        "scalar_product\n",
        "# 250.0"
      ],
      "metadata": {
        "colab": {
          "base_uri": "https://localhost:8080/"
        },
        "id": "yfF1hn_uS6tM",
        "outputId": "e267e3d1-473e-4005-aff3-e63fcd24068f"
      },
      "execution_count": 170,
      "outputs": [
        {
          "output_type": "execute_result",
          "data": {
            "text/plain": [
              "250.0"
            ]
          },
          "metadata": {},
          "execution_count": 170
        }
      ]
    },
    {
      "cell_type": "code",
      "source": [
        "x = np.array([25, 0])\n",
        "y = np.array([0, 10])\n",
        "np.dot(x, y)\n",
        "# 0  (вектора перпендикулярны)"
      ],
      "metadata": {
        "colab": {
          "base_uri": "https://localhost:8080/"
        },
        "id": "YhLOOf9lS8w7",
        "outputId": "297a5b06-481d-4d86-878a-4fc39b18ef9e"
      },
      "execution_count": 171,
      "outputs": [
        {
          "output_type": "execute_result",
          "data": {
            "text/plain": [
              "0"
            ]
          },
          "metadata": {},
          "execution_count": 171
        }
      ]
    },
    {
      "cell_type": "markdown",
      "source": [
        "# Модуль NumPy. Случайные числа"
      ],
      "metadata": {
        "id": "bOaIzY4NZ_nY"
      }
    },
    {
      "cell_type": "code",
      "source": [
        "# Самой «базовой» функцией в нём можно считать функцию rand.\n",
        "# По умолчанию она генерирует число с плавающей точкой между 0 (включительно) и 1 (не включительно):\n",
        "\n",
        "import numpy as np\n",
        "np.random.rand()\n",
        "# 0.06600758835806675\n"
      ],
      "metadata": {
        "colab": {
          "base_uri": "https://localhost:8080/"
        },
        "id": "vCl2Qo7aaBbF",
        "outputId": "53f4a95c-3913-41a1-9631-8908b338db2a"
      },
      "execution_count": 172,
      "outputs": [
        {
          "output_type": "execute_result",
          "data": {
            "text/plain": [
              "0.3209655187562209"
            ]
          },
          "metadata": {},
          "execution_count": 172
        }
      ]
    },
    {
      "cell_type": "code",
      "source": [
        "np.random.rand(5)\n",
        "# array([0.83745099, 0.58426808, 0.89206204, 0.41149807, 0.42445145])"
      ],
      "metadata": {
        "colab": {
          "base_uri": "https://localhost:8080/"
        },
        "id": "ll3QmJ74aobN",
        "outputId": "7d93876f-7440-4fd8-f0aa-1893ae6861b7"
      },
      "execution_count": 173,
      "outputs": [
        {
          "output_type": "execute_result",
          "data": {
            "text/plain": [
              "array([0.76634585, 0.45511409, 0.29536614, 0.45930989, 0.53817895])"
            ]
          },
          "metadata": {},
          "execution_count": 173
        }
      ]
    },
    {
      "cell_type": "code",
      "source": [
        "np.random.rand(2, 3)\n",
        "# array([[0.94931212, 0.06680018, 0.26707599],\n",
        "#      [0.67908873, 0.18001743, 0.97732239]])"
      ],
      "metadata": {
        "colab": {
          "base_uri": "https://localhost:8080/"
        },
        "id": "BGcrXlCEa2_B",
        "outputId": "512138e8-1aec-41fd-81c6-98b1bcf90f1a"
      },
      "execution_count": 176,
      "outputs": [
        {
          "output_type": "execute_result",
          "data": {
            "text/plain": [
              "array([[29.80201633, 82.27453063, 29.9700639 ],\n",
              "       [43.91911559, 77.28966004, 90.81458069]])"
            ]
          },
          "metadata": {},
          "execution_count": 176
        }
      ]
    },
    {
      "cell_type": "code",
      "source": [
        "np.random.rand(2, 3, 4, 10, 12, 23)"
      ],
      "metadata": {
        "colab": {
          "base_uri": "https://localhost:8080/"
        },
        "id": "9RjCh006a5uQ",
        "outputId": "9506c164-17cd-4b0a-9da9-9d3637a3879e"
      },
      "execution_count": 175,
      "outputs": [
        {
          "output_type": "execute_result",
          "data": {
            "text/plain": [
              "array([[[[[[3.04234684e-01, 8.94071751e-01, 6.68190269e-01, ...,\n",
              "            3.12093730e-01, 9.31722221e-01, 9.41510478e-01],\n",
              "           [6.38497513e-01, 8.04582353e-01, 8.91346805e-01, ...,\n",
              "            1.23996312e-01, 8.58035463e-01, 2.78363750e-01],\n",
              "           [2.05851901e-01, 1.90262250e-01, 6.90692277e-02, ...,\n",
              "            2.14364269e-01, 3.98650113e-01, 1.15037599e-01],\n",
              "           ...,\n",
              "           [5.71280468e-01, 4.83688749e-01, 4.84022459e-01, ...,\n",
              "            1.67916262e-02, 9.15815547e-01, 7.87125537e-01],\n",
              "           [8.56038130e-01, 4.92320150e-01, 8.66486168e-01, ...,\n",
              "            8.92943754e-01, 1.16445470e-01, 4.73844276e-01],\n",
              "           [9.05580930e-01, 1.43313944e-01, 2.70061411e-01, ...,\n",
              "            4.57068609e-02, 5.31862635e-01, 1.73249631e-01]],\n",
              "\n",
              "          [[4.10516434e-01, 9.51477914e-02, 9.22498871e-01, ...,\n",
              "            8.14507725e-01, 6.87092221e-01, 5.63599320e-01],\n",
              "           [6.06875544e-01, 2.24264819e-01, 5.69321319e-01, ...,\n",
              "            3.89765581e-01, 9.96831344e-02, 8.58336532e-01],\n",
              "           [1.34576581e-01, 1.05541053e-02, 6.39286720e-01, ...,\n",
              "            2.40110493e-01, 7.32472111e-01, 8.48616371e-01],\n",
              "           ...,\n",
              "           [2.69191122e-01, 5.32118239e-01, 2.60605144e-01, ...,\n",
              "            6.58631205e-01, 3.92073116e-02, 4.26879616e-01],\n",
              "           [6.60007745e-01, 6.31046669e-01, 1.90681447e-01, ...,\n",
              "            1.99499765e-01, 2.26780972e-01, 3.87284772e-01],\n",
              "           [1.74089816e-01, 7.87161162e-01, 2.94045901e-02, ...,\n",
              "            6.57032758e-01, 1.53607053e-01, 7.85736359e-01]],\n",
              "\n",
              "          [[1.17680001e-01, 5.71617793e-02, 1.43145268e-01, ...,\n",
              "            4.47650480e-01, 4.83630844e-01, 3.94169470e-01],\n",
              "           [8.77298898e-01, 2.90799467e-01, 7.71953956e-01, ...,\n",
              "            9.94956849e-01, 4.52842026e-02, 8.11270087e-01],\n",
              "           [4.45217211e-02, 9.46761664e-01, 7.28143401e-01, ...,\n",
              "            1.75555392e-01, 2.36803412e-01, 6.17090050e-01],\n",
              "           ...,\n",
              "           [7.58698044e-01, 9.14209684e-01, 3.16119242e-02, ...,\n",
              "            2.99582497e-01, 5.95707467e-01, 3.27139137e-01],\n",
              "           [3.23707869e-02, 8.24384839e-01, 6.54337888e-01, ...,\n",
              "            1.10061070e-01, 5.19609567e-01, 1.52025751e-01],\n",
              "           [6.13557270e-01, 3.83378929e-01, 3.72117234e-03, ...,\n",
              "            2.51671482e-01, 2.18949032e-01, 5.76540061e-01]],\n",
              "\n",
              "          ...,\n",
              "\n",
              "          [[3.32121487e-01, 4.47753591e-01, 1.44840826e-01, ...,\n",
              "            6.24731939e-01, 5.07579074e-01, 5.57900019e-02],\n",
              "           [8.84302240e-01, 3.69133647e-01, 1.67333531e-01, ...,\n",
              "            2.98763049e-01, 6.94291721e-01, 6.74761846e-01],\n",
              "           [8.68492299e-01, 1.79616938e-01, 7.83020763e-01, ...,\n",
              "            6.51720847e-02, 9.97732801e-02, 3.07025717e-01],\n",
              "           ...,\n",
              "           [3.52942762e-01, 5.60689417e-01, 1.82359717e-02, ...,\n",
              "            4.81135703e-01, 9.09617259e-01, 9.39652301e-01],\n",
              "           [4.97049162e-02, 1.57679515e-01, 7.37249730e-01, ...,\n",
              "            1.46799850e-01, 6.88109810e-01, 3.45587352e-01],\n",
              "           [9.07181268e-01, 4.83491371e-01, 4.97688916e-01, ...,\n",
              "            5.86679026e-01, 2.51307885e-01, 8.26247374e-01]],\n",
              "\n",
              "          [[7.84928978e-01, 6.28680342e-01, 6.58185109e-01, ...,\n",
              "            3.36089378e-01, 3.38111720e-01, 5.44901710e-01],\n",
              "           [4.65383091e-01, 1.74901602e-01, 5.52696531e-01, ...,\n",
              "            2.26515307e-02, 1.50096007e-01, 6.75032116e-01],\n",
              "           [7.55894556e-01, 8.07322687e-01, 9.38883253e-01, ...,\n",
              "            8.97290438e-01, 4.15947004e-01, 3.67875021e-01],\n",
              "           ...,\n",
              "           [3.09615414e-01, 2.63689794e-01, 7.81033682e-01, ...,\n",
              "            6.53604873e-01, 5.04481372e-01, 5.03563610e-01],\n",
              "           [7.08570498e-01, 6.18503646e-02, 4.15634609e-01, ...,\n",
              "            6.14241770e-01, 8.88563871e-01, 4.99750119e-01],\n",
              "           [7.50556182e-01, 8.46553565e-01, 6.33249154e-01, ...,\n",
              "            6.22702255e-01, 5.33621798e-02, 4.73967620e-01]],\n",
              "\n",
              "          [[5.57966535e-02, 1.54319332e-01, 5.74644300e-01, ...,\n",
              "            3.93097010e-01, 1.40229300e-01, 2.55442227e-01],\n",
              "           [2.72716414e-02, 6.51873113e-01, 5.80210525e-01, ...,\n",
              "            5.59075944e-01, 2.34791850e-01, 3.19107047e-01],\n",
              "           [8.14313395e-01, 6.31130730e-01, 7.46707617e-01, ...,\n",
              "            7.09796806e-01, 1.90893606e-01, 1.15389947e-01],\n",
              "           ...,\n",
              "           [2.04098525e-01, 2.53393071e-01, 9.89047779e-01, ...,\n",
              "            7.92592589e-01, 9.98204720e-01, 7.45713315e-01],\n",
              "           [7.65192125e-01, 4.25543037e-01, 1.24045546e-01, ...,\n",
              "            8.75594650e-01, 1.18576455e-02, 2.91232221e-01],\n",
              "           [3.09014116e-01, 1.37378296e-01, 2.15195491e-01, ...,\n",
              "            3.85755172e-01, 8.48489692e-01, 2.85286608e-01]]],\n",
              "\n",
              "\n",
              "         [[[4.19958455e-01, 8.78451490e-01, 4.47245535e-01, ...,\n",
              "            6.08047384e-01, 7.48023772e-02, 9.91101675e-01],\n",
              "           [6.37196546e-01, 4.06521895e-01, 4.22340158e-01, ...,\n",
              "            5.10713125e-01, 9.81996497e-01, 1.60354362e-01],\n",
              "           [4.00577467e-01, 4.59889268e-01, 1.23388124e-01, ...,\n",
              "            1.10387181e-01, 1.57844590e-01, 5.91612292e-02],\n",
              "           ...,\n",
              "           [5.86072501e-01, 8.48137516e-01, 2.79586536e-01, ...,\n",
              "            2.25590369e-01, 8.11547783e-01, 4.80124642e-01],\n",
              "           [6.81663719e-01, 4.12615437e-01, 8.00025025e-01, ...,\n",
              "            7.05293474e-01, 5.24903120e-01, 7.43305713e-01],\n",
              "           [5.48581308e-01, 6.53340325e-01, 6.97470272e-01, ...,\n",
              "            2.91787744e-01, 1.30246843e-01, 2.88139847e-02]],\n",
              "\n",
              "          [[9.19256814e-01, 2.84651436e-01, 8.32069647e-01, ...,\n",
              "            4.76007763e-01, 8.41864331e-01, 8.54572451e-01],\n",
              "           [2.16237206e-01, 4.59691464e-01, 4.61446487e-01, ...,\n",
              "            4.38075757e-02, 6.29327099e-01, 2.56435475e-01],\n",
              "           [9.34585994e-01, 1.47336122e-01, 2.35312541e-01, ...,\n",
              "            3.66662752e-01, 2.99738335e-01, 5.24894037e-01],\n",
              "           ...,\n",
              "           [8.80442297e-01, 9.44276678e-01, 1.06561441e-01, ...,\n",
              "            6.94912023e-01, 3.16689797e-01, 1.13371708e-01],\n",
              "           [7.51210464e-01, 1.59698972e-01, 5.41990757e-01, ...,\n",
              "            5.02776296e-01, 7.44189576e-01, 8.77636058e-01],\n",
              "           [2.75948476e-01, 1.04667599e-01, 5.30644718e-01, ...,\n",
              "            7.84711176e-01, 5.90463256e-01, 8.65115105e-01]],\n",
              "\n",
              "          [[1.58824475e-02, 6.51578464e-01, 7.15967644e-01, ...,\n",
              "            3.11813088e-02, 8.50471252e-01, 9.11456643e-01],\n",
              "           [5.91601996e-01, 6.69071713e-02, 4.60239252e-01, ...,\n",
              "            6.13552859e-01, 3.35950205e-01, 4.94979927e-02],\n",
              "           [6.40519799e-01, 4.22795188e-02, 4.69359100e-01, ...,\n",
              "            6.38142233e-01, 2.18956121e-01, 9.95424036e-01],\n",
              "           ...,\n",
              "           [8.17070693e-02, 7.14544732e-02, 3.41611864e-01, ...,\n",
              "            5.52243028e-01, 3.24543111e-01, 4.06388593e-01],\n",
              "           [1.60150185e-01, 8.80620078e-01, 9.38618383e-01, ...,\n",
              "            2.13570107e-01, 4.78917044e-01, 6.12402475e-03],\n",
              "           [8.66791410e-02, 1.91773688e-01, 9.75715618e-01, ...,\n",
              "            3.81267011e-01, 2.27729589e-01, 1.36274600e-01]],\n",
              "\n",
              "          ...,\n",
              "\n",
              "          [[9.73636104e-02, 8.54684042e-01, 1.03831482e-02, ...,\n",
              "            8.26354509e-01, 5.84486047e-01, 8.08447586e-01],\n",
              "           [8.22316328e-01, 2.18023955e-01, 8.67584347e-01, ...,\n",
              "            2.98015617e-01, 7.21909572e-01, 9.53346819e-03],\n",
              "           [2.07792425e-01, 5.16158314e-01, 1.22658881e-01, ...,\n",
              "            4.37549393e-01, 6.64828178e-01, 3.43747673e-01],\n",
              "           ...,\n",
              "           [3.73200085e-01, 8.86459556e-01, 8.50870352e-01, ...,\n",
              "            8.40788982e-01, 3.98030187e-01, 5.31510589e-02],\n",
              "           [3.65922071e-01, 8.08888210e-01, 2.65940655e-01, ...,\n",
              "            3.58281557e-01, 5.07368947e-01, 5.70409544e-01],\n",
              "           [8.34331009e-01, 3.26727859e-01, 7.02136289e-01, ...,\n",
              "            9.86803981e-01, 1.33079336e-01, 2.68426025e-01]],\n",
              "\n",
              "          [[9.54300301e-01, 2.56320302e-01, 4.67685154e-01, ...,\n",
              "            1.62820099e-01, 6.51634718e-01, 6.18066968e-01],\n",
              "           [5.54820260e-02, 6.41275741e-01, 1.54814201e-01, ...,\n",
              "            3.27803467e-01, 2.88326330e-01, 1.49761610e-01],\n",
              "           [2.22563602e-01, 9.14217732e-01, 3.53603034e-01, ...,\n",
              "            2.96186192e-01, 5.71888299e-01, 8.82257951e-01],\n",
              "           ...,\n",
              "           [5.43515873e-01, 3.24409840e-01, 6.48642775e-01, ...,\n",
              "            2.70900834e-01, 6.88972647e-01, 1.30937848e-02],\n",
              "           [8.69566820e-01, 3.07653030e-01, 7.95705824e-01, ...,\n",
              "            3.32032131e-01, 8.45489676e-01, 8.70016154e-01],\n",
              "           [7.77920474e-01, 5.60522297e-01, 8.50212403e-01, ...,\n",
              "            4.15486485e-01, 7.89538692e-01, 3.48562335e-01]],\n",
              "\n",
              "          [[5.06715887e-01, 4.28396245e-01, 7.69570800e-01, ...,\n",
              "            8.04747082e-01, 4.96320292e-01, 9.34254539e-01],\n",
              "           [8.36744225e-01, 4.44970162e-02, 1.22069266e-01, ...,\n",
              "            1.77228991e-01, 8.17930025e-01, 8.47676824e-01],\n",
              "           [2.87739305e-02, 3.70782112e-01, 9.26106531e-01, ...,\n",
              "            8.01682298e-01, 6.57186838e-01, 2.74067591e-01],\n",
              "           ...,\n",
              "           [7.27471843e-01, 1.67722158e-01, 5.01826480e-01, ...,\n",
              "            2.78578925e-01, 2.35153143e-01, 6.34902156e-01],\n",
              "           [1.58769587e-02, 5.81621563e-01, 9.05967091e-01, ...,\n",
              "            6.68661236e-01, 1.55787997e-01, 6.61593900e-01],\n",
              "           [7.34991778e-01, 4.60638948e-01, 6.21278306e-01, ...,\n",
              "            9.81018764e-01, 3.20865815e-01, 9.29393470e-01]]],\n",
              "\n",
              "\n",
              "         [[[4.57136185e-01, 3.52384838e-01, 8.67039127e-01, ...,\n",
              "            9.49091964e-01, 1.21205872e-01, 6.22485054e-01],\n",
              "           [9.37891630e-01, 6.16250774e-01, 7.16468882e-02, ...,\n",
              "            5.23569606e-01, 2.93423173e-01, 4.28431578e-01],\n",
              "           [5.70635861e-01, 7.56367085e-01, 7.58537283e-01, ...,\n",
              "            3.48562104e-02, 9.08493102e-01, 9.30828484e-01],\n",
              "           ...,\n",
              "           [6.99411429e-01, 5.41412027e-01, 6.18470088e-01, ...,\n",
              "            1.67350039e-01, 9.10106627e-01, 3.59616828e-01],\n",
              "           [8.05208561e-01, 6.83026434e-01, 5.89561146e-01, ...,\n",
              "            2.97920852e-01, 2.27847301e-03, 4.57355282e-01],\n",
              "           [2.87808161e-01, 7.69696896e-01, 3.37436046e-01, ...,\n",
              "            2.29855325e-02, 6.27350256e-01, 1.18633905e-01]],\n",
              "\n",
              "          [[5.73606627e-01, 2.50171506e-01, 7.92756266e-02, ...,\n",
              "            6.73014602e-02, 9.52840346e-01, 5.86806890e-01],\n",
              "           [9.94352739e-01, 1.32758487e-01, 2.18026426e-01, ...,\n",
              "            9.64097921e-01, 2.69948520e-01, 9.39961174e-01],\n",
              "           [2.21914945e-01, 4.82355105e-01, 9.19300233e-01, ...,\n",
              "            2.93936687e-02, 9.86873061e-02, 6.26546681e-01],\n",
              "           ...,\n",
              "           [7.70269082e-02, 2.91401415e-01, 1.61852116e-01, ...,\n",
              "            1.53642566e-01, 7.65681387e-01, 3.04692983e-01],\n",
              "           [3.86770548e-01, 2.97029923e-01, 9.92165417e-02, ...,\n",
              "            7.57237679e-01, 7.15183563e-01, 2.91673223e-01],\n",
              "           [9.64382198e-01, 7.63175882e-01, 6.00617790e-01, ...,\n",
              "            2.07354104e-01, 5.46019139e-02, 4.19009075e-01]],\n",
              "\n",
              "          [[3.75935932e-01, 2.15688208e-01, 1.19739718e-01, ...,\n",
              "            9.12398382e-01, 1.31801426e-01, 2.94287033e-01],\n",
              "           [6.66580846e-02, 9.10778642e-01, 3.97799479e-01, ...,\n",
              "            9.06750757e-01, 6.78851911e-01, 1.28746702e-01],\n",
              "           [1.58326733e-01, 2.29765628e-01, 6.47916622e-01, ...,\n",
              "            8.92836604e-01, 4.12394997e-01, 8.50132209e-01],\n",
              "           ...,\n",
              "           [8.09614713e-01, 9.42547266e-01, 1.51879282e-03, ...,\n",
              "            9.24317341e-01, 4.82446648e-02, 3.36746772e-01],\n",
              "           [5.72590272e-01, 4.21866771e-02, 8.68698465e-01, ...,\n",
              "            4.79145759e-03, 3.09865048e-01, 5.50768051e-01],\n",
              "           [5.74187497e-01, 6.33143189e-01, 5.81024134e-01, ...,\n",
              "            2.82099390e-02, 5.19694047e-01, 9.58626820e-01]],\n",
              "\n",
              "          ...,\n",
              "\n",
              "          [[7.58477002e-01, 9.11661590e-01, 8.99477174e-01, ...,\n",
              "            8.77229123e-01, 1.60176667e-01, 6.39591344e-01],\n",
              "           [3.14899072e-01, 3.29031841e-01, 3.27220066e-02, ...,\n",
              "            9.33801001e-02, 5.14077286e-01, 4.41154819e-02],\n",
              "           [4.75084409e-01, 2.91890712e-01, 3.31181775e-01, ...,\n",
              "            1.06440506e-01, 7.46120940e-01, 5.13337524e-01],\n",
              "           ...,\n",
              "           [4.74608148e-02, 6.67847702e-01, 7.78654023e-01, ...,\n",
              "            3.52355795e-01, 1.99151918e-01, 8.72057467e-01],\n",
              "           [3.37689479e-01, 4.43902251e-02, 6.04683826e-01, ...,\n",
              "            2.62259826e-01, 8.20921602e-02, 5.27012859e-01],\n",
              "           [7.56354032e-02, 1.30751381e-01, 5.05823480e-01, ...,\n",
              "            5.13338257e-02, 8.01680583e-01, 5.27653794e-01]],\n",
              "\n",
              "          [[7.23922959e-01, 2.46839042e-01, 6.44821747e-01, ...,\n",
              "            6.15406346e-01, 5.25256377e-01, 9.81408453e-01],\n",
              "           [4.73758960e-01, 2.38911341e-01, 9.03745462e-01, ...,\n",
              "            7.82166635e-01, 5.85895460e-01, 7.96846413e-01],\n",
              "           [3.45218525e-01, 6.57534060e-01, 6.99549723e-01, ...,\n",
              "            7.95425844e-01, 9.24662511e-01, 1.47559538e-01],\n",
              "           ...,\n",
              "           [9.42981580e-01, 6.05689426e-01, 1.69653748e-01, ...,\n",
              "            5.93781145e-01, 6.12621238e-01, 2.65620452e-01],\n",
              "           [4.49479356e-01, 3.18996226e-01, 8.71534999e-01, ...,\n",
              "            5.10894517e-01, 7.94637221e-01, 1.00690870e-01],\n",
              "           [5.97068152e-02, 3.45945305e-01, 2.76941966e-01, ...,\n",
              "            7.65212257e-01, 2.14400990e-01, 4.84269617e-01]],\n",
              "\n",
              "          [[9.47482731e-01, 7.26301605e-02, 3.98170309e-01, ...,\n",
              "            8.56986161e-01, 8.85240656e-01, 3.76947005e-01],\n",
              "           [1.51817189e-01, 1.44437201e-01, 7.93424295e-01, ...,\n",
              "            5.08240285e-01, 1.59437180e-01, 9.87547959e-01],\n",
              "           [1.24259068e-01, 3.56441898e-01, 9.98336814e-01, ...,\n",
              "            3.49675022e-01, 7.15938199e-01, 5.62953283e-01],\n",
              "           ...,\n",
              "           [7.98666144e-01, 6.63315833e-01, 9.12893989e-01, ...,\n",
              "            7.67161621e-01, 6.64115966e-01, 6.45263529e-01],\n",
              "           [8.09718006e-01, 7.22134162e-01, 8.82755907e-01, ...,\n",
              "            9.78704206e-01, 5.77897684e-01, 8.72292963e-01],\n",
              "           [1.37249465e-01, 1.56859106e-01, 5.71123435e-01, ...,\n",
              "            4.22755595e-01, 5.01799233e-01, 8.55723532e-01]]],\n",
              "\n",
              "\n",
              "         [[[8.41513047e-01, 8.91195427e-01, 2.73343764e-01, ...,\n",
              "            3.10996783e-01, 1.60332981e-01, 2.91694112e-01],\n",
              "           [1.43456296e-01, 3.13016073e-01, 2.01838607e-01, ...,\n",
              "            5.93788408e-01, 3.26193380e-02, 3.26738852e-01],\n",
              "           [9.34061730e-01, 8.13521202e-01, 9.23835023e-01, ...,\n",
              "            5.97144275e-01, 7.31172831e-01, 2.43778590e-01],\n",
              "           ...,\n",
              "           [6.25234762e-01, 5.87589602e-01, 6.60696468e-01, ...,\n",
              "            2.83189157e-01, 3.09336906e-01, 3.83575514e-01],\n",
              "           [5.58253261e-01, 2.05224390e-01, 9.85783042e-01, ...,\n",
              "            9.00559132e-01, 8.65531826e-01, 9.89005276e-01],\n",
              "           [5.32712653e-01, 4.53567298e-01, 2.25530012e-01, ...,\n",
              "            6.09161247e-01, 4.71129995e-01, 3.17958920e-01]],\n",
              "\n",
              "          [[9.87570822e-01, 8.33360371e-01, 7.29363224e-01, ...,\n",
              "            6.15406113e-01, 7.62326295e-01, 3.75166314e-01],\n",
              "           [9.27922641e-01, 3.37730046e-01, 4.75087925e-01, ...,\n",
              "            2.50144808e-01, 2.78809767e-01, 5.85871761e-01],\n",
              "           [5.03963559e-01, 7.99410651e-01, 2.79770304e-01, ...,\n",
              "            8.80436848e-01, 5.94482723e-02, 2.77382778e-01],\n",
              "           ...,\n",
              "           [8.61572456e-01, 7.90325065e-01, 4.89226774e-01, ...,\n",
              "            5.19054408e-01, 6.34139711e-01, 5.19161254e-01],\n",
              "           [5.20499809e-02, 2.41466788e-01, 5.77753030e-01, ...,\n",
              "            4.88547868e-01, 5.24907175e-01, 2.18810769e-02],\n",
              "           [2.20439642e-01, 7.15845727e-01, 8.02207326e-01, ...,\n",
              "            7.88707840e-01, 3.07396819e-01, 8.07515753e-01]],\n",
              "\n",
              "          [[9.94347632e-01, 7.02554305e-01, 8.97963972e-01, ...,\n",
              "            1.00216844e-01, 5.61996540e-01, 4.98981897e-01],\n",
              "           [3.95236733e-01, 1.02389226e-01, 6.16729156e-01, ...,\n",
              "            8.40602073e-01, 9.82792611e-01, 5.41379855e-01],\n",
              "           [1.63008611e-01, 8.83300642e-01, 3.49006496e-02, ...,\n",
              "            9.75684098e-01, 9.07196984e-01, 2.84741574e-01],\n",
              "           ...,\n",
              "           [8.24442895e-01, 5.60792463e-01, 1.17038912e-01, ...,\n",
              "            1.27554928e-01, 5.75804081e-01, 5.92774138e-01],\n",
              "           [9.55176934e-01, 1.51825252e-01, 6.51807216e-01, ...,\n",
              "            8.40487730e-01, 8.67418364e-01, 9.29816531e-01],\n",
              "           [9.80439848e-01, 2.00051274e-01, 8.55023502e-01, ...,\n",
              "            9.41941842e-01, 2.40861456e-01, 1.49436510e-01]],\n",
              "\n",
              "          ...,\n",
              "\n",
              "          [[9.36292532e-01, 7.68679891e-01, 5.21482751e-02, ...,\n",
              "            9.95675963e-01, 7.87337692e-01, 6.97068469e-01],\n",
              "           [3.38703076e-01, 1.66643833e-01, 6.47522411e-01, ...,\n",
              "            2.45838989e-01, 4.61589036e-01, 1.20401022e-01],\n",
              "           [7.95500091e-01, 3.34225665e-02, 9.36265345e-01, ...,\n",
              "            6.08264576e-01, 6.96587889e-01, 6.28570125e-01],\n",
              "           ...,\n",
              "           [9.66846337e-01, 1.90991701e-01, 2.10689047e-01, ...,\n",
              "            7.04880665e-01, 3.50022637e-01, 2.50654245e-01],\n",
              "           [5.85173175e-01, 5.81481190e-01, 2.25301755e-01, ...,\n",
              "            9.66644900e-01, 1.16506243e-04, 7.59233986e-01],\n",
              "           [7.73714125e-01, 6.08326059e-01, 9.34023371e-01, ...,\n",
              "            7.63022148e-02, 7.16295076e-01, 4.82671692e-01]],\n",
              "\n",
              "          [[2.93548759e-01, 2.30807918e-02, 5.81263171e-01, ...,\n",
              "            8.54776640e-02, 7.14185513e-03, 8.65650510e-01],\n",
              "           [1.18496565e-01, 8.36143408e-01, 3.86208588e-01, ...,\n",
              "            8.12429813e-01, 4.84944811e-01, 8.46208985e-01],\n",
              "           [3.63431350e-01, 6.06859423e-01, 4.27948372e-01, ...,\n",
              "            5.48507813e-01, 7.20902898e-01, 3.73547520e-01],\n",
              "           ...,\n",
              "           [9.10393515e-01, 9.31934386e-01, 9.75862865e-01, ...,\n",
              "            1.24796579e-01, 8.25716168e-01, 4.38669634e-02],\n",
              "           [3.92582850e-02, 8.97093179e-01, 1.84119062e-01, ...,\n",
              "            4.81789673e-01, 7.13428380e-01, 3.19297342e-01],\n",
              "           [8.51761758e-01, 8.62678358e-01, 8.38807691e-02, ...,\n",
              "            4.42882141e-01, 2.19641674e-01, 6.74682003e-01]],\n",
              "\n",
              "          [[3.54225579e-01, 5.41242780e-01, 6.27269293e-01, ...,\n",
              "            2.63934604e-01, 1.13922094e-02, 7.60799077e-02],\n",
              "           [6.99020642e-01, 5.04671539e-01, 1.01175411e-01, ...,\n",
              "            5.40788596e-01, 3.22892421e-03, 8.92644881e-01],\n",
              "           [2.76712087e-01, 9.73033643e-01, 8.87883250e-01, ...,\n",
              "            5.36811141e-02, 4.82833907e-01, 8.41062767e-01],\n",
              "           ...,\n",
              "           [2.71135614e-01, 6.44776436e-01, 7.44572951e-01, ...,\n",
              "            9.40620152e-01, 3.37881237e-01, 8.13413070e-01],\n",
              "           [8.04901556e-01, 4.22366794e-01, 9.11037311e-01, ...,\n",
              "            7.62135487e-01, 6.79251386e-01, 2.50145560e-02],\n",
              "           [1.58637788e-02, 8.21131146e-01, 4.25605293e-01, ...,\n",
              "            3.34638708e-01, 6.68000700e-01, 9.00234329e-01]]]],\n",
              "\n",
              "\n",
              "\n",
              "        [[[[4.58619740e-01, 4.29196189e-01, 5.60080866e-01, ...,\n",
              "            5.71205125e-02, 1.84469364e-01, 8.61371205e-02],\n",
              "           [7.57854744e-01, 5.76665305e-01, 8.25669217e-01, ...,\n",
              "            9.92053279e-01, 7.59561707e-01, 6.45079693e-01],\n",
              "           [4.98729836e-01, 8.94426970e-01, 5.35620239e-01, ...,\n",
              "            9.09004254e-01, 3.21084431e-01, 7.86571953e-01],\n",
              "           ...,\n",
              "           [3.96126179e-01, 9.23524600e-01, 1.21373914e-01, ...,\n",
              "            6.34493384e-01, 5.39634445e-01, 1.02458429e-01],\n",
              "           [1.82082015e-01, 6.37026415e-01, 3.29929140e-01, ...,\n",
              "            9.10096200e-01, 7.65016355e-01, 1.57230504e-01],\n",
              "           [5.99819995e-01, 5.34403247e-01, 9.21923786e-01, ...,\n",
              "            1.87807097e-01, 7.42658266e-01, 7.43698438e-01]],\n",
              "\n",
              "          [[1.06405780e-01, 6.51238997e-02, 8.71300680e-01, ...,\n",
              "            8.21140544e-01, 7.93899047e-01, 6.24475070e-02],\n",
              "           [5.34116383e-02, 6.57408971e-01, 3.60475292e-01, ...,\n",
              "            9.20014319e-01, 8.11346519e-01, 4.01402733e-01],\n",
              "           [6.48217458e-02, 9.34070972e-01, 5.75111561e-01, ...,\n",
              "            3.81302700e-01, 5.75243995e-01, 1.46087955e-01],\n",
              "           ...,\n",
              "           [1.50817530e-01, 5.99110416e-01, 4.74400875e-01, ...,\n",
              "            3.29237677e-01, 1.17352653e-01, 2.05303704e-01],\n",
              "           [2.57322172e-01, 7.21249736e-01, 3.53925998e-01, ...,\n",
              "            8.76690887e-01, 5.07549766e-01, 2.51459808e-01],\n",
              "           [9.84960239e-01, 3.33754990e-01, 4.12935541e-01, ...,\n",
              "            4.26531648e-01, 8.49165916e-01, 5.68980444e-01]],\n",
              "\n",
              "          [[9.91133614e-01, 9.45477535e-01, 5.45481035e-01, ...,\n",
              "            5.73270892e-01, 2.82506155e-01, 4.35727339e-01],\n",
              "           [9.95565960e-01, 6.30585040e-01, 4.77719996e-01, ...,\n",
              "            5.43261345e-01, 7.66692185e-01, 2.41284087e-01],\n",
              "           [8.86389823e-01, 5.56165623e-01, 5.39490365e-01, ...,\n",
              "            7.33661112e-01, 4.81742396e-01, 9.87386663e-01],\n",
              "           ...,\n",
              "           [6.97627778e-02, 5.56292237e-01, 8.37049812e-01, ...,\n",
              "            5.45911873e-01, 2.73313069e-01, 4.18513784e-01],\n",
              "           [5.09146402e-01, 6.38470457e-01, 9.30071315e-01, ...,\n",
              "            3.72601966e-01, 4.67099016e-01, 8.38389549e-01],\n",
              "           [7.85553417e-01, 2.31710045e-01, 9.30085511e-01, ...,\n",
              "            5.75463641e-01, 9.19854525e-01, 9.31810342e-01]],\n",
              "\n",
              "          ...,\n",
              "\n",
              "          [[4.23176653e-02, 4.68075745e-01, 5.79508497e-01, ...,\n",
              "            9.01814095e-01, 8.37645177e-01, 4.74408224e-01],\n",
              "           [3.04197340e-01, 3.30882765e-01, 4.58381639e-01, ...,\n",
              "            7.40437931e-01, 5.88263606e-01, 8.76479309e-01],\n",
              "           [3.39927052e-02, 8.37938740e-01, 6.44735503e-01, ...,\n",
              "            8.24034817e-01, 3.91846760e-01, 7.40211298e-01],\n",
              "           ...,\n",
              "           [7.06063299e-01, 6.41048680e-01, 5.77751050e-01, ...,\n",
              "            5.74977678e-02, 9.65379522e-01, 7.92555148e-01],\n",
              "           [3.40149552e-02, 5.23344266e-01, 7.42996319e-01, ...,\n",
              "            7.95782384e-01, 6.33837532e-01, 1.85020113e-01],\n",
              "           [4.16627007e-01, 3.35216828e-01, 4.14970099e-01, ...,\n",
              "            5.62425769e-02, 9.68321603e-01, 4.90006338e-01]],\n",
              "\n",
              "          [[5.54149043e-01, 3.62312976e-01, 1.75079707e-01, ...,\n",
              "            9.23774701e-01, 7.18610670e-01, 7.87367099e-01],\n",
              "           [4.86154133e-01, 8.75182470e-01, 1.87074553e-01, ...,\n",
              "            6.86451439e-01, 1.99120995e-01, 5.87785557e-01],\n",
              "           [6.19359527e-01, 6.04946819e-01, 2.53933453e-01, ...,\n",
              "            6.79924685e-01, 6.83377297e-01, 6.44761725e-01],\n",
              "           ...,\n",
              "           [3.50142140e-01, 6.66509380e-01, 8.53002362e-01, ...,\n",
              "            3.86911806e-01, 5.64593805e-01, 8.93175129e-01],\n",
              "           [1.23127655e-01, 1.07811679e-01, 1.83580226e-01, ...,\n",
              "            4.80033413e-01, 1.76333997e-01, 5.78745634e-01],\n",
              "           [5.07721754e-01, 8.91713463e-02, 6.28439161e-01, ...,\n",
              "            3.98515088e-01, 4.73292183e-01, 2.45704172e-01]],\n",
              "\n",
              "          [[6.22400277e-01, 2.39723872e-01, 3.33016286e-01, ...,\n",
              "            4.02524334e-01, 3.43659721e-01, 3.73746969e-01],\n",
              "           [9.88849227e-02, 2.27345143e-01, 6.42008641e-01, ...,\n",
              "            7.47508367e-01, 2.75879879e-01, 4.98803479e-01],\n",
              "           [6.32557223e-01, 6.04298588e-01, 3.17206810e-01, ...,\n",
              "            1.01906390e-01, 7.96961654e-01, 9.43557157e-01],\n",
              "           ...,\n",
              "           [4.42025490e-01, 2.33046591e-01, 5.21631900e-01, ...,\n",
              "            9.16701693e-01, 5.11624140e-01, 9.00914736e-01],\n",
              "           [9.05151372e-01, 1.36950930e-03, 8.75431445e-01, ...,\n",
              "            4.89931308e-01, 5.35053888e-01, 8.27556390e-01],\n",
              "           [9.50148618e-01, 7.81636042e-01, 7.28686265e-01, ...,\n",
              "            7.02211154e-01, 7.51992131e-02, 4.86611842e-01]]],\n",
              "\n",
              "\n",
              "         [[[8.81120995e-01, 1.71272961e-02, 9.61308345e-02, ...,\n",
              "            3.72736003e-01, 4.16315544e-02, 3.45214111e-01],\n",
              "           [6.76276284e-01, 1.75260568e-01, 8.13840749e-01, ...,\n",
              "            5.14519454e-01, 3.93202053e-01, 8.21619397e-01],\n",
              "           [7.46109484e-01, 8.62920560e-01, 6.47041076e-01, ...,\n",
              "            9.58993844e-01, 9.93173458e-01, 7.11080692e-01],\n",
              "           ...,\n",
              "           [9.88690989e-01, 1.38669980e-01, 2.04255336e-01, ...,\n",
              "            3.19013824e-01, 9.35177297e-01, 3.68390921e-01],\n",
              "           [1.97034381e-01, 6.57394942e-01, 2.77968304e-01, ...,\n",
              "            4.95555239e-01, 9.15950945e-01, 1.57992221e-01],\n",
              "           [8.59576714e-01, 2.23030604e-01, 7.54839769e-01, ...,\n",
              "            8.88866218e-01, 3.51712632e-01, 8.10027442e-01]],\n",
              "\n",
              "          [[6.59465221e-01, 1.07132004e-01, 9.43060463e-01, ...,\n",
              "            7.28049508e-01, 8.72104005e-01, 3.39914353e-01],\n",
              "           [9.11360235e-01, 5.25498468e-01, 6.85884337e-01, ...,\n",
              "            4.40702825e-02, 3.34343575e-01, 2.30262171e-01],\n",
              "           [9.65558411e-01, 4.82956924e-01, 5.72980490e-01, ...,\n",
              "            9.38160691e-01, 5.20244147e-01, 9.54290996e-01],\n",
              "           ...,\n",
              "           [7.00804246e-01, 7.59330064e-01, 6.02080948e-01, ...,\n",
              "            8.62992338e-01, 7.61997128e-01, 6.93790892e-01],\n",
              "           [5.81255631e-01, 1.50955172e-01, 8.23172805e-01, ...,\n",
              "            6.01653091e-01, 8.17845417e-01, 6.33363614e-01],\n",
              "           [3.52895609e-01, 3.99567652e-01, 4.10763955e-01, ...,\n",
              "            3.90247614e-01, 3.50325228e-01, 8.36798064e-01]],\n",
              "\n",
              "          [[7.01324134e-01, 7.45525102e-01, 8.96443738e-01, ...,\n",
              "            6.61811384e-01, 3.56717856e-01, 6.13664100e-01],\n",
              "           [8.96860411e-01, 2.83657612e-01, 7.01039641e-01, ...,\n",
              "            5.39793091e-01, 4.56066190e-02, 1.42258536e-01],\n",
              "           [3.84424554e-01, 8.54788892e-01, 2.94744294e-01, ...,\n",
              "            3.10144667e-01, 8.22414246e-01, 8.86423819e-01],\n",
              "           ...,\n",
              "           [4.08998573e-01, 6.34494935e-01, 1.28210734e-02, ...,\n",
              "            7.40397881e-01, 7.39981355e-01, 8.68325540e-01],\n",
              "           [3.48932485e-01, 2.53622546e-01, 9.17208761e-01, ...,\n",
              "            9.33054886e-01, 3.18030829e-01, 9.18910863e-01],\n",
              "           [5.33609075e-01, 6.31108367e-01, 4.80339991e-01, ...,\n",
              "            1.43215011e-01, 6.62988817e-01, 6.32977561e-01]],\n",
              "\n",
              "          ...,\n",
              "\n",
              "          [[3.72953924e-01, 4.57799917e-01, 5.03075931e-01, ...,\n",
              "            3.16019612e-01, 2.96959601e-01, 8.48585266e-01],\n",
              "           [8.19984590e-01, 4.89816998e-01, 2.74363211e-01, ...,\n",
              "            1.92485404e-01, 1.70285754e-01, 5.88260724e-01],\n",
              "           [3.11468797e-01, 7.73777210e-01, 8.80822948e-01, ...,\n",
              "            7.31316367e-02, 8.33239301e-01, 3.62145213e-01],\n",
              "           ...,\n",
              "           [1.69839178e-01, 6.28825528e-02, 8.06360163e-01, ...,\n",
              "            1.70482795e-01, 6.92804209e-01, 9.13155375e-01],\n",
              "           [2.15786525e-01, 4.09524584e-01, 9.58218357e-01, ...,\n",
              "            7.08903608e-02, 7.61168795e-01, 3.93814681e-01],\n",
              "           [5.27947126e-01, 9.60247330e-01, 5.60962289e-02, ...,\n",
              "            4.96056908e-01, 4.89468081e-02, 7.52189671e-01]],\n",
              "\n",
              "          [[3.15940396e-01, 8.29019754e-01, 6.50819162e-01, ...,\n",
              "            3.90436113e-01, 2.10659876e-01, 6.02801224e-01],\n",
              "           [5.22024404e-01, 6.93600967e-01, 2.36509324e-01, ...,\n",
              "            1.00338616e-01, 5.12631410e-01, 4.43997677e-01],\n",
              "           [5.44822269e-01, 5.46986398e-01, 2.10614429e-01, ...,\n",
              "            5.02251089e-01, 5.32507520e-01, 9.24585275e-01],\n",
              "           ...,\n",
              "           [9.56298429e-01, 1.13861816e-01, 3.65042724e-01, ...,\n",
              "            3.75744648e-01, 3.17130955e-02, 9.50961114e-01],\n",
              "           [9.98422118e-01, 8.21762613e-01, 1.22762736e-01, ...,\n",
              "            4.11480661e-01, 4.10768034e-01, 6.95393834e-01],\n",
              "           [8.16121795e-01, 9.38774156e-01, 4.63794606e-01, ...,\n",
              "            1.15452483e-01, 1.41388861e-01, 4.51379342e-01]],\n",
              "\n",
              "          [[1.70482456e-01, 7.86873436e-01, 8.30440414e-01, ...,\n",
              "            9.17172278e-01, 1.84251415e-01, 1.81190242e-01],\n",
              "           [4.26609014e-01, 2.35076270e-01, 6.03399380e-01, ...,\n",
              "            5.19025451e-02, 7.72271719e-01, 7.67775235e-01],\n",
              "           [8.33582748e-01, 4.71559093e-01, 1.49843761e-02, ...,\n",
              "            1.20965839e-01, 3.14738724e-01, 5.81006409e-01],\n",
              "           ...,\n",
              "           [2.59789421e-01, 2.34873540e-01, 3.29541271e-01, ...,\n",
              "            6.23476623e-01, 5.35458443e-01, 5.42164094e-01],\n",
              "           [4.01857080e-01, 4.63262023e-01, 8.86303300e-01, ...,\n",
              "            2.80599142e-01, 7.81514300e-01, 3.91344470e-01],\n",
              "           [3.00578400e-03, 6.15153663e-01, 7.84038788e-03, ...,\n",
              "            3.83937454e-01, 7.19700570e-01, 6.51038381e-01]]],\n",
              "\n",
              "\n",
              "         [[[3.25607418e-01, 6.96495055e-01, 3.93711175e-01, ...,\n",
              "            9.68660930e-01, 5.29616496e-01, 2.43473033e-01],\n",
              "           [9.27893220e-01, 8.57482224e-01, 4.53497504e-01, ...,\n",
              "            8.35061829e-01, 1.65545939e-01, 4.71711460e-01],\n",
              "           [1.02041318e-01, 4.81041418e-02, 6.57957341e-01, ...,\n",
              "            9.48182351e-01, 2.29708336e-01, 4.57102350e-01],\n",
              "           ...,\n",
              "           [6.19499435e-01, 6.95163851e-02, 3.94655230e-01, ...,\n",
              "            4.79933130e-01, 7.92123690e-01, 8.75448074e-01],\n",
              "           [8.82076308e-01, 3.91785334e-01, 2.52311742e-01, ...,\n",
              "            5.51841306e-02, 7.51650840e-01, 6.35480484e-01],\n",
              "           [2.58846040e-01, 8.30426656e-01, 1.49999271e-01, ...,\n",
              "            1.10862392e-02, 6.83061098e-01, 4.67185221e-01]],\n",
              "\n",
              "          [[9.90253987e-01, 7.84765313e-01, 3.65954018e-01, ...,\n",
              "            7.80453971e-02, 2.23480309e-01, 1.62465783e-01],\n",
              "           [1.68061628e-01, 6.36744390e-01, 2.56087906e-01, ...,\n",
              "            8.28190806e-01, 2.96684808e-01, 5.36162775e-01],\n",
              "           [6.11857044e-01, 2.27466716e-01, 7.62552837e-01, ...,\n",
              "            5.01723392e-01, 3.48486683e-02, 6.83590064e-01],\n",
              "           ...,\n",
              "           [2.17415209e-01, 3.14924889e-01, 3.17296934e-01, ...,\n",
              "            1.97011255e-01, 9.10163319e-01, 4.38450060e-01],\n",
              "           [5.36237004e-01, 4.95139273e-02, 8.65851021e-01, ...,\n",
              "            7.79708197e-01, 2.16483727e-02, 1.00974321e-01],\n",
              "           [7.10765863e-01, 2.76978571e-01, 6.85517978e-01, ...,\n",
              "            5.41929880e-01, 4.36492473e-01, 1.63552974e-01]],\n",
              "\n",
              "          [[4.94631063e-01, 9.24290669e-01, 7.04699678e-01, ...,\n",
              "            2.24586349e-02, 7.30368180e-01, 6.52396172e-01],\n",
              "           [7.89322339e-01, 9.14344308e-01, 5.21888249e-01, ...,\n",
              "            1.73314571e-01, 8.37108457e-01, 6.82289646e-01],\n",
              "           [3.29481148e-01, 9.73824737e-02, 9.03565863e-02, ...,\n",
              "            6.70205923e-01, 6.74061855e-01, 8.88551124e-01],\n",
              "           ...,\n",
              "           [6.75765614e-01, 3.90707761e-01, 5.22314510e-01, ...,\n",
              "            1.90608627e-01, 3.63205595e-01, 8.56062374e-01],\n",
              "           [5.14048348e-01, 1.71513875e-01, 1.57937622e-01, ...,\n",
              "            1.90009917e-02, 1.47276595e-01, 1.19408833e-01],\n",
              "           [2.60628960e-01, 8.22353092e-01, 7.92373273e-01, ...,\n",
              "            9.38314878e-01, 9.76672524e-02, 4.81274036e-01]],\n",
              "\n",
              "          ...,\n",
              "\n",
              "          [[3.20745192e-01, 6.43441785e-01, 7.81170780e-01, ...,\n",
              "            7.25198394e-01, 6.38181597e-01, 8.45450472e-01],\n",
              "           [5.96666955e-01, 7.22388971e-01, 4.28744700e-01, ...,\n",
              "            2.79233119e-01, 5.92454095e-01, 1.51770464e-01],\n",
              "           [9.61948466e-01, 6.75318282e-01, 9.74004002e-01, ...,\n",
              "            7.12954821e-01, 6.62774236e-01, 3.07474492e-01],\n",
              "           ...,\n",
              "           [1.25565503e-01, 8.11645394e-01, 6.90898982e-02, ...,\n",
              "            1.36853366e-01, 6.43330093e-01, 8.87387427e-01],\n",
              "           [6.34447984e-02, 9.55329818e-01, 5.44188793e-01, ...,\n",
              "            6.42888596e-01, 2.50691840e-01, 5.62916106e-01],\n",
              "           [4.60288081e-01, 3.14997383e-01, 5.77128419e-01, ...,\n",
              "            9.82273006e-01, 2.04962912e-01, 1.45556220e-01]],\n",
              "\n",
              "          [[7.71730074e-01, 4.31150562e-01, 1.95021568e-01, ...,\n",
              "            4.87833217e-01, 7.75690395e-01, 4.52341667e-01],\n",
              "           [8.25908170e-01, 1.77339434e-01, 7.92806705e-01, ...,\n",
              "            4.64320270e-01, 5.05241494e-01, 9.31216160e-01],\n",
              "           [8.67157126e-01, 5.44057614e-01, 6.43679239e-01, ...,\n",
              "            2.66172700e-01, 7.10633452e-01, 3.16995441e-01],\n",
              "           ...,\n",
              "           [8.38229178e-01, 4.14561394e-02, 5.59037602e-01, ...,\n",
              "            8.84111359e-01, 7.68425311e-01, 8.89157690e-01],\n",
              "           [8.35671738e-01, 6.06403416e-01, 8.01774720e-01, ...,\n",
              "            6.43389586e-01, 9.06538346e-01, 4.86742211e-01],\n",
              "           [7.59821370e-01, 3.36716751e-01, 6.34400641e-02, ...,\n",
              "            7.04510005e-01, 3.13939739e-01, 8.12886823e-01]],\n",
              "\n",
              "          [[7.46240091e-01, 1.84122171e-01, 3.78722832e-01, ...,\n",
              "            8.94312775e-01, 5.52416938e-01, 3.99134679e-01],\n",
              "           [1.52843307e-01, 8.81506840e-01, 7.75235898e-01, ...,\n",
              "            4.41869206e-01, 5.89406394e-01, 1.77694462e-02],\n",
              "           [3.50869765e-01, 2.80035905e-01, 3.93496910e-02, ...,\n",
              "            9.23219947e-01, 5.12532043e-01, 5.79490480e-02],\n",
              "           ...,\n",
              "           [7.17797406e-01, 5.27085510e-01, 5.82099070e-01, ...,\n",
              "            5.08157214e-01, 8.82448901e-02, 6.10356112e-01],\n",
              "           [7.89526903e-01, 8.17999639e-01, 7.75668830e-01, ...,\n",
              "            8.42238112e-01, 3.98106021e-01, 7.78231835e-01],\n",
              "           [2.91936061e-01, 7.65720010e-01, 3.50756043e-01, ...,\n",
              "            3.52369846e-01, 6.36679486e-01, 1.06230136e-01]]],\n",
              "\n",
              "\n",
              "         [[[3.61694283e-01, 6.50756188e-01, 6.76074466e-01, ...,\n",
              "            1.48859994e-01, 6.64026981e-01, 1.95622259e-01],\n",
              "           [6.08519663e-02, 7.84936148e-01, 5.39942933e-02, ...,\n",
              "            8.22828953e-01, 5.40672750e-01, 4.51977443e-01],\n",
              "           [5.23462666e-01, 3.72451820e-01, 8.04194859e-01, ...,\n",
              "            8.11456449e-01, 9.16278217e-01, 3.23894883e-01],\n",
              "           ...,\n",
              "           [6.92058782e-01, 3.42723772e-01, 4.16600279e-01, ...,\n",
              "            9.78993659e-01, 2.06925395e-01, 6.98359513e-01],\n",
              "           [1.90791141e-01, 5.23038766e-01, 7.75915595e-01, ...,\n",
              "            1.83320957e-01, 4.22915930e-01, 6.58735877e-01],\n",
              "           [7.94557350e-01, 2.91942579e-02, 4.41310038e-01, ...,\n",
              "            2.43980172e-01, 4.86430693e-02, 4.96956713e-01]],\n",
              "\n",
              "          [[7.10794941e-01, 8.62719990e-01, 3.72394770e-01, ...,\n",
              "            8.21768820e-01, 6.77164536e-01, 9.41168342e-01],\n",
              "           [8.71961887e-01, 9.33921056e-01, 5.08403913e-01, ...,\n",
              "            9.80623230e-01, 6.49659174e-02, 7.47470261e-01],\n",
              "           [3.23245526e-01, 9.85510286e-01, 3.17999296e-01, ...,\n",
              "            5.94904782e-01, 6.18253955e-01, 1.22705145e-01],\n",
              "           ...,\n",
              "           [4.94716110e-01, 3.33492955e-01, 3.56231265e-02, ...,\n",
              "            5.77847581e-01, 4.13457969e-01, 6.64115342e-02],\n",
              "           [8.53266004e-02, 6.30239145e-01, 9.70785142e-02, ...,\n",
              "            6.47542902e-01, 8.42027998e-01, 9.03443987e-01],\n",
              "           [5.67852827e-01, 5.08945157e-01, 3.33080485e-01, ...,\n",
              "            8.92585253e-01, 2.56683613e-01, 2.16457271e-01]],\n",
              "\n",
              "          [[1.07474230e-01, 9.88841462e-01, 7.18941175e-01, ...,\n",
              "            4.42541535e-01, 4.33030781e-01, 5.81358289e-02],\n",
              "           [1.75874324e-01, 6.89030983e-01, 9.08870615e-01, ...,\n",
              "            2.81922603e-01, 1.45013842e-01, 3.97227600e-01],\n",
              "           [9.08707136e-01, 7.24799716e-01, 2.82048591e-01, ...,\n",
              "            3.79230553e-01, 2.33869799e-01, 2.02525282e-01],\n",
              "           ...,\n",
              "           [8.60290332e-01, 7.46348181e-01, 9.84147731e-01, ...,\n",
              "            4.00249661e-01, 7.76663256e-01, 5.19687142e-01],\n",
              "           [5.90934844e-01, 4.82216026e-01, 5.85948883e-01, ...,\n",
              "            8.30993196e-01, 9.26023075e-01, 8.94939750e-01],\n",
              "           [1.25042211e-01, 7.16400009e-01, 8.87000468e-01, ...,\n",
              "            7.26351686e-01, 5.01378200e-01, 1.05751841e-01]],\n",
              "\n",
              "          ...,\n",
              "\n",
              "          [[9.77955260e-01, 3.94119017e-01, 6.23222086e-01, ...,\n",
              "            2.48739784e-01, 3.17185808e-01, 9.06580835e-01],\n",
              "           [5.64359051e-01, 2.04721802e-01, 8.33020244e-01, ...,\n",
              "            6.39293589e-01, 8.57510857e-01, 6.17365920e-01],\n",
              "           [4.35274055e-01, 9.85331122e-01, 9.17835181e-01, ...,\n",
              "            6.53377424e-01, 6.34697924e-01, 8.56623466e-02],\n",
              "           ...,\n",
              "           [6.99490950e-01, 9.52273393e-01, 4.31409522e-01, ...,\n",
              "            2.05562331e-01, 8.74485620e-01, 8.89245925e-01],\n",
              "           [6.94638018e-02, 6.68637367e-01, 5.92086371e-02, ...,\n",
              "            9.38845503e-01, 1.26194735e-01, 6.73109087e-01],\n",
              "           [2.67980533e-01, 1.30849625e-01, 4.97180184e-01, ...,\n",
              "            8.35243043e-01, 1.38314336e-01, 4.00374913e-01]],\n",
              "\n",
              "          [[7.21141982e-01, 4.96228993e-02, 6.91520198e-02, ...,\n",
              "            3.37335565e-02, 9.63963166e-01, 5.25814242e-02],\n",
              "           [1.64123614e-01, 1.54014618e-01, 1.19679166e-01, ...,\n",
              "            6.78942908e-01, 5.85687209e-02, 1.91377698e-01],\n",
              "           [2.72929170e-01, 2.70163973e-01, 3.88615625e-01, ...,\n",
              "            9.92960891e-02, 7.12010287e-01, 6.98058919e-01],\n",
              "           ...,\n",
              "           [3.35146949e-01, 3.72496755e-01, 1.90343370e-01, ...,\n",
              "            7.57290744e-01, 2.98489113e-01, 5.70469489e-01],\n",
              "           [2.19368109e-01, 8.52780493e-01, 4.91430254e-01, ...,\n",
              "            3.34212718e-01, 4.00819234e-01, 6.16935219e-01],\n",
              "           [7.98398432e-01, 1.03408525e-01, 3.65738238e-01, ...,\n",
              "            5.24583477e-03, 9.68935696e-02, 8.07077260e-02]],\n",
              "\n",
              "          [[4.07384958e-01, 7.38625868e-01, 2.22197811e-01, ...,\n",
              "            5.09651059e-01, 6.38235940e-01, 5.10143542e-01],\n",
              "           [6.42033370e-01, 6.75112632e-01, 7.04288608e-02, ...,\n",
              "            2.21080328e-01, 9.47685907e-01, 1.24034642e-01],\n",
              "           [8.82662745e-01, 4.58054920e-01, 4.94126062e-01, ...,\n",
              "            2.63460011e-01, 4.98478746e-01, 9.12102492e-01],\n",
              "           ...,\n",
              "           [9.68816131e-01, 8.41246920e-02, 2.87319277e-01, ...,\n",
              "            7.44637991e-01, 2.01313033e-01, 5.20291717e-02],\n",
              "           [3.34892926e-02, 5.46831339e-02, 3.57569499e-02, ...,\n",
              "            4.02678305e-01, 6.72217654e-02, 1.70312122e-01],\n",
              "           [9.90965426e-01, 2.36811700e-01, 3.64649401e-01, ...,\n",
              "            6.45902500e-03, 1.62147159e-01, 6.43416389e-01]]]],\n",
              "\n",
              "\n",
              "\n",
              "        [[[[6.94486075e-01, 8.60412206e-01, 6.26344287e-01, ...,\n",
              "            5.11839552e-01, 3.10292398e-01, 7.95794736e-01],\n",
              "           [3.37630646e-01, 4.01352482e-01, 2.22198515e-01, ...,\n",
              "            8.56707434e-01, 1.19059423e-01, 5.53470938e-01],\n",
              "           [4.04977898e-01, 1.43179971e-01, 9.04138676e-01, ...,\n",
              "            6.80170656e-02, 4.86828543e-01, 5.78431308e-02],\n",
              "           ...,\n",
              "           [2.66475951e-01, 6.02455018e-01, 3.47546902e-01, ...,\n",
              "            3.37518215e-01, 2.38786822e-01, 2.28375700e-01],\n",
              "           [4.25040638e-01, 3.70183824e-01, 8.26683674e-01, ...,\n",
              "            2.60753386e-01, 6.61973720e-01, 5.07539420e-01],\n",
              "           [9.48934261e-01, 9.56793297e-01, 3.60281443e-01, ...,\n",
              "            6.57571994e-01, 6.56523359e-01, 8.85900944e-01]],\n",
              "\n",
              "          [[2.02558620e-01, 7.93693224e-01, 4.26495943e-01, ...,\n",
              "            1.44734310e-01, 3.91405911e-01, 8.10014778e-01],\n",
              "           [5.23965710e-01, 9.96249709e-01, 9.86452798e-02, ...,\n",
              "            6.59963332e-01, 3.21168490e-01, 3.50432599e-01],\n",
              "           [5.27803771e-01, 6.85974588e-01, 5.99794124e-01, ...,\n",
              "            7.22652234e-02, 5.74846939e-01, 3.34691982e-01],\n",
              "           ...,\n",
              "           [2.41981600e-01, 3.39595682e-01, 1.14555354e-01, ...,\n",
              "            5.67871969e-01, 1.19848955e-01, 9.38874318e-01],\n",
              "           [4.17436279e-01, 6.47498655e-01, 6.16029563e-01, ...,\n",
              "            3.39393819e-01, 1.26827923e-02, 3.44696076e-01],\n",
              "           [3.14036953e-01, 8.73890850e-01, 8.27146555e-01, ...,\n",
              "            2.09752972e-01, 1.96045236e-01, 1.59205309e-01]],\n",
              "\n",
              "          [[4.52531759e-01, 3.19878369e-01, 9.31749456e-01, ...,\n",
              "            3.30091199e-01, 9.99619963e-01, 7.26807073e-01],\n",
              "           [1.56870842e-01, 3.49705698e-01, 5.37940042e-01, ...,\n",
              "            6.47775891e-02, 8.07690535e-01, 5.22145378e-01],\n",
              "           [4.06573430e-01, 2.69829859e-01, 4.08112576e-01, ...,\n",
              "            4.09792948e-01, 8.35520121e-01, 7.45965497e-01],\n",
              "           ...,\n",
              "           [3.12463470e-01, 6.96009002e-01, 7.00989782e-01, ...,\n",
              "            8.75592937e-01, 1.73215436e-01, 9.07949448e-01],\n",
              "           [5.89441488e-01, 2.78236127e-01, 7.15612426e-01, ...,\n",
              "            6.71162969e-01, 3.67771899e-01, 1.11567756e-01],\n",
              "           [6.61107745e-02, 4.75659297e-02, 1.86106066e-01, ...,\n",
              "            4.28364052e-01, 2.97309086e-01, 4.68598128e-01]],\n",
              "\n",
              "          ...,\n",
              "\n",
              "          [[5.34618227e-01, 4.32760172e-01, 4.81759499e-01, ...,\n",
              "            6.26871592e-01, 6.40823188e-01, 2.30860473e-01],\n",
              "           [5.45690707e-01, 4.59261405e-01, 7.83861296e-01, ...,\n",
              "            8.39340113e-02, 4.11508291e-01, 9.62611399e-01],\n",
              "           [9.46047646e-01, 7.95565840e-01, 8.13377333e-01, ...,\n",
              "            9.69535641e-01, 7.77731585e-01, 7.43849795e-01],\n",
              "           ...,\n",
              "           [9.47579959e-01, 9.82020530e-01, 2.99123348e-01, ...,\n",
              "            6.77723273e-01, 9.25279478e-01, 9.37914333e-01],\n",
              "           [3.65908574e-01, 3.63136173e-01, 4.31217540e-01, ...,\n",
              "            7.08878811e-01, 2.43462768e-01, 9.16657484e-01],\n",
              "           [5.47923923e-01, 9.53766913e-01, 1.76458794e-01, ...,\n",
              "            1.73096156e-01, 9.73887828e-01, 7.83324790e-01]],\n",
              "\n",
              "          [[8.30411834e-01, 4.08706868e-01, 7.55262880e-01, ...,\n",
              "            1.34335864e-01, 1.89162760e-01, 4.48981580e-02],\n",
              "           [3.27477449e-01, 9.22095394e-01, 1.11271422e-01, ...,\n",
              "            2.65184812e-01, 6.75250062e-01, 9.19879497e-01],\n",
              "           [1.64974039e-01, 5.66758244e-01, 1.80939371e-01, ...,\n",
              "            4.54931344e-01, 8.76789986e-01, 8.19813065e-01],\n",
              "           ...,\n",
              "           [6.77370633e-01, 2.05069784e-01, 6.44483246e-01, ...,\n",
              "            8.99953054e-01, 1.38384616e-01, 2.65317100e-01],\n",
              "           [9.81183978e-01, 6.18463215e-01, 5.76988244e-01, ...,\n",
              "            8.03024447e-01, 4.54603528e-01, 5.39913634e-01],\n",
              "           [7.38013043e-02, 1.00303806e-01, 6.06336488e-01, ...,\n",
              "            7.15571288e-01, 1.10701010e-01, 2.80715824e-01]],\n",
              "\n",
              "          [[5.14022962e-01, 9.27354443e-01, 9.96533793e-01, ...,\n",
              "            4.54920852e-01, 5.47299862e-02, 2.11435074e-01],\n",
              "           [4.48429779e-01, 4.39226189e-01, 8.45618082e-01, ...,\n",
              "            5.68309674e-01, 5.23068187e-01, 3.52540856e-01],\n",
              "           [3.85548659e-01, 1.39162335e-01, 5.57474235e-01, ...,\n",
              "            1.03968816e-01, 3.23276816e-02, 2.77019309e-01],\n",
              "           ...,\n",
              "           [2.47571383e-01, 5.39326542e-01, 3.37851637e-01, ...,\n",
              "            3.39435517e-01, 2.77322473e-01, 1.24672476e-01],\n",
              "           [4.98149181e-01, 5.72523070e-01, 4.25646643e-01, ...,\n",
              "            5.85265954e-01, 1.08036858e-01, 9.87972915e-01],\n",
              "           [4.43616736e-01, 3.41626941e-01, 1.32399535e-01, ...,\n",
              "            8.31527223e-01, 9.51178404e-01, 5.20371213e-01]]],\n",
              "\n",
              "\n",
              "         [[[6.86351976e-01, 6.39608182e-01, 7.90488906e-01, ...,\n",
              "            5.86964605e-01, 7.57316196e-01, 4.05535813e-01],\n",
              "           [8.94242188e-02, 4.94477685e-01, 3.13448741e-01, ...,\n",
              "            7.86807461e-01, 2.89216434e-01, 4.76896161e-02],\n",
              "           [2.95489509e-01, 3.24508433e-01, 4.10847737e-01, ...,\n",
              "            8.07938277e-01, 3.38821186e-01, 5.88123662e-01],\n",
              "           ...,\n",
              "           [1.61602076e-01, 9.01845206e-01, 5.57587776e-01, ...,\n",
              "            9.94624648e-01, 6.79234273e-01, 1.16465474e-01],\n",
              "           [8.29345884e-01, 2.91139159e-01, 5.27105960e-01, ...,\n",
              "            9.69373186e-03, 1.94536729e-01, 9.79222013e-01],\n",
              "           [1.78280585e-01, 4.11003356e-01, 4.47422230e-01, ...,\n",
              "            6.67405856e-01, 3.41192087e-01, 9.24682990e-01]],\n",
              "\n",
              "          [[9.21954222e-01, 8.24296399e-01, 8.45416453e-01, ...,\n",
              "            1.17536838e-01, 4.28369964e-01, 3.22973656e-01],\n",
              "           [5.47123037e-01, 3.09546721e-01, 4.94956633e-01, ...,\n",
              "            2.24302579e-01, 4.33284457e-01, 9.31467248e-01],\n",
              "           [2.55765773e-01, 5.67160225e-01, 4.42186075e-01, ...,\n",
              "            9.02166227e-01, 3.03550773e-01, 8.06025840e-01],\n",
              "           ...,\n",
              "           [4.90276549e-01, 6.97708683e-01, 8.85860315e-01, ...,\n",
              "            1.89944407e-01, 8.93541239e-01, 5.23525784e-01],\n",
              "           [8.34738271e-02, 5.46244059e-01, 8.61380219e-01, ...,\n",
              "            1.38606257e-01, 7.07312764e-01, 8.46533238e-01],\n",
              "           [8.49259091e-02, 2.07787023e-01, 6.32274055e-01, ...,\n",
              "            7.58356581e-01, 8.38342914e-01, 9.64292080e-01]],\n",
              "\n",
              "          [[8.66926933e-01, 7.32326782e-01, 8.36402421e-01, ...,\n",
              "            3.46662279e-01, 5.28114968e-01, 3.77066936e-01],\n",
              "           [1.38706348e-01, 2.29571391e-01, 6.55639157e-03, ...,\n",
              "            2.88552047e-02, 2.07670393e-01, 5.79351284e-01],\n",
              "           [3.27122902e-01, 7.19166113e-01, 6.65207492e-01, ...,\n",
              "            4.92547229e-01, 4.69436887e-01, 1.94244252e-01],\n",
              "           ...,\n",
              "           [7.97066080e-01, 7.72525385e-01, 6.25044818e-01, ...,\n",
              "            4.93431421e-01, 8.01935746e-01, 7.39002428e-01],\n",
              "           [9.84156763e-01, 2.08965461e-01, 9.19767167e-01, ...,\n",
              "            8.46085011e-01, 2.28339133e-01, 6.73963424e-01],\n",
              "           [6.67807162e-01, 6.66024070e-01, 4.53269893e-01, ...,\n",
              "            8.86729412e-01, 8.02316537e-01, 6.53742328e-01]],\n",
              "\n",
              "          ...,\n",
              "\n",
              "          [[4.56311249e-01, 5.48922698e-01, 3.50442617e-02, ...,\n",
              "            8.26335628e-01, 7.51908011e-01, 5.69171349e-01],\n",
              "           [2.06730249e-01, 2.35758664e-03, 9.60597975e-01, ...,\n",
              "            7.69269588e-01, 8.42649961e-01, 5.76684058e-01],\n",
              "           [3.32539171e-01, 8.81671038e-01, 9.85210015e-01, ...,\n",
              "            8.08469828e-02, 7.39028147e-01, 9.39562953e-01],\n",
              "           ...,\n",
              "           [6.62740991e-01, 9.62593948e-01, 2.37521514e-01, ...,\n",
              "            1.60330007e-01, 2.13163918e-01, 8.74130733e-01],\n",
              "           [5.93129107e-01, 3.06000598e-02, 9.35474434e-01, ...,\n",
              "            9.42537036e-01, 7.38806905e-01, 4.66149999e-01],\n",
              "           [8.86921761e-02, 8.36234868e-01, 2.69839698e-01, ...,\n",
              "            2.54703089e-01, 9.43575857e-01, 8.83955734e-01]],\n",
              "\n",
              "          [[6.01186406e-01, 7.34806215e-01, 4.45471394e-01, ...,\n",
              "            6.50101002e-01, 1.78473316e-01, 5.08443049e-01],\n",
              "           [9.98867281e-01, 1.63414162e-01, 4.94989716e-01, ...,\n",
              "            6.29104355e-01, 6.82437108e-01, 9.32473248e-01],\n",
              "           [3.53298406e-01, 1.41497277e-01, 1.88951153e-01, ...,\n",
              "            8.37403719e-01, 2.87979357e-01, 3.31712044e-01],\n",
              "           ...,\n",
              "           [7.20268297e-01, 6.81755228e-01, 7.01650652e-01, ...,\n",
              "            2.59680411e-01, 6.32517815e-01, 9.01770149e-01],\n",
              "           [2.86461123e-01, 3.49661673e-01, 3.00508323e-01, ...,\n",
              "            4.59191419e-01, 2.26343776e-01, 5.49171135e-01],\n",
              "           [7.69694661e-01, 8.20439265e-01, 9.47862050e-01, ...,\n",
              "            5.36109242e-01, 1.15317913e-01, 7.41332536e-01]],\n",
              "\n",
              "          [[4.08657543e-01, 5.29361096e-01, 5.72730416e-01, ...,\n",
              "            5.36318025e-01, 9.28899879e-01, 3.76545421e-01],\n",
              "           [7.16695701e-01, 7.61714258e-01, 2.41343151e-01, ...,\n",
              "            3.70321700e-01, 7.39259887e-01, 8.69387101e-01],\n",
              "           [9.56043667e-01, 6.05124597e-01, 2.68965767e-01, ...,\n",
              "            1.78952772e-02, 5.01421448e-01, 8.75383500e-01],\n",
              "           ...,\n",
              "           [5.14045543e-01, 1.25320047e-01, 7.51133021e-01, ...,\n",
              "            3.26452590e-01, 2.40054001e-01, 1.30158358e-01],\n",
              "           [1.46741420e-01, 4.60492938e-01, 1.64072144e-01, ...,\n",
              "            4.87651505e-01, 6.06854197e-01, 5.48319268e-01],\n",
              "           [7.91449813e-01, 3.80664124e-01, 5.18520638e-01, ...,\n",
              "            9.88151114e-01, 1.53164554e-01, 7.69466951e-01]]],\n",
              "\n",
              "\n",
              "         [[[3.42614783e-01, 9.21280773e-01, 9.45491383e-01, ...,\n",
              "            8.57765487e-02, 5.41760822e-01, 9.35509600e-01],\n",
              "           [1.97171049e-02, 1.55450489e-01, 3.55092252e-01, ...,\n",
              "            1.83678031e-01, 6.71403976e-01, 7.63910718e-01],\n",
              "           [9.19859580e-01, 5.57267716e-01, 2.60267779e-01, ...,\n",
              "            6.59717729e-01, 2.42256976e-01, 6.76097610e-01],\n",
              "           ...,\n",
              "           [9.94805463e-01, 8.96658917e-01, 3.65822022e-01, ...,\n",
              "            7.71517364e-01, 3.25823654e-01, 4.34216591e-01],\n",
              "           [7.55757560e-01, 3.33340909e-01, 6.13538781e-01, ...,\n",
              "            3.08377702e-01, 3.12596598e-01, 7.91696208e-01],\n",
              "           [8.15576728e-01, 5.56422369e-01, 5.32767697e-01, ...,\n",
              "            4.45693761e-02, 3.36095150e-01, 7.28604542e-01]],\n",
              "\n",
              "          [[9.68530677e-01, 9.35205480e-01, 9.66609408e-03, ...,\n",
              "            7.07919392e-01, 4.04170070e-02, 5.05331177e-01],\n",
              "           [4.51588652e-01, 8.92318369e-01, 9.25464036e-01, ...,\n",
              "            4.49788298e-01, 3.50861566e-01, 8.45903495e-01],\n",
              "           [4.27378262e-01, 9.94061501e-01, 7.34670008e-01, ...,\n",
              "            3.72960602e-01, 5.47872797e-02, 1.98344341e-01],\n",
              "           ...,\n",
              "           [7.20127581e-01, 7.63254351e-01, 4.69803783e-02, ...,\n",
              "            6.38065442e-01, 2.30780701e-01, 8.50383675e-01],\n",
              "           [4.01942048e-01, 8.40517749e-02, 7.59111421e-01, ...,\n",
              "            9.79383007e-01, 9.10410648e-01, 5.07554511e-01],\n",
              "           [4.13712811e-01, 7.98014511e-01, 9.05152718e-01, ...,\n",
              "            9.99554543e-01, 5.92424062e-01, 2.29613727e-01]],\n",
              "\n",
              "          [[2.81727136e-01, 7.20354748e-01, 3.10343258e-01, ...,\n",
              "            8.90926820e-01, 4.25343333e-01, 2.02648414e-01],\n",
              "           [8.21917844e-01, 7.02877149e-01, 5.23712418e-01, ...,\n",
              "            3.45967013e-01, 3.45966444e-03, 4.56094385e-01],\n",
              "           [3.15209033e-01, 6.53477434e-01, 5.96106976e-01, ...,\n",
              "            2.28206840e-01, 7.37818692e-01, 8.43052161e-01],\n",
              "           ...,\n",
              "           [9.93380492e-01, 7.36402248e-02, 2.35623399e-01, ...,\n",
              "            7.23329565e-01, 6.73047826e-01, 9.31561949e-01],\n",
              "           [5.26353397e-01, 2.78042105e-01, 4.61187738e-01, ...,\n",
              "            6.92757442e-01, 9.19388900e-01, 9.29029536e-01],\n",
              "           [8.77582016e-01, 3.67676035e-01, 3.21514627e-01, ...,\n",
              "            4.42252405e-01, 1.77955085e-01, 2.28991705e-01]],\n",
              "\n",
              "          ...,\n",
              "\n",
              "          [[4.84884440e-01, 4.45393776e-01, 4.65709119e-01, ...,\n",
              "            6.85532416e-01, 8.29037420e-01, 5.36456168e-01],\n",
              "           [9.58561558e-01, 6.62471928e-02, 9.92677274e-01, ...,\n",
              "            6.02432028e-01, 2.23781229e-01, 9.31205687e-01],\n",
              "           [9.87111201e-01, 8.38392777e-01, 9.60373591e-01, ...,\n",
              "            5.16229629e-02, 8.33598607e-01, 2.70597890e-01],\n",
              "           ...,\n",
              "           [7.15942548e-01, 1.33751499e-01, 9.94329488e-02, ...,\n",
              "            2.04617294e-02, 9.94233004e-01, 6.79032538e-01],\n",
              "           [7.65458823e-01, 2.36380117e-01, 4.67969940e-01, ...,\n",
              "            7.75094815e-01, 5.45699954e-01, 3.66558320e-01],\n",
              "           [5.37363090e-01, 9.76583658e-01, 8.00969349e-02, ...,\n",
              "            5.24590609e-01, 2.12290472e-01, 8.01780883e-01]],\n",
              "\n",
              "          [[7.86465728e-01, 9.51577736e-01, 4.01697244e-01, ...,\n",
              "            4.75659100e-01, 5.80230154e-01, 8.75821316e-01],\n",
              "           [5.08907468e-01, 3.56945443e-01, 2.91382002e-01, ...,\n",
              "            5.61172847e-01, 6.08432189e-01, 1.06278598e-01],\n",
              "           [8.73557429e-01, 5.72244519e-01, 8.95679278e-01, ...,\n",
              "            7.13407460e-01, 4.16344953e-01, 5.07461642e-01],\n",
              "           ...,\n",
              "           [7.04345965e-01, 2.17485320e-01, 4.15471548e-02, ...,\n",
              "            7.88202567e-01, 7.78064610e-01, 3.84136394e-02],\n",
              "           [1.10235825e-01, 3.93533464e-01, 1.75484569e-01, ...,\n",
              "            5.23519327e-01, 1.84876296e-01, 1.68420962e-01],\n",
              "           [2.23758992e-02, 6.32808160e-01, 1.28520364e-01, ...,\n",
              "            9.42608002e-01, 2.47517890e-01, 5.68342216e-01]],\n",
              "\n",
              "          [[9.32901366e-01, 3.58460086e-01, 1.58548787e-01, ...,\n",
              "            6.92621214e-01, 5.06283720e-01, 1.18362795e-01],\n",
              "           [8.87746459e-01, 4.44265004e-01, 9.11380440e-01, ...,\n",
              "            1.51343843e-01, 4.95398980e-02, 1.57107297e-01],\n",
              "           [3.10527652e-01, 4.00040576e-02, 1.71334230e-01, ...,\n",
              "            9.26812267e-01, 5.61450658e-01, 2.74479284e-01],\n",
              "           ...,\n",
              "           [7.16684109e-01, 8.41056647e-01, 6.81813351e-01, ...,\n",
              "            5.39870737e-01, 8.61168195e-01, 1.17630986e-01],\n",
              "           [7.48636445e-02, 5.61733997e-01, 9.71705381e-01, ...,\n",
              "            8.48796256e-02, 4.27095438e-01, 4.40664675e-01],\n",
              "           [8.89948174e-01, 5.31427558e-01, 2.02175813e-01, ...,\n",
              "            7.67566603e-01, 3.80256966e-01, 3.24184465e-01]]],\n",
              "\n",
              "\n",
              "         [[[6.68914192e-01, 9.96142164e-01, 1.47399110e-01, ...,\n",
              "            6.13822707e-01, 9.82934243e-01, 1.40704764e-01],\n",
              "           [4.17725222e-01, 3.36793198e-01, 2.21440117e-01, ...,\n",
              "            5.69232225e-01, 8.99037937e-01, 9.30418902e-01],\n",
              "           [9.64256078e-01, 2.40575400e-01, 7.61634514e-01, ...,\n",
              "            2.99882474e-01, 3.47498395e-02, 2.11109975e-01],\n",
              "           ...,\n",
              "           [6.78949961e-01, 8.68950791e-01, 6.18211005e-02, ...,\n",
              "            8.39311930e-01, 2.61240269e-01, 2.35318733e-01],\n",
              "           [2.69794230e-01, 2.77105863e-02, 5.78986385e-01, ...,\n",
              "            4.42488267e-01, 1.64055792e-01, 2.08092399e-02],\n",
              "           [2.23637183e-01, 6.52695939e-02, 5.47808691e-01, ...,\n",
              "            9.47281502e-01, 5.94560628e-01, 1.23007754e-01]],\n",
              "\n",
              "          [[7.95718854e-02, 1.88665187e-01, 6.83619463e-01, ...,\n",
              "            2.43101667e-01, 6.81441018e-01, 3.30239004e-01],\n",
              "           [2.18039573e-01, 2.92347587e-01, 5.48515072e-03, ...,\n",
              "            5.22958121e-01, 1.92579559e-01, 2.88357618e-01],\n",
              "           [4.37321746e-01, 4.69763905e-01, 6.05389697e-01, ...,\n",
              "            9.84841310e-01, 3.54554360e-01, 4.50293679e-01],\n",
              "           ...,\n",
              "           [3.13660216e-01, 8.18002038e-01, 1.52377507e-01, ...,\n",
              "            3.03457844e-01, 5.81524298e-01, 2.71983170e-01],\n",
              "           [2.35253259e-01, 4.50750095e-02, 6.67578395e-01, ...,\n",
              "            2.54055231e-01, 3.43656245e-01, 8.45945982e-01],\n",
              "           [6.61015922e-01, 3.02379641e-01, 7.38280732e-01, ...,\n",
              "            8.48368941e-01, 9.06024968e-01, 3.76508028e-01]],\n",
              "\n",
              "          [[8.76213098e-01, 4.85140232e-01, 8.45126099e-01, ...,\n",
              "            6.98975837e-01, 1.93874333e-02, 6.30349950e-01],\n",
              "           [8.20193954e-01, 7.77061707e-01, 5.54611783e-01, ...,\n",
              "            4.15375579e-01, 4.06936669e-01, 8.71468297e-01],\n",
              "           [2.01034565e-01, 9.29343435e-01, 3.76251063e-01, ...,\n",
              "            1.82299726e-02, 2.71234703e-01, 4.15888967e-01],\n",
              "           ...,\n",
              "           [6.10377042e-01, 6.88794327e-01, 1.98363788e-01, ...,\n",
              "            9.50575993e-01, 5.62193391e-01, 5.81324165e-01],\n",
              "           [5.42703207e-01, 9.95087384e-02, 1.99633538e-01, ...,\n",
              "            2.20409647e-01, 9.18919009e-01, 2.47384051e-01],\n",
              "           [9.80919905e-01, 5.56111535e-01, 7.13733928e-02, ...,\n",
              "            7.74131399e-01, 1.65469187e-01, 5.05336151e-01]],\n",
              "\n",
              "          ...,\n",
              "\n",
              "          [[8.30788738e-01, 9.58569584e-02, 7.63142390e-01, ...,\n",
              "            7.43068979e-01, 9.28494639e-01, 8.12808652e-02],\n",
              "           [7.72006528e-02, 3.51543354e-01, 6.16240858e-01, ...,\n",
              "            7.43745558e-01, 5.92304801e-01, 2.43199069e-01],\n",
              "           [4.62265783e-02, 9.27585568e-01, 2.69378807e-01, ...,\n",
              "            3.32927787e-01, 5.75637566e-01, 5.68612250e-01],\n",
              "           ...,\n",
              "           [2.44806439e-01, 1.74443543e-01, 3.32009374e-01, ...,\n",
              "            3.48774866e-01, 7.60767881e-01, 4.24947113e-01],\n",
              "           [6.45084421e-01, 6.69391649e-01, 6.12708564e-02, ...,\n",
              "            2.07405040e-01, 8.81616779e-01, 9.01835530e-01],\n",
              "           [5.01122430e-01, 8.95666510e-01, 3.33872675e-01, ...,\n",
              "            1.84901341e-01, 2.61227487e-01, 4.75192783e-01]],\n",
              "\n",
              "          [[4.48832771e-01, 9.76193468e-01, 3.16683387e-01, ...,\n",
              "            6.64896283e-01, 6.73160847e-01, 4.01942459e-01],\n",
              "           [8.15347967e-01, 9.10167686e-01, 7.89068927e-01, ...,\n",
              "            1.90247079e-01, 1.60646273e-01, 1.50655516e-01],\n",
              "           [1.56664341e-01, 2.75392338e-01, 8.39423350e-01, ...,\n",
              "            8.67030527e-01, 5.23865844e-01, 9.24514276e-02],\n",
              "           ...,\n",
              "           [4.69231721e-01, 8.12946728e-01, 3.81208103e-01, ...,\n",
              "            2.69150174e-01, 3.79720056e-01, 1.55889215e-01],\n",
              "           [7.36289796e-01, 6.99608183e-01, 1.64769457e-01, ...,\n",
              "            5.10625095e-01, 5.73572227e-01, 4.54052260e-02],\n",
              "           [5.61702682e-01, 8.25963164e-01, 3.70511994e-01, ...,\n",
              "            8.62237833e-01, 5.05590906e-01, 8.37266341e-01]],\n",
              "\n",
              "          [[5.24535138e-01, 7.06492244e-01, 4.45061144e-01, ...,\n",
              "            2.00851735e-01, 8.46548176e-01, 2.27163703e-01],\n",
              "           [4.38847545e-01, 5.50082931e-01, 8.85200720e-01, ...,\n",
              "            2.78203385e-01, 8.66386617e-02, 7.76075562e-01],\n",
              "           [1.38975199e-01, 4.05368843e-01, 5.79250848e-01, ...,\n",
              "            6.90496168e-01, 9.28414959e-01, 7.16206724e-01],\n",
              "           ...,\n",
              "           [9.34459737e-01, 4.96637985e-01, 8.21460439e-01, ...,\n",
              "            9.72581549e-02, 1.75028973e-01, 9.71668695e-01],\n",
              "           [2.35960629e-01, 6.39897490e-01, 8.10743241e-01, ...,\n",
              "            5.36163966e-01, 1.26554169e-01, 4.53039467e-01],\n",
              "           [2.21678677e-01, 4.36885644e-01, 6.60674778e-01, ...,\n",
              "            6.74550792e-01, 9.22596840e-01, 4.27555171e-01]]]]],\n",
              "\n",
              "\n",
              "\n",
              "\n",
              "       [[[[[4.37848699e-01, 8.73441168e-01, 1.98599354e-01, ...,\n",
              "            5.65164397e-01, 8.85624427e-02, 7.13393705e-01],\n",
              "           [6.34935381e-01, 1.28877724e-01, 4.92105976e-01, ...,\n",
              "            1.48579224e-01, 9.42051042e-01, 5.86631625e-01],\n",
              "           [4.43950321e-01, 9.36779315e-01, 8.50140674e-01, ...,\n",
              "            9.67387279e-01, 3.99242790e-01, 8.02854608e-01],\n",
              "           ...,\n",
              "           [5.29702207e-01, 2.77574884e-01, 6.59709235e-01, ...,\n",
              "            4.85127306e-01, 3.85191386e-01, 8.37272909e-01],\n",
              "           [5.94808494e-02, 6.98948046e-01, 1.71349094e-01, ...,\n",
              "            8.66359343e-01, 9.21154092e-01, 7.33411282e-01],\n",
              "           [6.20501262e-01, 2.94364075e-01, 2.06354297e-01, ...,\n",
              "            8.94258510e-01, 6.18775487e-01, 5.33684846e-01]],\n",
              "\n",
              "          [[4.28270883e-01, 2.69629626e-01, 3.20672267e-01, ...,\n",
              "            9.07834328e-01, 4.19485154e-02, 5.40056040e-01],\n",
              "           [8.33704595e-01, 6.43377533e-01, 3.25311549e-01, ...,\n",
              "            5.41804737e-01, 3.40329404e-01, 5.94177424e-01],\n",
              "           [4.20991815e-01, 7.35342702e-01, 8.81439446e-01, ...,\n",
              "            5.55612895e-01, 6.07708658e-01, 1.88823768e-02],\n",
              "           ...,\n",
              "           [2.77021988e-02, 1.38790022e-01, 6.68263762e-01, ...,\n",
              "            8.10194280e-01, 4.41431840e-02, 3.65729616e-01],\n",
              "           [2.85961149e-02, 6.01188224e-01, 5.62027602e-01, ...,\n",
              "            8.64910186e-02, 1.91716784e-01, 7.83917371e-01],\n",
              "           [4.60344027e-01, 2.68208789e-01, 4.51163143e-01, ...,\n",
              "            3.54340096e-01, 9.76066984e-01, 7.93207483e-01]],\n",
              "\n",
              "          [[2.98824843e-01, 9.18204003e-01, 1.04805913e-01, ...,\n",
              "            1.79549389e-01, 7.35048761e-01, 1.11742224e-01],\n",
              "           [2.43618703e-01, 9.38649047e-01, 1.38085489e-01, ...,\n",
              "            9.72033413e-01, 6.79552514e-01, 8.94520878e-01],\n",
              "           [1.33438288e-01, 4.14277798e-01, 2.17796592e-01, ...,\n",
              "            6.35613805e-01, 9.92462137e-01, 8.23968891e-01],\n",
              "           ...,\n",
              "           [4.13185010e-01, 9.12283127e-01, 1.03897430e-01, ...,\n",
              "            4.43399282e-01, 2.34330468e-01, 3.45771424e-01],\n",
              "           [9.74341932e-01, 8.86734295e-01, 4.67044721e-01, ...,\n",
              "            2.17725278e-01, 6.31211410e-01, 6.76254274e-01],\n",
              "           [9.24047305e-01, 7.67479750e-01, 6.65298836e-01, ...,\n",
              "            5.30649396e-01, 5.03072891e-02, 2.25674907e-01]],\n",
              "\n",
              "          ...,\n",
              "\n",
              "          [[9.20127834e-01, 3.92028204e-01, 2.20216229e-01, ...,\n",
              "            4.30021862e-01, 3.70409784e-01, 4.11805309e-01],\n",
              "           [9.79144506e-01, 5.52430566e-01, 8.12291129e-01, ...,\n",
              "            5.79662820e-01, 8.10438269e-01, 3.50665049e-01],\n",
              "           [4.40331256e-01, 6.86915863e-01, 9.43230401e-02, ...,\n",
              "            5.38443876e-01, 3.86615375e-01, 6.25731777e-02],\n",
              "           ...,\n",
              "           [8.70127319e-01, 2.25835115e-01, 2.23235235e-01, ...,\n",
              "            1.82285122e-01, 5.31338639e-01, 9.71712795e-01],\n",
              "           [1.51875450e-01, 7.48454968e-01, 7.91094557e-01, ...,\n",
              "            4.06284484e-01, 7.82571166e-01, 9.16760449e-01],\n",
              "           [1.27507349e-01, 1.50545174e-01, 8.59675785e-01, ...,\n",
              "            8.55755684e-01, 9.97124454e-01, 4.26580635e-01]],\n",
              "\n",
              "          [[2.71675796e-01, 9.19004288e-01, 2.83240707e-02, ...,\n",
              "            6.07025661e-01, 6.70964015e-01, 4.11735061e-01],\n",
              "           [6.93559573e-01, 4.55810752e-01, 3.02121485e-01, ...,\n",
              "            7.61883955e-01, 5.56942098e-01, 7.27535615e-01],\n",
              "           [8.82019267e-01, 4.98612205e-01, 6.77336746e-01, ...,\n",
              "            4.80605364e-01, 3.18659128e-01, 3.11935578e-01],\n",
              "           ...,\n",
              "           [4.49076134e-01, 7.82073006e-01, 8.37025265e-02, ...,\n",
              "            5.66305926e-01, 3.88794370e-01, 1.09176435e-01],\n",
              "           [4.34500766e-01, 3.01772746e-01, 8.03667642e-01, ...,\n",
              "            8.46654600e-01, 8.44434514e-01, 3.05871572e-01],\n",
              "           [7.66691909e-01, 6.79433953e-01, 7.28273458e-01, ...,\n",
              "            5.17334334e-01, 6.22543171e-01, 4.85798836e-01]],\n",
              "\n",
              "          [[1.59052470e-01, 7.82139326e-01, 3.72957007e-01, ...,\n",
              "            7.78236735e-01, 6.68574528e-01, 1.08581751e-01],\n",
              "           [9.70211690e-01, 4.88299812e-01, 1.56530288e-01, ...,\n",
              "            5.31279717e-01, 9.89947118e-01, 1.92075889e-02],\n",
              "           [9.32222990e-01, 5.03544876e-01, 7.74540827e-01, ...,\n",
              "            2.70103802e-01, 5.91978043e-01, 3.13676152e-01],\n",
              "           ...,\n",
              "           [1.28863401e-01, 8.30960640e-01, 2.48527096e-01, ...,\n",
              "            7.83544427e-01, 9.50559308e-01, 4.71663020e-01],\n",
              "           [7.03100471e-01, 9.63807698e-01, 4.07606245e-03, ...,\n",
              "            4.30213730e-01, 6.97291157e-02, 5.06095912e-01],\n",
              "           [7.86312530e-01, 2.03897096e-01, 1.99372676e-01, ...,\n",
              "            3.75756117e-01, 9.39350520e-01, 2.13746120e-01]]],\n",
              "\n",
              "\n",
              "         [[[7.14913516e-01, 7.06640514e-01, 5.58958185e-01, ...,\n",
              "            7.75329203e-01, 3.00793432e-01, 6.26263248e-01],\n",
              "           [5.43455128e-01, 1.16043138e-01, 2.77132810e-02, ...,\n",
              "            4.29804100e-01, 4.50990306e-02, 3.21408129e-02],\n",
              "           [3.68828263e-01, 6.36025840e-02, 6.18678522e-01, ...,\n",
              "            8.03646860e-01, 6.66831347e-01, 5.49259695e-01],\n",
              "           ...,\n",
              "           [9.87542055e-02, 8.44728683e-01, 3.95116963e-02, ...,\n",
              "            9.77494762e-01, 8.40127798e-01, 7.52031739e-01],\n",
              "           [8.83016827e-01, 4.78132623e-02, 6.93653722e-01, ...,\n",
              "            2.10027844e-01, 8.28892327e-03, 3.24309359e-01],\n",
              "           [5.26238121e-01, 8.77349961e-01, 6.64612102e-01, ...,\n",
              "            4.60286447e-01, 4.58262295e-01, 1.07870708e-01]],\n",
              "\n",
              "          [[4.69316280e-01, 9.97840793e-01, 7.59998813e-01, ...,\n",
              "            8.29079753e-01, 8.45833355e-01, 5.34093427e-01],\n",
              "           [3.29797368e-01, 1.99335316e-01, 1.96553186e-01, ...,\n",
              "            1.88498544e-01, 5.29106959e-01, 1.41094308e-01],\n",
              "           [2.28195307e-01, 5.90047853e-01, 4.76054647e-01, ...,\n",
              "            8.67005080e-01, 3.17553094e-01, 9.25027434e-01],\n",
              "           ...,\n",
              "           [3.93499944e-01, 1.94034131e-01, 5.26962932e-01, ...,\n",
              "            9.27244681e-01, 3.40391689e-01, 4.81713493e-01],\n",
              "           [3.43981673e-01, 6.18506448e-01, 7.35894632e-01, ...,\n",
              "            5.13989247e-02, 2.91201931e-01, 9.77616623e-02],\n",
              "           [1.85141506e-01, 8.32897818e-02, 3.64079321e-01, ...,\n",
              "            6.86069016e-01, 2.99694267e-01, 1.91680912e-01]],\n",
              "\n",
              "          [[2.98352260e-01, 4.33770898e-01, 5.54986164e-01, ...,\n",
              "            1.33155812e-01, 9.79247527e-01, 3.02063294e-01],\n",
              "           [9.46812658e-01, 8.93996486e-01, 1.96911918e-01, ...,\n",
              "            5.07495302e-01, 4.44105323e-01, 9.30811821e-01],\n",
              "           [9.29183468e-01, 5.05752500e-01, 2.68460283e-01, ...,\n",
              "            8.70532926e-01, 8.44599772e-01, 9.86662036e-01],\n",
              "           ...,\n",
              "           [7.15799158e-01, 6.67470045e-02, 2.33906997e-01, ...,\n",
              "            2.35962059e-01, 7.29354856e-01, 8.96558569e-01],\n",
              "           [1.15873679e-01, 6.55692742e-01, 6.43823784e-01, ...,\n",
              "            1.82496558e-01, 5.12702559e-02, 6.68631964e-01],\n",
              "           [2.26903429e-01, 2.83556264e-01, 8.53998649e-01, ...,\n",
              "            7.57003860e-01, 5.30597389e-01, 2.27202306e-01]],\n",
              "\n",
              "          ...,\n",
              "\n",
              "          [[9.63223870e-01, 4.80435354e-01, 9.75433401e-01, ...,\n",
              "            2.24520872e-01, 7.03043877e-01, 5.38260888e-01],\n",
              "           [8.66001944e-02, 8.01310844e-01, 5.10500427e-01, ...,\n",
              "            1.94026484e-01, 2.31302386e-01, 2.60362000e-01],\n",
              "           [6.42284904e-01, 6.94962184e-01, 1.83326116e-01, ...,\n",
              "            3.90352898e-01, 9.46785897e-01, 9.75133432e-01],\n",
              "           ...,\n",
              "           [8.31024461e-01, 8.73559174e-01, 1.96733625e-01, ...,\n",
              "            9.62781697e-01, 1.10471379e-02, 4.09626894e-01],\n",
              "           [9.37238575e-01, 5.49194311e-01, 5.57141933e-01, ...,\n",
              "            3.27467059e-01, 6.84890724e-01, 2.11523734e-01],\n",
              "           [6.19431897e-03, 5.26432001e-01, 3.64557550e-01, ...,\n",
              "            1.75308954e-01, 8.72749052e-01, 1.47284347e-01]],\n",
              "\n",
              "          [[1.97143475e-01, 2.13108454e-01, 7.45199908e-01, ...,\n",
              "            3.02686081e-02, 4.16307101e-01, 5.17091326e-01],\n",
              "           [6.79129220e-01, 7.37201867e-01, 4.89700414e-01, ...,\n",
              "            8.23391941e-01, 8.86153712e-02, 8.43916198e-01],\n",
              "           [5.70949662e-01, 1.14237620e-01, 8.20889712e-01, ...,\n",
              "            1.54860191e-01, 7.03426289e-01, 9.72379148e-01],\n",
              "           ...,\n",
              "           [5.15074554e-01, 2.16716141e-01, 9.89195243e-01, ...,\n",
              "            9.72200836e-01, 4.22402429e-01, 6.32892966e-02],\n",
              "           [2.59095230e-01, 4.80258264e-01, 1.06463591e-01, ...,\n",
              "            8.69952658e-02, 9.03995536e-02, 5.33233982e-01],\n",
              "           [7.56746639e-01, 5.94910855e-01, 4.77608764e-01, ...,\n",
              "            7.65687988e-01, 2.68907339e-01, 3.71739205e-01]],\n",
              "\n",
              "          [[1.80373043e-01, 8.30322213e-01, 5.29119134e-01, ...,\n",
              "            6.69808382e-01, 1.76120234e-01, 6.21959365e-01],\n",
              "           [6.59607646e-01, 3.35135532e-01, 3.84488090e-01, ...,\n",
              "            9.55783594e-01, 8.57006971e-01, 9.62942471e-01],\n",
              "           [8.30754218e-01, 2.50551033e-01, 8.25763175e-01, ...,\n",
              "            8.23904115e-01, 6.69504892e-02, 4.47028844e-01],\n",
              "           ...,\n",
              "           [4.01836273e-01, 3.24870016e-01, 7.13167143e-01, ...,\n",
              "            9.38379455e-01, 8.78474370e-01, 5.07761843e-01],\n",
              "           [6.42556932e-01, 7.99324319e-01, 6.23361179e-02, ...,\n",
              "            8.26372349e-01, 8.92010636e-01, 9.29690032e-01],\n",
              "           [1.12542388e-01, 2.12428529e-02, 1.95933908e-01, ...,\n",
              "            8.39315985e-01, 5.33026645e-01, 6.96029393e-01]]],\n",
              "\n",
              "\n",
              "         [[[9.95846801e-01, 3.84844738e-01, 7.88660923e-01, ...,\n",
              "            8.37517844e-01, 9.03819951e-01, 4.54207462e-01],\n",
              "           [4.45713489e-01, 2.87470654e-01, 1.58321869e-01, ...,\n",
              "            7.53206945e-01, 5.90096557e-01, 8.36359092e-01],\n",
              "           [8.73794179e-01, 3.09592311e-01, 9.63006906e-01, ...,\n",
              "            7.66985155e-01, 1.99490280e-01, 3.22928081e-01],\n",
              "           ...,\n",
              "           [2.08436570e-01, 3.82679665e-01, 5.09931597e-01, ...,\n",
              "            5.94210745e-01, 1.43689707e-01, 2.17292441e-01],\n",
              "           [6.42245925e-01, 9.99501560e-02, 3.35434217e-01, ...,\n",
              "            5.22384064e-01, 5.16148958e-01, 5.12150546e-01],\n",
              "           [2.41702887e-01, 7.10159897e-01, 4.38635755e-01, ...,\n",
              "            3.04317063e-01, 2.91095514e-01, 4.49450316e-01]],\n",
              "\n",
              "          [[3.38395228e-01, 7.25254963e-01, 6.83901261e-01, ...,\n",
              "            1.98820170e-01, 1.43827893e-01, 3.18319426e-01],\n",
              "           [2.16000552e-01, 4.08947828e-01, 3.18280020e-01, ...,\n",
              "            4.70508212e-01, 6.50484806e-01, 8.79695928e-01],\n",
              "           [6.67357268e-01, 5.00169080e-01, 7.97552663e-01, ...,\n",
              "            7.15058657e-01, 7.15883951e-01, 4.45614046e-01],\n",
              "           ...,\n",
              "           [9.37986379e-01, 6.93642076e-01, 1.17748201e-01, ...,\n",
              "            1.57485678e-01, 2.79431166e-01, 1.59966230e-01],\n",
              "           [2.58211684e-01, 5.48909229e-01, 2.10047371e-01, ...,\n",
              "            8.08885328e-01, 6.67557001e-02, 9.97259478e-01],\n",
              "           [9.22002484e-01, 5.07020730e-01, 2.47753707e-01, ...,\n",
              "            1.82833157e-01, 7.39645690e-03, 9.16326095e-01]],\n",
              "\n",
              "          [[3.20869922e-01, 3.27707621e-02, 8.32008314e-01, ...,\n",
              "            2.21724255e-01, 4.50476983e-01, 9.97265672e-01],\n",
              "           [2.88790530e-01, 3.84744898e-01, 3.91721203e-01, ...,\n",
              "            6.98453630e-01, 3.22165131e-01, 8.13234389e-01],\n",
              "           [6.70196647e-01, 5.74565444e-01, 9.57093750e-01, ...,\n",
              "            4.74176427e-01, 4.74086762e-01, 5.45994362e-02],\n",
              "           ...,\n",
              "           [5.54279139e-01, 4.00745367e-01, 7.41497478e-01, ...,\n",
              "            6.93421429e-01, 6.81527579e-01, 3.15537917e-01],\n",
              "           [8.81842239e-01, 7.94945493e-03, 3.42706262e-02, ...,\n",
              "            4.65336859e-01, 5.60334477e-01, 7.71008838e-01],\n",
              "           [5.72945740e-01, 3.58473268e-01, 8.11190743e-01, ...,\n",
              "            9.65970428e-01, 8.06807196e-01, 8.96862467e-01]],\n",
              "\n",
              "          ...,\n",
              "\n",
              "          [[8.82238049e-01, 3.30843191e-01, 5.89871451e-01, ...,\n",
              "            3.68775767e-01, 2.62138559e-02, 2.05559562e-01],\n",
              "           [2.67275274e-01, 7.48014177e-01, 5.73259935e-02, ...,\n",
              "            4.91751011e-01, 5.44042258e-01, 9.43798015e-01],\n",
              "           [7.82278904e-01, 9.39119419e-01, 3.57322217e-01, ...,\n",
              "            1.95386569e-03, 3.14317438e-01, 5.22477240e-02],\n",
              "           ...,\n",
              "           [9.51883185e-01, 2.11747791e-01, 7.22335936e-01, ...,\n",
              "            1.78602409e-01, 9.76231241e-01, 5.60064748e-01],\n",
              "           [1.94593511e-01, 8.52026006e-03, 7.88553056e-02, ...,\n",
              "            4.74692372e-02, 7.09938280e-01, 9.35616292e-01],\n",
              "           [1.60774933e-01, 2.13804131e-01, 9.74507800e-01, ...,\n",
              "            9.08638310e-01, 1.84013558e-01, 8.71094541e-01]],\n",
              "\n",
              "          [[5.12931796e-01, 3.65113938e-01, 2.21348847e-02, ...,\n",
              "            3.67846387e-01, 5.59193545e-02, 4.86550329e-01],\n",
              "           [3.00184208e-02, 2.49327552e-01, 4.16895276e-01, ...,\n",
              "            9.22813405e-01, 9.21605356e-01, 7.58800840e-01],\n",
              "           [1.27667961e-01, 2.96026295e-01, 1.50292429e-01, ...,\n",
              "            5.87895048e-01, 1.67006714e-01, 6.89555771e-01],\n",
              "           ...,\n",
              "           [6.38350680e-01, 8.19089141e-01, 3.05875593e-01, ...,\n",
              "            9.77618720e-01, 1.41087780e-01, 5.21648195e-01],\n",
              "           [8.93624047e-01, 8.44911903e-01, 2.88091104e-01, ...,\n",
              "            5.14187881e-01, 1.45328198e-01, 1.19924296e-01],\n",
              "           [8.92431209e-01, 2.52073241e-01, 2.16617958e-01, ...,\n",
              "            3.32476466e-01, 3.07126467e-01, 9.64636517e-01]],\n",
              "\n",
              "          [[3.62307218e-01, 3.29105384e-02, 5.45039943e-01, ...,\n",
              "            4.44338395e-01, 1.87676332e-01, 1.47140297e-01],\n",
              "           [1.76703145e-01, 8.08753434e-01, 5.77689378e-01, ...,\n",
              "            9.04497824e-01, 1.43225456e-01, 6.87271988e-01],\n",
              "           [2.00919010e-01, 5.21887288e-01, 5.98521335e-01, ...,\n",
              "            2.47268916e-01, 3.26318640e-01, 1.27748215e-01],\n",
              "           ...,\n",
              "           [5.03239416e-01, 6.00117654e-01, 7.21690612e-01, ...,\n",
              "            5.66024401e-01, 4.85316903e-01, 4.26921220e-01],\n",
              "           [1.07437537e-01, 9.34123966e-01, 6.72502172e-01, ...,\n",
              "            4.22781764e-02, 9.81212833e-01, 6.53520138e-01],\n",
              "           [8.46274199e-01, 3.43881091e-01, 4.09189790e-01, ...,\n",
              "            7.32860028e-01, 2.38571126e-01, 6.50785670e-01]]],\n",
              "\n",
              "\n",
              "         [[[5.48760241e-01, 9.31184170e-01, 8.20365370e-02, ...,\n",
              "            8.55045434e-01, 3.13117996e-01, 3.77360794e-01],\n",
              "           [8.57318784e-01, 1.44862872e-01, 7.06062332e-01, ...,\n",
              "            6.38652796e-01, 3.75742869e-01, 1.56599752e-01],\n",
              "           [2.75914899e-01, 3.12918189e-01, 6.78303406e-01, ...,\n",
              "            7.13397572e-01, 7.09095964e-01, 9.98772278e-01],\n",
              "           ...,\n",
              "           [9.11940997e-01, 7.41958356e-01, 6.39046352e-01, ...,\n",
              "            2.64547483e-01, 4.31667096e-01, 9.11119014e-01],\n",
              "           [9.99840621e-01, 5.99436462e-01, 8.45632595e-01, ...,\n",
              "            1.52184482e-01, 5.38294644e-01, 7.43756856e-02],\n",
              "           [3.08412142e-01, 5.46321684e-01, 2.30914279e-01, ...,\n",
              "            4.04293447e-01, 8.68226071e-01, 7.25590546e-01]],\n",
              "\n",
              "          [[5.61871766e-01, 4.43146217e-01, 8.04530853e-01, ...,\n",
              "            4.04158505e-01, 7.25977949e-02, 3.62302336e-01],\n",
              "           [7.30555014e-01, 7.54150938e-01, 7.81211455e-01, ...,\n",
              "            2.63445982e-01, 2.21121034e-01, 1.11787507e-01],\n",
              "           [5.14179351e-01, 4.83270629e-01, 9.91640106e-01, ...,\n",
              "            7.22340578e-02, 1.20355392e-01, 9.25055448e-01],\n",
              "           ...,\n",
              "           [1.99569997e-01, 7.89089356e-01, 6.65317191e-01, ...,\n",
              "            9.45941780e-01, 9.03150138e-01, 7.72248461e-01],\n",
              "           [8.60761863e-01, 8.83286170e-01, 5.02143083e-01, ...,\n",
              "            4.40256320e-02, 1.53194321e-01, 7.54121267e-01],\n",
              "           [7.25490221e-01, 2.06598863e-01, 5.04879130e-01, ...,\n",
              "            1.64425024e-02, 2.92809459e-01, 8.13096534e-01]],\n",
              "\n",
              "          [[7.32384650e-01, 9.20262831e-01, 1.77177484e-01, ...,\n",
              "            7.70275411e-01, 9.16475144e-02, 5.56173190e-01],\n",
              "           [8.09693294e-01, 6.96626180e-01, 6.75335677e-01, ...,\n",
              "            2.85035287e-01, 5.61359262e-01, 8.71302991e-01],\n",
              "           [4.43743671e-01, 3.44655751e-01, 5.54947914e-01, ...,\n",
              "            8.61183251e-03, 3.38198192e-01, 2.54846718e-01],\n",
              "           ...,\n",
              "           [3.57849650e-01, 4.83925294e-02, 1.81993181e-01, ...,\n",
              "            3.81770432e-01, 4.15066988e-01, 2.52506253e-01],\n",
              "           [2.04943645e-01, 1.33174881e-01, 5.49366804e-02, ...,\n",
              "            7.85650844e-01, 4.77075626e-01, 2.04548478e-01],\n",
              "           [9.36702261e-01, 8.10957924e-02, 8.10644331e-01, ...,\n",
              "            8.97733249e-01, 5.52894347e-02, 6.65834583e-01]],\n",
              "\n",
              "          ...,\n",
              "\n",
              "          [[2.29098088e-02, 6.76905918e-01, 7.17472621e-01, ...,\n",
              "            7.29354626e-01, 5.51230830e-01, 3.72151142e-01],\n",
              "           [5.01109466e-01, 2.33824733e-01, 3.59122290e-01, ...,\n",
              "            5.31902604e-01, 1.50628037e-01, 6.09413556e-01],\n",
              "           [8.11270080e-01, 1.22385685e-01, 8.95368025e-01, ...,\n",
              "            8.04216050e-01, 5.15347246e-01, 8.69847010e-01],\n",
              "           ...,\n",
              "           [1.17707433e-01, 9.85070573e-01, 4.33864821e-01, ...,\n",
              "            8.52131595e-02, 4.34471630e-01, 5.57738206e-01],\n",
              "           [1.29598705e-01, 3.61891077e-01, 9.84183016e-01, ...,\n",
              "            3.69908061e-01, 1.93077014e-01, 4.14624589e-02],\n",
              "           [7.08814075e-02, 2.49506430e-01, 6.82676543e-01, ...,\n",
              "            1.38747385e-01, 3.57698683e-01, 4.67459720e-02]],\n",
              "\n",
              "          [[9.07307370e-01, 2.24202891e-01, 1.98716294e-01, ...,\n",
              "            9.31956731e-01, 1.08218261e-02, 2.65851976e-01],\n",
              "           [2.73054095e-01, 4.19817711e-01, 2.65812466e-01, ...,\n",
              "            1.92939506e-01, 4.86743783e-01, 1.21792887e-01],\n",
              "           [5.10089576e-01, 1.06838126e-01, 6.01313764e-01, ...,\n",
              "            8.60445116e-01, 6.16773921e-01, 4.28020693e-01],\n",
              "           ...,\n",
              "           [1.44126975e-01, 8.01709492e-02, 8.64285339e-01, ...,\n",
              "            3.87789149e-01, 9.37024489e-01, 1.48372618e-01],\n",
              "           [8.21344030e-01, 4.45449292e-01, 2.37968113e-02, ...,\n",
              "            3.83887572e-02, 4.56304288e-01, 7.16406142e-01],\n",
              "           [5.71237163e-01, 3.99282660e-01, 2.38016014e-01, ...,\n",
              "            9.92475486e-01, 6.68252737e-01, 4.30547357e-01]],\n",
              "\n",
              "          [[5.32299332e-01, 3.77794182e-01, 4.47589069e-01, ...,\n",
              "            4.13819141e-01, 4.48358804e-01, 6.62737258e-01],\n",
              "           [4.49778887e-02, 6.70980038e-01, 2.65043178e-01, ...,\n",
              "            8.84327859e-01, 1.43801675e-01, 7.82564969e-01],\n",
              "           [8.58704079e-01, 1.24800738e-01, 1.20337875e-01, ...,\n",
              "            5.28308536e-01, 4.06476841e-01, 2.59884141e-01],\n",
              "           ...,\n",
              "           [5.28277309e-01, 3.25601656e-01, 4.17737382e-01, ...,\n",
              "            8.81384180e-01, 1.34131777e-02, 9.24433877e-01],\n",
              "           [4.47318901e-01, 4.64480290e-01, 6.25755198e-01, ...,\n",
              "            7.62553745e-01, 4.45730910e-01, 4.00984268e-01],\n",
              "           [9.01255830e-01, 1.10701241e-01, 9.91267710e-01, ...,\n",
              "            5.93261657e-01, 5.80606774e-01, 3.47313327e-01]]]],\n",
              "\n",
              "\n",
              "\n",
              "        [[[[5.21103686e-02, 6.05946333e-02, 4.96917873e-01, ...,\n",
              "            4.29723117e-01, 4.83071936e-01, 7.80239694e-01],\n",
              "           [9.48632999e-01, 1.54938533e-01, 6.88109436e-01, ...,\n",
              "            6.16406845e-01, 6.86300382e-01, 8.85623431e-01],\n",
              "           [6.88844888e-01, 3.07710494e-01, 3.22183170e-01, ...,\n",
              "            4.02808019e-01, 2.48930723e-01, 5.52366219e-01],\n",
              "           ...,\n",
              "           [2.59489116e-01, 4.82778341e-01, 1.17471994e-01, ...,\n",
              "            1.34687768e-02, 6.25688842e-01, 2.47012973e-01],\n",
              "           [9.27275900e-01, 6.49790711e-01, 8.36956942e-01, ...,\n",
              "            6.66564023e-01, 2.15468016e-01, 6.03004609e-01],\n",
              "           [4.27420737e-01, 2.26772204e-01, 8.35577493e-01, ...,\n",
              "            7.92719360e-01, 8.49651707e-01, 4.61996663e-01]],\n",
              "\n",
              "          [[2.40365580e-01, 2.34167385e-01, 5.90312377e-01, ...,\n",
              "            7.20168434e-01, 6.89108527e-01, 3.35757734e-01],\n",
              "           [9.61606156e-01, 1.25566932e-01, 5.53781843e-01, ...,\n",
              "            2.98446712e-01, 6.52475605e-01, 5.32178803e-01],\n",
              "           [7.73076039e-01, 3.71542110e-01, 4.95927942e-01, ...,\n",
              "            9.79748439e-02, 5.01332661e-01, 9.50009814e-01],\n",
              "           ...,\n",
              "           [2.79563398e-01, 9.36180240e-01, 7.07211840e-01, ...,\n",
              "            1.05734464e-01, 1.44189667e-03, 5.89609263e-01],\n",
              "           [1.42427834e-01, 1.33260122e-01, 1.78094337e-01, ...,\n",
              "            6.24560915e-01, 4.12692528e-01, 8.35871131e-01],\n",
              "           [8.99433248e-01, 9.80994533e-01, 4.69937682e-01, ...,\n",
              "            6.21437114e-01, 1.39557138e-01, 3.12239746e-01]],\n",
              "\n",
              "          [[7.59887920e-03, 1.26069944e-01, 1.21177759e-01, ...,\n",
              "            1.02636536e-01, 3.25767984e-01, 3.56822707e-01],\n",
              "           [2.67166032e-01, 5.67971207e-01, 1.20588552e-01, ...,\n",
              "            9.63648754e-01, 2.66895488e-02, 7.39002281e-01],\n",
              "           [3.45249612e-01, 4.16060186e-01, 9.46949707e-01, ...,\n",
              "            8.87680060e-01, 7.79219036e-01, 6.30268284e-01],\n",
              "           ...,\n",
              "           [3.33703076e-01, 3.56191403e-01, 5.64953138e-01, ...,\n",
              "            7.49715241e-01, 2.87404942e-01, 9.28071930e-01],\n",
              "           [2.79663721e-01, 9.66302798e-01, 7.58832099e-01, ...,\n",
              "            6.24663783e-01, 2.77838607e-01, 1.99484948e-01],\n",
              "           [5.90402017e-01, 2.14510038e-01, 5.42924021e-01, ...,\n",
              "            7.03645215e-01, 9.68388684e-02, 7.69084716e-01]],\n",
              "\n",
              "          ...,\n",
              "\n",
              "          [[7.13827502e-01, 1.85503154e-01, 8.39057007e-01, ...,\n",
              "            9.01523662e-01, 3.69619760e-01, 9.79228683e-02],\n",
              "           [1.18743032e-01, 9.48378246e-01, 1.72574198e-02, ...,\n",
              "            5.07247835e-01, 1.50700188e-01, 8.91198984e-01],\n",
              "           [8.85887251e-01, 7.20940837e-01, 9.58882599e-01, ...,\n",
              "            4.07010956e-01, 3.35092246e-01, 9.01415477e-01],\n",
              "           ...,\n",
              "           [7.25779290e-01, 8.02212326e-01, 8.45330581e-01, ...,\n",
              "            9.60015239e-01, 2.89416581e-01, 6.83189865e-01],\n",
              "           [6.56391314e-01, 2.35044412e-01, 6.94872234e-01, ...,\n",
              "            5.79262098e-01, 7.35184515e-01, 1.39733958e-02],\n",
              "           [9.64810428e-01, 7.46563407e-01, 5.69219277e-01, ...,\n",
              "            7.61768868e-01, 6.93722412e-01, 8.14869907e-01]],\n",
              "\n",
              "          [[5.16492643e-01, 9.63279277e-01, 1.31308006e-02, ...,\n",
              "            8.21110117e-01, 9.58754042e-01, 6.38593782e-01],\n",
              "           [9.65252037e-01, 7.07090931e-01, 1.77067099e-01, ...,\n",
              "            1.61450720e-01, 3.25100986e-01, 1.06344560e-01],\n",
              "           [4.62308797e-01, 6.10248885e-01, 1.89174618e-01, ...,\n",
              "            2.06196951e-01, 7.23984990e-01, 2.27517090e-01],\n",
              "           ...,\n",
              "           [7.85366301e-01, 8.92181839e-01, 9.56680942e-01, ...,\n",
              "            5.76698628e-01, 5.07518994e-01, 1.02692964e-02],\n",
              "           [3.82908434e-01, 9.00866395e-01, 4.36535839e-01, ...,\n",
              "            4.98515782e-01, 3.26683063e-01, 3.52853832e-01],\n",
              "           [9.62818253e-01, 5.67610155e-01, 3.79443119e-01, ...,\n",
              "            5.86271617e-01, 8.92619107e-01, 7.30252566e-01]],\n",
              "\n",
              "          [[4.54533395e-01, 8.37303503e-01, 4.94541608e-01, ...,\n",
              "            2.02678388e-01, 9.32640708e-01, 1.51659685e-02],\n",
              "           [5.18898437e-01, 9.22295733e-01, 3.91519476e-01, ...,\n",
              "            8.91713674e-01, 2.73937537e-01, 9.76478368e-01],\n",
              "           [8.91255628e-01, 8.49380594e-01, 5.44679544e-01, ...,\n",
              "            3.68063565e-01, 3.42801199e-01, 3.03454860e-01],\n",
              "           ...,\n",
              "           [8.63804108e-01, 9.33917426e-01, 3.15366103e-01, ...,\n",
              "            7.63727618e-02, 3.79142985e-01, 3.20876633e-01],\n",
              "           [4.33215379e-01, 8.19991369e-01, 8.84091945e-01, ...,\n",
              "            8.24232414e-01, 3.80426790e-01, 9.38612154e-01],\n",
              "           [1.93321991e-01, 2.82226743e-01, 4.13829922e-01, ...,\n",
              "            8.26582583e-01, 3.77642861e-01, 9.78862029e-01]]],\n",
              "\n",
              "\n",
              "         [[[8.56458304e-01, 8.14934128e-01, 5.21645397e-01, ...,\n",
              "            1.67921536e-01, 5.60455163e-01, 6.04421969e-01],\n",
              "           [1.12835382e-01, 4.97770093e-01, 8.69199149e-01, ...,\n",
              "            4.97702142e-01, 1.25302739e-01, 3.28953925e-01],\n",
              "           [2.00915571e-01, 4.49420788e-01, 4.20859384e-01, ...,\n",
              "            5.19633825e-02, 7.81218203e-01, 6.34952487e-01],\n",
              "           ...,\n",
              "           [9.60179177e-01, 9.84794716e-01, 9.56489940e-01, ...,\n",
              "            2.33824438e-01, 4.32683677e-01, 6.15664477e-01],\n",
              "           [5.17732708e-01, 9.97142188e-01, 7.94901715e-01, ...,\n",
              "            8.86790101e-01, 6.37930276e-01, 6.13033247e-01],\n",
              "           [5.50781531e-01, 8.24562721e-01, 7.51969474e-01, ...,\n",
              "            5.58317212e-01, 6.49937408e-01, 5.51011898e-01]],\n",
              "\n",
              "          [[9.42339409e-01, 5.84746862e-01, 8.21730806e-01, ...,\n",
              "            7.90893930e-01, 9.78532539e-01, 7.57706775e-01],\n",
              "           [5.51079212e-02, 3.80713378e-02, 7.77160026e-01, ...,\n",
              "            5.02884562e-01, 5.47135079e-01, 6.65694831e-03],\n",
              "           [3.66494918e-01, 6.17360784e-01, 1.43734334e-01, ...,\n",
              "            5.11080138e-01, 3.02909212e-01, 8.20951922e-01],\n",
              "           ...,\n",
              "           [1.06794949e-01, 1.02541931e-01, 5.41599311e-01, ...,\n",
              "            3.38958170e-01, 5.02395313e-01, 2.56369303e-01],\n",
              "           [8.60773876e-01, 2.83042769e-01, 2.56651116e-01, ...,\n",
              "            5.11216813e-01, 6.13100161e-01, 4.70159290e-01],\n",
              "           [1.04110527e-01, 3.15518812e-01, 2.48382342e-01, ...,\n",
              "            9.29421936e-01, 9.75912463e-01, 8.78280439e-01]],\n",
              "\n",
              "          [[7.71909400e-01, 9.48484506e-01, 5.84204088e-01, ...,\n",
              "            1.16049104e-01, 5.05502966e-02, 7.81901951e-01],\n",
              "           [4.88740653e-01, 6.44174899e-01, 7.05862905e-01, ...,\n",
              "            8.66734396e-01, 1.80328587e-01, 1.11922071e-01],\n",
              "           [9.25751330e-01, 2.06601424e-01, 8.46312038e-01, ...,\n",
              "            6.79113763e-01, 2.71489019e-01, 5.89279503e-01],\n",
              "           ...,\n",
              "           [1.67904055e-01, 6.65806777e-01, 3.90865029e-01, ...,\n",
              "            1.57382834e-01, 4.09847345e-01, 7.34832883e-01],\n",
              "           [9.13476914e-01, 8.89819529e-01, 8.28819436e-01, ...,\n",
              "            5.88790861e-01, 3.07610036e-01, 4.48631704e-01],\n",
              "           [7.83129103e-01, 4.42958255e-01, 4.98719793e-01, ...,\n",
              "            2.39011869e-01, 7.83090442e-01, 8.02139005e-01]],\n",
              "\n",
              "          ...,\n",
              "\n",
              "          [[5.66059529e-01, 7.68567733e-01, 5.65328487e-01, ...,\n",
              "            9.08975697e-01, 7.30232373e-01, 1.62907868e-01],\n",
              "           [6.45599497e-01, 7.92211560e-01, 7.90564908e-01, ...,\n",
              "            2.41240441e-02, 3.66078474e-01, 9.78145394e-02],\n",
              "           [7.44478949e-01, 9.87509454e-01, 4.61680498e-02, ...,\n",
              "            3.00779919e-01, 4.80514956e-01, 5.00124367e-01],\n",
              "           ...,\n",
              "           [3.32024127e-01, 9.81401535e-01, 8.25947222e-01, ...,\n",
              "            1.52421168e-01, 6.57232471e-01, 1.66597632e-01],\n",
              "           [3.43965961e-02, 5.29095680e-01, 4.00837666e-01, ...,\n",
              "            9.96150316e-01, 5.38075932e-01, 1.61630194e-01],\n",
              "           [8.87297342e-01, 9.09290268e-01, 5.21080612e-01, ...,\n",
              "            4.60993441e-01, 7.52548730e-01, 7.26241362e-01]],\n",
              "\n",
              "          [[5.41585563e-01, 8.22853310e-02, 4.09048731e-01, ...,\n",
              "            5.71154996e-01, 9.20218566e-01, 7.82506647e-01],\n",
              "           [1.63632569e-01, 7.30452652e-01, 9.31961442e-01, ...,\n",
              "            9.05380531e-01, 6.84607610e-01, 9.61206406e-01],\n",
              "           [2.51070397e-01, 5.29635985e-01, 3.11413182e-01, ...,\n",
              "            2.76515182e-02, 4.74050356e-01, 4.08586227e-01],\n",
              "           ...,\n",
              "           [6.97585031e-01, 7.78716405e-01, 5.33672330e-02, ...,\n",
              "            3.33612221e-01, 2.86641842e-02, 4.00148909e-01],\n",
              "           [3.42420974e-01, 3.98930433e-01, 2.59381924e-01, ...,\n",
              "            9.21948013e-01, 1.95187186e-01, 5.34710580e-01],\n",
              "           [9.28632837e-01, 2.55789548e-02, 8.45421630e-01, ...,\n",
              "            9.91548464e-01, 9.70427956e-01, 7.28202397e-01]],\n",
              "\n",
              "          [[7.74310338e-01, 7.90505505e-01, 3.33430482e-01, ...,\n",
              "            4.84549590e-01, 4.67448821e-01, 9.36347784e-01],\n",
              "           [9.17417501e-01, 2.09237110e-01, 1.29757822e-01, ...,\n",
              "            3.53870988e-01, 3.38202034e-01, 9.80895474e-01],\n",
              "           [2.80774916e-01, 6.43451728e-01, 3.15220607e-01, ...,\n",
              "            5.66918053e-01, 4.38489083e-01, 1.45876069e-01],\n",
              "           ...,\n",
              "           [7.21684187e-01, 1.17341067e-01, 7.86387505e-01, ...,\n",
              "            1.30965880e-01, 2.48876417e-02, 5.84586131e-01],\n",
              "           [1.89092374e-01, 4.46638758e-02, 8.15020662e-01, ...,\n",
              "            6.79634952e-01, 6.19607658e-01, 5.69814000e-01],\n",
              "           [8.49792486e-01, 6.79194263e-01, 2.79830866e-01, ...,\n",
              "            5.95163884e-01, 3.91901053e-01, 7.95421696e-01]]],\n",
              "\n",
              "\n",
              "         [[[1.49035864e-01, 1.22035794e-01, 5.39227202e-02, ...,\n",
              "            6.22697938e-01, 8.00134673e-02, 1.83358073e-01],\n",
              "           [3.29216596e-01, 6.37251768e-01, 2.93912458e-01, ...,\n",
              "            5.28404065e-01, 4.62665655e-01, 7.05269043e-01],\n",
              "           [1.19937183e-01, 2.43169646e-01, 8.62844484e-01, ...,\n",
              "            6.39122621e-02, 3.94453229e-01, 7.74394053e-01],\n",
              "           ...,\n",
              "           [7.27853634e-01, 9.51080448e-02, 7.91054697e-01, ...,\n",
              "            4.40658042e-01, 9.18185263e-02, 8.53344308e-02],\n",
              "           [8.75456800e-01, 8.45950139e-02, 6.98562992e-01, ...,\n",
              "            7.07385806e-01, 3.37105547e-01, 8.66705976e-01],\n",
              "           [8.61171938e-01, 5.68506925e-01, 8.81531666e-01, ...,\n",
              "            8.18599428e-01, 3.64831372e-01, 3.05954067e-01]],\n",
              "\n",
              "          [[1.40981803e-01, 2.22747591e-01, 9.73406946e-01, ...,\n",
              "            1.59639807e-01, 1.63896809e-01, 9.59228856e-01],\n",
              "           [5.75395496e-01, 2.01965714e-01, 2.16065111e-01, ...,\n",
              "            9.71013846e-01, 5.04800709e-01, 1.17625747e-01],\n",
              "           [1.97441440e-01, 8.85001994e-01, 9.74761568e-01, ...,\n",
              "            4.04404616e-01, 9.11317513e-01, 1.81824738e-01],\n",
              "           ...,\n",
              "           [9.29715547e-02, 6.93324903e-01, 5.71161062e-01, ...,\n",
              "            7.35383056e-01, 7.62278179e-01, 6.71615819e-01],\n",
              "           [5.66929994e-01, 5.05611546e-01, 1.96929224e-01, ...,\n",
              "            5.18123139e-01, 9.94031162e-01, 2.51743934e-02],\n",
              "           [6.07208945e-01, 4.56609067e-01, 4.41451853e-01, ...,\n",
              "            9.43403473e-01, 1.77134774e-01, 8.07139449e-02]],\n",
              "\n",
              "          [[8.79395888e-02, 3.67102987e-01, 2.55471853e-01, ...,\n",
              "            9.17146986e-03, 2.42985560e-01, 4.33885397e-01],\n",
              "           [3.42632007e-01, 8.28152337e-01, 1.95042280e-01, ...,\n",
              "            9.48572444e-01, 7.38271710e-01, 7.36959735e-01],\n",
              "           [7.23552193e-01, 4.72547907e-01, 4.37758466e-01, ...,\n",
              "            6.63384288e-01, 1.93050283e-01, 2.45967290e-01],\n",
              "           ...,\n",
              "           [8.08635817e-01, 5.92324777e-01, 7.14745377e-01, ...,\n",
              "            4.80173234e-01, 3.66493370e-01, 1.35347969e-01],\n",
              "           [3.76468199e-02, 9.03673146e-01, 4.32609747e-01, ...,\n",
              "            9.17463968e-01, 1.11509270e-01, 6.27178394e-01],\n",
              "           [6.18628294e-01, 4.81969412e-01, 9.32348439e-01, ...,\n",
              "            8.18098559e-01, 7.56227108e-01, 8.33986722e-01]],\n",
              "\n",
              "          ...,\n",
              "\n",
              "          [[9.74523118e-01, 4.10170605e-01, 2.93679538e-01, ...,\n",
              "            3.95157579e-01, 8.38945803e-01, 1.90011149e-02],\n",
              "           [8.20368461e-01, 5.93620869e-01, 5.29460471e-01, ...,\n",
              "            8.44596933e-01, 7.49110405e-01, 5.23997596e-02],\n",
              "           [7.43767332e-01, 3.16388427e-01, 5.02376352e-01, ...,\n",
              "            5.12036883e-01, 4.40223536e-01, 6.38513291e-01],\n",
              "           ...,\n",
              "           [6.83558372e-01, 8.80842272e-01, 5.85021633e-01, ...,\n",
              "            7.87063510e-01, 3.01712247e-01, 2.46485911e-01],\n",
              "           [1.85535911e-01, 4.76706052e-01, 9.75125158e-01, ...,\n",
              "            4.54122900e-01, 2.07047894e-01, 2.64354271e-02],\n",
              "           [5.81738952e-01, 5.10664477e-01, 5.57117255e-01, ...,\n",
              "            8.08275801e-01, 1.03136324e-01, 7.02041286e-01]],\n",
              "\n",
              "          [[4.95282083e-01, 6.03072763e-01, 5.27492922e-01, ...,\n",
              "            4.63966706e-01, 3.55377235e-01, 2.84317798e-01],\n",
              "           [4.43025883e-01, 4.32935189e-01, 6.31885447e-01, ...,\n",
              "            9.98133364e-01, 7.05301863e-02, 6.09651319e-01],\n",
              "           [6.03828212e-02, 6.07169260e-01, 6.42598647e-01, ...,\n",
              "            5.41331561e-01, 4.17761916e-01, 1.73891136e-01],\n",
              "           ...,\n",
              "           [7.00778722e-01, 7.28119425e-01, 3.92130330e-01, ...,\n",
              "            6.59525515e-01, 8.91200830e-01, 8.61310005e-01],\n",
              "           [9.84911739e-02, 2.08060539e-01, 7.12174760e-01, ...,\n",
              "            3.04955096e-01, 2.43139330e-02, 3.57938893e-01],\n",
              "           [9.97744825e-01, 6.62780687e-01, 6.00798972e-01, ...,\n",
              "            7.84666079e-01, 5.92083067e-01, 1.14379814e-01]],\n",
              "\n",
              "          [[1.23789693e-01, 5.09934312e-02, 2.43787609e-01, ...,\n",
              "            5.32092913e-01, 5.37001670e-01, 3.26474701e-01],\n",
              "           [4.18474775e-02, 6.92741496e-01, 9.98327695e-02, ...,\n",
              "            3.46384788e-01, 1.88493612e-01, 9.76598044e-01],\n",
              "           [6.08463197e-01, 9.36912051e-01, 7.35340738e-01, ...,\n",
              "            4.31400726e-01, 3.79493091e-01, 3.66586564e-01],\n",
              "           ...,\n",
              "           [9.44221756e-01, 3.04395306e-01, 4.92945082e-01, ...,\n",
              "            8.61487361e-01, 3.56696459e-01, 8.29424854e-01],\n",
              "           [6.97978303e-01, 7.80536482e-01, 9.97250794e-01, ...,\n",
              "            1.11553521e-01, 6.09615673e-02, 8.17581506e-01],\n",
              "           [9.82959942e-01, 5.72935587e-01, 7.67686444e-01, ...,\n",
              "            8.25905181e-01, 2.70982572e-01, 5.83246804e-01]]],\n",
              "\n",
              "\n",
              "         [[[3.51851544e-01, 2.63380069e-01, 9.18033022e-01, ...,\n",
              "            9.86209222e-01, 6.71043935e-01, 3.28587556e-02],\n",
              "           [9.27772540e-01, 1.71006203e-01, 1.33499973e-01, ...,\n",
              "            6.20591661e-01, 5.85969775e-02, 4.32716766e-01],\n",
              "           [6.15360791e-01, 1.78189112e-01, 6.67964347e-01, ...,\n",
              "            5.48919150e-01, 1.37321492e-01, 1.59568832e-01],\n",
              "           ...,\n",
              "           [6.11411079e-01, 4.94394727e-01, 5.37624450e-01, ...,\n",
              "            2.38284328e-01, 1.79031854e-01, 1.42595332e-01],\n",
              "           [9.60974931e-01, 5.64631784e-02, 7.01879605e-01, ...,\n",
              "            9.21579395e-01, 9.57342550e-01, 3.84716037e-01],\n",
              "           [7.26427689e-01, 4.34703884e-01, 1.72729091e-01, ...,\n",
              "            7.65131465e-01, 6.09127393e-01, 5.23500852e-01]],\n",
              "\n",
              "          [[6.31024323e-01, 9.52274180e-01, 2.76817369e-01, ...,\n",
              "            7.26509416e-01, 4.11059224e-01, 2.42967819e-01],\n",
              "           [2.27690736e-01, 2.76588574e-01, 7.73510510e-01, ...,\n",
              "            8.23275707e-01, 1.18876154e-01, 4.48096095e-02],\n",
              "           [5.04727828e-01, 7.80244443e-01, 4.75827780e-01, ...,\n",
              "            2.23959006e-02, 5.61527113e-01, 4.07127933e-01],\n",
              "           ...,\n",
              "           [9.72793869e-01, 6.99580261e-02, 8.21034345e-01, ...,\n",
              "            7.16303655e-01, 3.55295233e-01, 3.90773412e-01],\n",
              "           [1.35452185e-02, 5.55213322e-01, 9.16671958e-01, ...,\n",
              "            1.54621203e-02, 7.21830163e-01, 1.36010935e-01],\n",
              "           [2.50057573e-01, 3.18847161e-01, 5.75499616e-01, ...,\n",
              "            9.08291412e-01, 8.75577313e-02, 8.03638000e-01]],\n",
              "\n",
              "          [[1.38183805e-01, 5.20028049e-01, 1.06623592e-01, ...,\n",
              "            2.57051190e-01, 5.12689052e-03, 2.66330606e-01],\n",
              "           [9.99664850e-02, 7.95207165e-01, 1.03532386e-01, ...,\n",
              "            2.60480606e-01, 6.18293708e-01, 4.92432474e-01],\n",
              "           [8.63522100e-01, 7.98520201e-01, 6.98325663e-01, ...,\n",
              "            5.84917434e-01, 8.71962882e-01, 2.29964167e-01],\n",
              "           ...,\n",
              "           [6.43106574e-01, 4.01367589e-01, 9.62027940e-01, ...,\n",
              "            2.00863472e-01, 8.75674754e-01, 8.92691675e-01],\n",
              "           [3.73644007e-01, 5.74389956e-01, 5.87982998e-01, ...,\n",
              "            9.75953671e-01, 2.40871761e-02, 4.34845288e-01],\n",
              "           [7.20732265e-01, 6.15516510e-02, 7.85424676e-01, ...,\n",
              "            4.04369171e-01, 6.55443875e-01, 9.47066944e-01]],\n",
              "\n",
              "          ...,\n",
              "\n",
              "          [[7.02366052e-01, 1.32856437e-01, 6.31885387e-01, ...,\n",
              "            6.28810419e-01, 8.27994232e-01, 1.25447882e-02],\n",
              "           [6.55725228e-01, 1.09454584e-02, 7.51388651e-02, ...,\n",
              "            9.92160672e-01, 5.30383030e-01, 5.15957863e-01],\n",
              "           [4.10747795e-01, 8.05689371e-01, 2.73808817e-01, ...,\n",
              "            4.75217986e-01, 5.85545248e-01, 6.19835147e-01],\n",
              "           ...,\n",
              "           [6.30365284e-02, 5.39451167e-01, 3.63660492e-01, ...,\n",
              "            3.63950812e-01, 9.69933530e-01, 7.60357632e-01],\n",
              "           [1.76262356e-01, 2.54301614e-01, 7.86951288e-01, ...,\n",
              "            6.39379321e-01, 9.02020220e-02, 6.14037486e-01],\n",
              "           [7.62705744e-01, 7.34445145e-01, 6.83056800e-01, ...,\n",
              "            4.03250258e-01, 8.56178445e-01, 6.96682339e-01]],\n",
              "\n",
              "          [[7.63628659e-01, 8.34816022e-01, 1.80546808e-02, ...,\n",
              "            6.37442300e-01, 3.41441059e-01, 2.13154825e-02],\n",
              "           [5.57133895e-01, 1.62868702e-01, 7.90948375e-01, ...,\n",
              "            1.71649072e-01, 7.97681535e-01, 7.14897023e-02],\n",
              "           [4.91561065e-01, 6.65299733e-01, 8.09759395e-01, ...,\n",
              "            7.67833932e-01, 5.17072985e-01, 9.17544090e-01],\n",
              "           ...,\n",
              "           [1.28953133e-01, 4.66642811e-01, 3.26515267e-01, ...,\n",
              "            1.01454569e-01, 3.33026564e-01, 7.87425612e-01],\n",
              "           [7.15579349e-01, 5.96345699e-01, 6.02192494e-01, ...,\n",
              "            5.62748809e-01, 4.35187681e-01, 7.79674286e-01],\n",
              "           [2.48643078e-01, 7.62696422e-01, 7.30598212e-01, ...,\n",
              "            1.28759396e-01, 5.23980551e-01, 5.64383749e-01]],\n",
              "\n",
              "          [[6.45120911e-01, 1.87004709e-01, 1.83131861e-01, ...,\n",
              "            3.68195052e-01, 9.35020704e-01, 8.86027100e-01],\n",
              "           [3.05778275e-01, 4.48068826e-01, 5.95879557e-01, ...,\n",
              "            2.60433556e-01, 8.54584323e-01, 2.11597732e-01],\n",
              "           [4.66279354e-01, 2.04606334e-01, 1.52808710e-01, ...,\n",
              "            5.63723069e-01, 7.31872787e-02, 8.85235644e-01],\n",
              "           ...,\n",
              "           [8.26720876e-01, 6.03732477e-01, 6.05739155e-01, ...,\n",
              "            1.88138062e-01, 1.72357901e-02, 5.91114046e-01],\n",
              "           [6.34491197e-01, 1.83905332e-01, 2.38714806e-01, ...,\n",
              "            5.01999212e-01, 7.30412856e-01, 1.62881953e-01],\n",
              "           [7.14284699e-02, 9.17841872e-01, 7.38558661e-01, ...,\n",
              "            7.51316820e-01, 3.16333485e-01, 5.31462552e-01]]]],\n",
              "\n",
              "\n",
              "\n",
              "        [[[[3.09438476e-01, 9.49875577e-01, 7.91682218e-02, ...,\n",
              "            1.60114963e-01, 4.76587410e-01, 7.61596876e-01],\n",
              "           [8.56496535e-01, 7.73722148e-01, 8.64502730e-02, ...,\n",
              "            1.48899231e-01, 9.11924617e-01, 7.93144063e-01],\n",
              "           [3.14297496e-01, 2.71062208e-01, 8.99172608e-01, ...,\n",
              "            7.35643964e-01, 8.25348836e-01, 2.95732260e-01],\n",
              "           ...,\n",
              "           [7.10585193e-01, 4.65492276e-02, 1.23048834e-01, ...,\n",
              "            2.64368950e-02, 4.17430388e-01, 3.97716286e-01],\n",
              "           [4.26025292e-01, 5.15915866e-01, 9.53972658e-01, ...,\n",
              "            9.05230804e-02, 2.20280147e-01, 3.80113489e-01],\n",
              "           [6.87298668e-01, 6.94698912e-01, 8.21748780e-01, ...,\n",
              "            7.43857295e-01, 1.22972003e-01, 5.09820628e-01]],\n",
              "\n",
              "          [[6.39954317e-01, 8.56730052e-01, 2.35581070e-01, ...,\n",
              "            7.61741563e-01, 7.01201442e-01, 4.36591804e-01],\n",
              "           [2.25827327e-01, 4.66833250e-01, 2.56814839e-01, ...,\n",
              "            4.98848062e-01, 6.60729673e-02, 5.36758951e-01],\n",
              "           [2.38197997e-01, 4.58691078e-01, 1.11537976e-02, ...,\n",
              "            7.18281606e-02, 9.59138457e-01, 1.45707888e-01],\n",
              "           ...,\n",
              "           [2.72864367e-01, 4.72233890e-01, 4.27206622e-01, ...,\n",
              "            5.69949472e-01, 8.51045875e-01, 4.71826690e-01],\n",
              "           [1.79600296e-02, 9.12925006e-01, 9.46971857e-01, ...,\n",
              "            5.03063840e-01, 7.78300988e-01, 8.00459323e-01],\n",
              "           [6.33639377e-01, 3.60791065e-01, 2.04823249e-01, ...,\n",
              "            8.65334547e-01, 5.36096486e-01, 3.20101187e-01]],\n",
              "\n",
              "          [[1.84999489e-01, 2.31710797e-01, 4.18286889e-01, ...,\n",
              "            2.27788693e-01, 7.12644070e-01, 3.90857400e-01],\n",
              "           [1.77933296e-01, 1.52597710e-04, 7.33788534e-01, ...,\n",
              "            2.57389946e-01, 3.02982962e-01, 9.19081302e-01],\n",
              "           [4.38667287e-01, 1.11883660e-03, 5.76351404e-01, ...,\n",
              "            9.00550921e-01, 3.68494478e-01, 7.14298777e-01],\n",
              "           ...,\n",
              "           [3.95844003e-02, 5.06571590e-01, 9.82751005e-01, ...,\n",
              "            9.91364283e-01, 2.59476640e-01, 4.45271622e-02],\n",
              "           [6.98817435e-01, 3.86813212e-01, 4.74227646e-01, ...,\n",
              "            4.65266942e-01, 4.99059442e-01, 8.48051886e-01],\n",
              "           [9.52301202e-01, 9.46439694e-01, 5.05012469e-01, ...,\n",
              "            1.01798969e-01, 1.29285064e-01, 4.69949560e-01]],\n",
              "\n",
              "          ...,\n",
              "\n",
              "          [[2.26053754e-01, 4.54205319e-01, 3.94088031e-01, ...,\n",
              "            3.88686740e-01, 7.98009646e-01, 7.90277140e-01],\n",
              "           [5.22575910e-01, 3.64352281e-01, 7.65334127e-01, ...,\n",
              "            9.25387024e-01, 4.46660340e-01, 2.01878830e-01],\n",
              "           [5.26488727e-01, 5.68001293e-01, 4.70217876e-01, ...,\n",
              "            9.25555524e-01, 2.54075640e-01, 4.99619499e-01],\n",
              "           ...,\n",
              "           [2.62044604e-01, 7.34677975e-01, 5.88716630e-01, ...,\n",
              "            6.49790609e-01, 4.46881019e-01, 9.56208637e-01],\n",
              "           [3.49509128e-01, 8.98684369e-01, 9.59518074e-01, ...,\n",
              "            4.26747560e-02, 2.03151638e-01, 8.83252685e-01],\n",
              "           [7.29900876e-01, 7.87101660e-01, 5.36967180e-01, ...,\n",
              "            7.25352962e-01, 4.86856305e-01, 3.86303287e-01]],\n",
              "\n",
              "          [[5.39412091e-01, 4.37695819e-01, 7.35540140e-01, ...,\n",
              "            3.85420429e-01, 5.02811523e-01, 5.77837396e-01],\n",
              "           [9.11902895e-02, 7.66693895e-01, 6.63074799e-02, ...,\n",
              "            7.91605820e-02, 9.47316826e-01, 9.82211270e-01],\n",
              "           [8.68659597e-01, 7.90181911e-01, 4.36290364e-01, ...,\n",
              "            4.12582418e-02, 7.09193536e-01, 8.73256652e-01],\n",
              "           ...,\n",
              "           [8.53568762e-01, 6.55524051e-01, 7.78435302e-01, ...,\n",
              "            5.42874718e-01, 2.97309275e-01, 1.06509079e-01],\n",
              "           [8.86822370e-01, 9.58593510e-01, 1.39592644e-01, ...,\n",
              "            2.41655015e-01, 3.57112326e-03, 8.95617554e-01],\n",
              "           [5.11293277e-01, 8.50552274e-01, 1.76745545e-01, ...,\n",
              "            7.99725722e-01, 3.15441251e-01, 8.80347050e-02]],\n",
              "\n",
              "          [[2.88624201e-02, 8.97872049e-01, 9.40361201e-01, ...,\n",
              "            1.16926367e-01, 3.63001411e-01, 9.74208122e-01],\n",
              "           [4.54052686e-01, 1.74840627e-01, 4.52182674e-01, ...,\n",
              "            5.66356455e-01, 8.92653043e-01, 5.79062248e-01],\n",
              "           [6.95117427e-02, 2.48914757e-02, 9.57756476e-01, ...,\n",
              "            2.90855904e-01, 2.10173916e-01, 2.21617743e-01],\n",
              "           ...,\n",
              "           [8.37907700e-01, 9.92856734e-02, 4.37408421e-01, ...,\n",
              "            1.72286756e-01, 9.84516418e-02, 9.13604148e-01],\n",
              "           [1.86151252e-01, 9.81045045e-01, 9.54859658e-01, ...,\n",
              "            5.42263194e-03, 1.06579862e-01, 1.85380185e-01],\n",
              "           [8.46932971e-01, 9.59032092e-01, 1.96548346e-01, ...,\n",
              "            8.51362224e-01, 2.20777032e-01, 3.64964080e-01]]],\n",
              "\n",
              "\n",
              "         [[[5.07541024e-02, 7.01646396e-02, 3.27020684e-01, ...,\n",
              "            3.88065739e-01, 6.00056988e-01, 4.86160318e-01],\n",
              "           [9.90943478e-01, 1.79340130e-01, 9.11709523e-02, ...,\n",
              "            2.24257197e-01, 1.82033987e-01, 2.90563608e-01],\n",
              "           [9.71498508e-01, 3.47128872e-02, 6.24823704e-01, ...,\n",
              "            5.54827542e-03, 7.33045123e-02, 6.53300093e-01],\n",
              "           ...,\n",
              "           [6.00004774e-01, 2.10851827e-01, 8.11243969e-01, ...,\n",
              "            9.14748639e-01, 7.97777016e-01, 7.44653763e-01],\n",
              "           [7.39395119e-01, 5.64955896e-01, 2.53118835e-01, ...,\n",
              "            2.61211094e-01, 9.79635407e-01, 4.40037291e-01],\n",
              "           [5.84846330e-01, 9.08527695e-01, 6.96211095e-01, ...,\n",
              "            6.96179743e-01, 9.01019971e-01, 4.09423861e-02]],\n",
              "\n",
              "          [[4.22702375e-01, 8.59306427e-01, 2.88232183e-01, ...,\n",
              "            8.74038758e-01, 2.06189751e-01, 5.33458001e-01],\n",
              "           [8.98330890e-01, 7.61713278e-02, 8.14795180e-01, ...,\n",
              "            4.96386569e-01, 8.66375311e-01, 2.07818856e-01],\n",
              "           [9.92964822e-02, 3.12798912e-01, 7.83349588e-01, ...,\n",
              "            6.34214957e-01, 3.05903821e-02, 3.51356146e-01],\n",
              "           ...,\n",
              "           [8.15502105e-01, 7.58442221e-02, 2.82939043e-01, ...,\n",
              "            3.68029246e-01, 3.58530272e-01, 5.26943908e-01],\n",
              "           [4.21232817e-02, 9.03953967e-01, 6.94789231e-01, ...,\n",
              "            1.05238095e-01, 8.18697494e-01, 6.07880698e-02],\n",
              "           [1.93402714e-01, 8.02498946e-02, 2.19846012e-01, ...,\n",
              "            5.13344058e-01, 1.19247294e-01, 5.06535700e-01]],\n",
              "\n",
              "          [[4.92929570e-01, 7.09159197e-01, 2.81566178e-01, ...,\n",
              "            5.08895317e-01, 2.04919919e-02, 1.31294450e-01],\n",
              "           [5.22386281e-01, 6.00605448e-01, 9.49647432e-03, ...,\n",
              "            2.06055112e-02, 5.85616613e-01, 7.73262097e-01],\n",
              "           [5.80058946e-01, 7.21022762e-01, 9.85450116e-02, ...,\n",
              "            7.50592445e-01, 5.04210864e-01, 3.64521090e-02],\n",
              "           ...,\n",
              "           [7.69323912e-01, 6.21552176e-01, 3.74344786e-01, ...,\n",
              "            2.68471272e-01, 8.34289313e-01, 8.76166653e-01],\n",
              "           [1.41392740e-01, 5.27721558e-01, 4.45433176e-02, ...,\n",
              "            7.43086115e-01, 6.03954010e-01, 8.43591142e-01],\n",
              "           [2.67370310e-01, 9.14095549e-01, 9.08745535e-01, ...,\n",
              "            7.23095302e-01, 7.48030862e-01, 8.98142799e-01]],\n",
              "\n",
              "          ...,\n",
              "\n",
              "          [[5.36147726e-01, 9.23865597e-01, 8.18292024e-02, ...,\n",
              "            2.25987176e-01, 3.41659470e-01, 4.63521289e-01],\n",
              "           [9.89126779e-01, 3.61189220e-01, 9.83151718e-02, ...,\n",
              "            3.47924963e-01, 3.76190230e-01, 2.09465582e-01],\n",
              "           [3.93958341e-01, 7.03228910e-01, 2.39522281e-01, ...,\n",
              "            1.16796652e-01, 3.43155776e-01, 1.63147579e-01],\n",
              "           ...,\n",
              "           [6.47009232e-01, 3.94771675e-01, 4.42958729e-01, ...,\n",
              "            8.60022744e-01, 3.56867016e-02, 3.57077621e-02],\n",
              "           [1.06245578e-02, 3.05493381e-01, 8.42765054e-01, ...,\n",
              "            9.76312291e-01, 6.72080036e-01, 9.68572187e-01],\n",
              "           [9.79022710e-01, 2.34020934e-01, 3.85349732e-01, ...,\n",
              "            1.84304986e-01, 9.87253701e-01, 7.90705809e-01]],\n",
              "\n",
              "          [[2.15494165e-02, 5.64573937e-01, 3.06199013e-02, ...,\n",
              "            8.66037173e-01, 9.32806587e-01, 9.37446332e-01],\n",
              "           [3.69272751e-01, 1.64866166e-01, 2.82701011e-01, ...,\n",
              "            2.47027910e-01, 9.02878779e-01, 7.30885271e-01],\n",
              "           [2.18238119e-01, 3.95062433e-01, 2.42174121e-01, ...,\n",
              "            7.82752064e-01, 4.11680464e-01, 1.82182302e-01],\n",
              "           ...,\n",
              "           [2.76634350e-01, 8.97037191e-03, 7.68954559e-01, ...,\n",
              "            8.17137623e-01, 8.69768177e-01, 7.20125427e-02],\n",
              "           [4.43998474e-01, 1.50294872e-01, 9.23737508e-02, ...,\n",
              "            7.62158435e-01, 7.19499919e-01, 5.39694023e-01],\n",
              "           [4.80454583e-01, 5.78090813e-01, 8.92143414e-01, ...,\n",
              "            6.14817647e-01, 5.12079276e-01, 2.28679947e-01]],\n",
              "\n",
              "          [[9.02934926e-01, 8.00203634e-01, 1.82811690e-01, ...,\n",
              "            4.20643752e-01, 8.61703672e-01, 6.75546604e-01],\n",
              "           [8.74085551e-01, 2.91969216e-01, 7.10107063e-02, ...,\n",
              "            9.19913970e-01, 9.80032267e-01, 1.65442218e-01],\n",
              "           [3.69772727e-02, 9.42959046e-01, 5.19508536e-01, ...,\n",
              "            8.92474038e-01, 7.53984874e-01, 7.72838860e-02],\n",
              "           ...,\n",
              "           [8.08391698e-01, 7.96425445e-01, 5.24187400e-01, ...,\n",
              "            7.33053483e-01, 4.98212274e-02, 1.11850588e-01],\n",
              "           [7.84502701e-01, 6.24348695e-02, 8.50236821e-02, ...,\n",
              "            1.29503033e-01, 3.24122510e-01, 1.15076798e-01],\n",
              "           [3.85510757e-01, 4.92834983e-01, 4.57826453e-01, ...,\n",
              "            7.07293122e-01, 6.64778648e-01, 2.54250157e-01]]],\n",
              "\n",
              "\n",
              "         [[[3.00576666e-01, 6.45743948e-01, 8.40639775e-01, ...,\n",
              "            3.46891380e-02, 8.45674360e-01, 8.22676767e-01],\n",
              "           [8.99826988e-01, 2.73561925e-01, 7.93130429e-01, ...,\n",
              "            5.47891969e-01, 2.76142828e-01, 9.30455167e-01],\n",
              "           [8.35681665e-01, 6.80337888e-01, 9.19803030e-01, ...,\n",
              "            2.94436686e-01, 9.23697415e-01, 5.67762878e-01],\n",
              "           ...,\n",
              "           [6.03251235e-01, 5.59258022e-01, 6.19758054e-01, ...,\n",
              "            6.31402998e-01, 3.84833139e-01, 7.95510297e-01],\n",
              "           [3.38338586e-01, 1.57715168e-01, 5.88161987e-01, ...,\n",
              "            1.33210947e-01, 3.52155011e-01, 4.36904512e-01],\n",
              "           [3.51893091e-01, 9.99029372e-02, 1.16868334e-01, ...,\n",
              "            4.22618659e-01, 1.63964921e-01, 5.14110477e-01]],\n",
              "\n",
              "          [[3.47891357e-01, 6.84397608e-01, 4.00403127e-02, ...,\n",
              "            5.74771526e-01, 3.67911573e-01, 7.44639959e-02],\n",
              "           [2.35367428e-02, 4.18793625e-01, 9.97610938e-01, ...,\n",
              "            7.52277445e-02, 9.57480105e-01, 2.22751975e-01],\n",
              "           [2.07374096e-01, 4.20896129e-01, 6.46989644e-01, ...,\n",
              "            9.64406346e-01, 8.63149273e-01, 8.11832793e-01],\n",
              "           ...,\n",
              "           [6.53134420e-01, 2.45089558e-01, 6.12062486e-01, ...,\n",
              "            8.10567340e-01, 1.16433770e-01, 7.10090651e-03],\n",
              "           [1.98155478e-01, 8.86647488e-01, 2.79116950e-01, ...,\n",
              "            7.47001927e-01, 1.98287232e-01, 2.31964432e-01],\n",
              "           [1.84911180e-01, 6.06949888e-01, 3.48166809e-01, ...,\n",
              "            1.29747067e-01, 8.78222154e-01, 1.03385216e-02]],\n",
              "\n",
              "          [[2.24671608e-01, 7.34421800e-01, 1.84402784e-01, ...,\n",
              "            2.02129087e-02, 4.15186677e-01, 4.16065348e-01],\n",
              "           [3.57321331e-01, 4.17552865e-01, 8.77674706e-01, ...,\n",
              "            9.70753109e-01, 6.89306636e-01, 8.78721463e-01],\n",
              "           [9.54114014e-01, 2.61940091e-01, 7.97357721e-01, ...,\n",
              "            8.87211827e-01, 8.14481884e-01, 7.00992678e-01],\n",
              "           ...,\n",
              "           [1.04177128e-01, 6.80529107e-01, 4.02623505e-01, ...,\n",
              "            5.74608415e-01, 4.00615029e-01, 9.05770541e-01],\n",
              "           [7.97719629e-02, 5.69281716e-01, 1.00059313e-01, ...,\n",
              "            2.75806333e-01, 7.90159736e-02, 2.48147410e-02],\n",
              "           [2.97219938e-02, 2.96821682e-01, 8.74004040e-01, ...,\n",
              "            4.64457062e-01, 3.77547075e-01, 9.51777660e-01]],\n",
              "\n",
              "          ...,\n",
              "\n",
              "          [[4.18833022e-01, 6.58050003e-01, 3.94628330e-01, ...,\n",
              "            2.92255015e-01, 2.62457045e-01, 7.63384786e-02],\n",
              "           [7.73280581e-01, 9.45215488e-01, 2.89807094e-01, ...,\n",
              "            8.15829548e-01, 4.47339867e-01, 6.50545486e-01],\n",
              "           [6.03521641e-01, 2.81457995e-01, 8.39253274e-01, ...,\n",
              "            8.91433889e-01, 7.84253844e-01, 7.85113708e-01],\n",
              "           ...,\n",
              "           [1.70033195e-01, 6.67258784e-01, 5.95854354e-01, ...,\n",
              "            6.52817324e-01, 8.75929839e-01, 5.13396219e-01],\n",
              "           [9.17819030e-01, 6.67303310e-01, 4.30819248e-02, ...,\n",
              "            3.37881673e-01, 2.22071187e-01, 9.62311999e-01],\n",
              "           [1.40645207e-01, 1.97455155e-01, 6.03984391e-01, ...,\n",
              "            2.04207187e-01, 3.50582169e-01, 2.40856239e-02]],\n",
              "\n",
              "          [[6.52953865e-01, 9.10212790e-01, 9.23688437e-01, ...,\n",
              "            2.11541740e-01, 7.43392035e-01, 9.99198600e-01],\n",
              "           [5.86410852e-01, 4.99335682e-01, 8.41172025e-01, ...,\n",
              "            6.94503760e-01, 5.44866702e-01, 1.90789075e-01],\n",
              "           [5.25719830e-01, 1.78711778e-01, 2.88360475e-01, ...,\n",
              "            5.26352575e-01, 2.60306405e-02, 8.26804521e-01],\n",
              "           ...,\n",
              "           [8.90030727e-01, 1.48737871e-01, 9.04376934e-01, ...,\n",
              "            9.55551336e-02, 7.85227109e-01, 8.48208491e-01],\n",
              "           [4.21623292e-01, 2.14669089e-01, 6.88525352e-01, ...,\n",
              "            9.67761067e-01, 6.61766074e-01, 3.36525694e-01],\n",
              "           [8.17733571e-01, 2.98521555e-01, 4.25208861e-02, ...,\n",
              "            5.34888895e-01, 6.43246952e-01, 5.94563924e-01]],\n",
              "\n",
              "          [[2.00469340e-04, 1.42836780e-01, 4.68732109e-01, ...,\n",
              "            9.38469889e-01, 6.74204490e-02, 9.32366501e-01],\n",
              "           [9.16459923e-02, 4.35941501e-01, 8.65862889e-01, ...,\n",
              "            1.97363954e-02, 5.68398492e-01, 2.91460492e-02],\n",
              "           [8.30373453e-01, 4.67360504e-01, 7.20157687e-01, ...,\n",
              "            1.11207515e-01, 8.36919619e-01, 9.86970473e-01],\n",
              "           ...,\n",
              "           [8.36768289e-01, 8.03540892e-01, 8.27710903e-01, ...,\n",
              "            8.79365172e-02, 7.86258267e-01, 3.87669849e-01],\n",
              "           [4.05879449e-01, 7.61987715e-01, 7.74130270e-01, ...,\n",
              "            1.53078231e-01, 3.86150965e-01, 5.55176867e-01],\n",
              "           [9.03549552e-01, 1.04457846e-01, 9.90458922e-01, ...,\n",
              "            7.54291559e-01, 1.45698091e-01, 9.05959649e-01]]],\n",
              "\n",
              "\n",
              "         [[[6.45449265e-01, 7.34392868e-01, 6.64544121e-01, ...,\n",
              "            6.37775516e-01, 9.52523829e-01, 4.84021322e-01],\n",
              "           [2.00753030e-01, 8.95310323e-01, 5.19558154e-01, ...,\n",
              "            3.26198072e-01, 6.94657101e-01, 2.96384599e-01],\n",
              "           [3.03605238e-01, 2.01651373e-01, 5.65455900e-01, ...,\n",
              "            8.47866877e-01, 2.61182675e-01, 3.51404354e-01],\n",
              "           ...,\n",
              "           [5.89168760e-01, 1.34406468e-01, 1.04853199e-01, ...,\n",
              "            4.16753791e-01, 2.91588505e-01, 5.74209922e-01],\n",
              "           [1.81744138e-01, 7.72185308e-01, 8.27515725e-01, ...,\n",
              "            7.40465689e-01, 9.87782907e-01, 5.77670242e-01],\n",
              "           [5.09059002e-01, 9.50221519e-01, 6.78978804e-01, ...,\n",
              "            5.96809662e-02, 5.01646041e-01, 9.56328925e-01]],\n",
              "\n",
              "          [[9.30247330e-01, 4.66014754e-01, 4.31711248e-01, ...,\n",
              "            4.72915089e-01, 8.27491447e-01, 3.23850398e-01],\n",
              "           [6.06829083e-01, 2.80641452e-01, 9.20886873e-01, ...,\n",
              "            6.62469296e-01, 7.37997523e-01, 9.13006088e-01],\n",
              "           [6.87686539e-01, 2.72705873e-01, 1.64677016e-01, ...,\n",
              "            2.11694384e-02, 5.66660226e-01, 1.13896742e-01],\n",
              "           ...,\n",
              "           [9.51313756e-01, 3.42596345e-01, 7.09668709e-01, ...,\n",
              "            5.22030841e-01, 3.44601984e-02, 1.41159428e-02],\n",
              "           [7.84206844e-01, 4.90247331e-01, 9.43960476e-01, ...,\n",
              "            6.00991553e-02, 2.99451427e-01, 6.62593181e-01],\n",
              "           [7.91300622e-01, 3.00555001e-01, 9.55975718e-02, ...,\n",
              "            1.55920618e-01, 2.17206024e-01, 9.48760779e-01]],\n",
              "\n",
              "          [[4.50316685e-01, 9.37760856e-01, 7.26929146e-01, ...,\n",
              "            6.87299929e-01, 8.02568231e-01, 5.09585091e-02],\n",
              "           [7.57690960e-01, 2.74121653e-01, 1.70718000e-01, ...,\n",
              "            5.47802385e-01, 4.26671202e-01, 4.48620061e-01],\n",
              "           [7.00884093e-01, 1.45749696e-01, 9.59021953e-01, ...,\n",
              "            5.07065250e-01, 3.14168476e-01, 6.81435111e-01],\n",
              "           ...,\n",
              "           [3.65039954e-01, 6.03574846e-01, 4.25434867e-01, ...,\n",
              "            1.32166731e-01, 6.52547460e-01, 5.08263556e-01],\n",
              "           [9.07844069e-01, 5.72737006e-01, 8.49072792e-01, ...,\n",
              "            5.84893500e-01, 4.07679224e-01, 9.95888528e-01],\n",
              "           [8.42138442e-01, 8.63254467e-01, 1.18353814e-01, ...,\n",
              "            8.20577575e-01, 7.25866159e-01, 9.31106391e-02]],\n",
              "\n",
              "          ...,\n",
              "\n",
              "          [[1.27939435e-01, 7.20356897e-01, 6.85961022e-01, ...,\n",
              "            5.69494626e-01, 3.24377132e-01, 4.03432426e-01],\n",
              "           [7.69546334e-01, 9.76173865e-01, 7.31919429e-01, ...,\n",
              "            9.57569471e-01, 1.47933514e-01, 5.14002131e-02],\n",
              "           [3.12689741e-01, 8.56963795e-01, 9.86981205e-01, ...,\n",
              "            6.76522535e-01, 7.58615884e-01, 2.50720711e-01],\n",
              "           ...,\n",
              "           [8.36275237e-01, 8.09480028e-01, 6.22624957e-01, ...,\n",
              "            9.56754403e-01, 6.16382303e-01, 4.07309680e-01],\n",
              "           [6.90630333e-01, 8.07201238e-01, 7.79674780e-01, ...,\n",
              "            8.09598835e-02, 5.45035789e-01, 8.95635235e-01],\n",
              "           [2.19522438e-01, 3.79474777e-01, 6.35476381e-01, ...,\n",
              "            9.39815777e-01, 9.38942378e-01, 2.46690176e-01]],\n",
              "\n",
              "          [[4.15827566e-01, 5.37314127e-01, 4.88821216e-01, ...,\n",
              "            7.80582448e-01, 4.40739091e-01, 7.30342205e-01],\n",
              "           [4.60396438e-01, 3.78541201e-03, 9.85511394e-01, ...,\n",
              "            5.15535216e-02, 5.44943625e-01, 7.56632991e-01],\n",
              "           [8.59875487e-01, 8.31596584e-01, 8.32226255e-01, ...,\n",
              "            2.89368460e-01, 7.04407512e-01, 1.33122637e-02],\n",
              "           ...,\n",
              "           [9.01444322e-01, 8.72661928e-01, 4.81273274e-01, ...,\n",
              "            9.42709995e-01, 2.69133522e-01, 5.95423165e-01],\n",
              "           [8.02990576e-02, 8.49435663e-02, 4.76296478e-01, ...,\n",
              "            6.26883769e-01, 4.49138589e-01, 4.70833653e-01],\n",
              "           [9.17380468e-01, 5.08963670e-01, 1.72086607e-01, ...,\n",
              "            6.40849172e-01, 2.21950461e-01, 6.06121023e-01]],\n",
              "\n",
              "          [[9.21036879e-01, 1.96933454e-01, 6.21116480e-01, ...,\n",
              "            7.39173163e-01, 4.07508368e-01, 7.76556679e-01],\n",
              "           [5.47182632e-01, 3.11465487e-01, 9.38648539e-01, ...,\n",
              "            7.77587370e-01, 7.21812987e-01, 7.03759534e-01],\n",
              "           [2.26558211e-01, 8.92248319e-01, 7.01671783e-01, ...,\n",
              "            3.98476982e-01, 8.11162566e-01, 8.25274441e-01],\n",
              "           ...,\n",
              "           [5.68011044e-01, 6.69402506e-01, 4.52297754e-01, ...,\n",
              "            4.53557189e-01, 5.32289584e-01, 4.29329650e-01],\n",
              "           [1.55512517e-01, 3.99346548e-01, 7.80529792e-01, ...,\n",
              "            3.14963737e-01, 6.42163965e-01, 6.52434043e-01],\n",
              "           [8.86243740e-02, 6.75009704e-01, 1.27205416e-01, ...,\n",
              "            1.40948146e-01, 6.94121053e-01, 1.47793359e-01]]]]]])"
            ]
          },
          "metadata": {},
          "execution_count": 175
        }
      ]
    },
    {
      "cell_type": "code",
      "source": [
        "shape = (2, 3)\n",
        "np.random.sample(shape)\n",
        "# array([[0.39756103, 0.01995168, 0.2768951 ],\n",
        "#       [0.82195372, 0.26435273, 0.00957881]])"
      ],
      "metadata": {
        "colab": {
          "base_uri": "https://localhost:8080/"
        },
        "id": "nlwVw6ZNcmmj",
        "outputId": "c1739838-c186-4ca2-9ea0-86546bce13a8"
      },
      "execution_count": 177,
      "outputs": [
        {
          "output_type": "execute_result",
          "data": {
            "text/plain": [
              "array([[0.39007868, 0.04395445, 0.78091427],\n",
              "       [0.93230872, 0.7211994 , 0.94135126]])"
            ]
          },
          "metadata": {},
          "execution_count": 177
        }
      ]
    },
    {
      "cell_type": "code",
      "source": [
        "! pip install uniform"
      ],
      "metadata": {
        "colab": {
          "base_uri": "https://localhost:8080/"
        },
        "id": "dJPMdHmlc06v",
        "outputId": "6ac4cfab-7df0-4d17-c75d-625c3280fe4f"
      },
      "execution_count": 179,
      "outputs": [
        {
          "output_type": "stream",
          "name": "stdout",
          "text": [
            "Collecting uniform\n",
            "  Downloading uniform-0.2.2-py3-none-any.whl (5.2 kB)\n",
            "Collecting typesystem (from uniform)\n",
            "  Downloading typesystem-0.4.1-py3-none-any.whl (28 kB)\n",
            "Collecting starlette (from uniform)\n",
            "  Downloading starlette-0.34.0-py3-none-any.whl (70 kB)\n",
            "\u001b[2K     \u001b[90m━━━━━━━━━━━━━━━━━━━━━━━━━━━━━━━━━━━━━━━━\u001b[0m \u001b[32m70.3/70.3 kB\u001b[0m \u001b[31m4.3 MB/s\u001b[0m eta \u001b[36m0:00:00\u001b[0m\n",
            "\u001b[?25hRequirement already satisfied: anyio<5,>=3.4.0 in /usr/local/lib/python3.10/dist-packages (from starlette->uniform) (3.7.1)\n",
            "Requirement already satisfied: idna>=2.8 in /usr/local/lib/python3.10/dist-packages (from anyio<5,>=3.4.0->starlette->uniform) (3.6)\n",
            "Requirement already satisfied: sniffio>=1.1 in /usr/local/lib/python3.10/dist-packages (from anyio<5,>=3.4.0->starlette->uniform) (1.3.0)\n",
            "Requirement already satisfied: exceptiongroup in /usr/local/lib/python3.10/dist-packages (from anyio<5,>=3.4.0->starlette->uniform) (1.2.0)\n",
            "Installing collected packages: typesystem, starlette, uniform\n",
            "Successfully installed starlette-0.34.0 typesystem-0.4.1 uniform-0.2.2\n"
          ]
        }
      ]
    },
    {
      "cell_type": "code",
      "source": [
        "import uniform\n",
        "\n",
        "uniform(low=0.0, high=1.0, size=None)\n",
        "np.random.uniform()\n",
        "# 0.951557685543591"
      ],
      "metadata": {
        "colab": {
          "base_uri": "https://localhost:8080/",
          "height": 245
        },
        "id": "hknclhkCcw8p",
        "outputId": "e75fadae-493f-450c-f7dc-28f6d9abdcc3"
      },
      "execution_count": 181,
      "outputs": [
        {
          "output_type": "error",
          "ename": "TypeError",
          "evalue": "'module' object is not callable",
          "traceback": [
            "\u001b[0;31m---------------------------------------------------------------------------\u001b[0m",
            "\u001b[0;31mTypeError\u001b[0m                                 Traceback (most recent call last)",
            "\u001b[0;32m<ipython-input-181-fdd41b826680>\u001b[0m in \u001b[0;36m<cell line: 3>\u001b[0;34m()\u001b[0m\n\u001b[1;32m      1\u001b[0m \u001b[0;32mimport\u001b[0m \u001b[0muniform\u001b[0m\u001b[0;34m\u001b[0m\u001b[0;34m\u001b[0m\u001b[0m\n\u001b[1;32m      2\u001b[0m \u001b[0;34m\u001b[0m\u001b[0m\n\u001b[0;32m----> 3\u001b[0;31m \u001b[0muniform\u001b[0m\u001b[0;34m(\u001b[0m\u001b[0mlow\u001b[0m\u001b[0;34m=\u001b[0m\u001b[0;36m0.0\u001b[0m\u001b[0;34m,\u001b[0m \u001b[0mhigh\u001b[0m\u001b[0;34m=\u001b[0m\u001b[0;36m1.0\u001b[0m\u001b[0;34m,\u001b[0m \u001b[0msize\u001b[0m\u001b[0;34m=\u001b[0m\u001b[0;32mNone\u001b[0m\u001b[0;34m)\u001b[0m\u001b[0;34m\u001b[0m\u001b[0;34m\u001b[0m\u001b[0m\n\u001b[0m\u001b[1;32m      4\u001b[0m \u001b[0mnp\u001b[0m\u001b[0;34m.\u001b[0m\u001b[0mrandom\u001b[0m\u001b[0;34m.\u001b[0m\u001b[0muniform\u001b[0m\u001b[0;34m(\u001b[0m\u001b[0;34m)\u001b[0m\u001b[0;34m\u001b[0m\u001b[0;34m\u001b[0m\u001b[0m\n\u001b[1;32m      5\u001b[0m \u001b[0;31m# 0.951557685543591\u001b[0m\u001b[0;34m\u001b[0m\u001b[0;34m\u001b[0m\u001b[0m\n",
            "\u001b[0;31mTypeError\u001b[0m: 'module' object is not callable"
          ]
        }
      ]
    },
    {
      "cell_type": "code",
      "source": [
        "# Получим пять чисел в интервале от 0.5 до 0.75:\n",
        "\n",
        "np.random.uniform(0.5, 0.75, size=5)\n",
        "# array([0.58078945, 0.58860342, 0.73790553, 0.63448265, 0.70920297])"
      ],
      "metadata": {
        "colab": {
          "base_uri": "https://localhost:8080/"
        },
        "id": "qxB2MdjSdEPN",
        "outputId": "0c868c7f-25d6-4861-fca1-5b9af44a69c0"
      },
      "execution_count": 182,
      "outputs": [
        {
          "output_type": "execute_result",
          "data": {
            "text/plain": [
              "array([0.65601692, 0.55238142, 0.50157984, 0.69393872, 0.61350476])"
            ]
          },
          "metadata": {},
          "execution_count": 182
        }
      ]
    },
    {
      "cell_type": "code",
      "source": [
        "# Получим массив из двух строк и трёх столбцов из чисел в интервале от -1000 до 500:\n",
        "\n",
        "np.random.uniform(-1000, 500, size=(2, 3))\n",
        "# array([[ 129.22164163,   77.69090611, -132.9656972 ],\n",
        "#        [  18.65802226, -317.14793906,   85.3613547 ]])"
      ],
      "metadata": {
        "colab": {
          "base_uri": "https://localhost:8080/"
        },
        "id": "uXrUOQBndEwx",
        "outputId": "f3f3783a-0522-4ac4-d6c3-477f0e4fa435"
      },
      "execution_count": 183,
      "outputs": [
        {
          "output_type": "execute_result",
          "data": {
            "text/plain": [
              "array([[ 3.53020698e+02,  4.81917838e+02,  6.83966985e-01],\n",
              "       [-9.15298422e+02, -6.71835168e+02,  1.97024406e+02]])"
            ]
          },
          "metadata": {},
          "execution_count": 183
        }
      ]
    },
    {
      "cell_type": "markdown",
      "source": [
        "## ГЕНЕРАЦИЯ INT\n",
        "\n",
        "randint(low, high=None, size=None, dtype=int)\n",
        "\n",
        "Функцию randint нельзя запустить совсем без параметров, необходимо указать хотя бы одно число.\n",
        "\n",
        "Если указан только аргумент low, числа будут генерироваться от 0 до low-1, то есть верхняя граница не включается.\n",
        "\n",
        "Если задать low и high, числа будут генерироваться от low (включительно) до high (не включительно).\n",
        "\n",
        "size задаёт форму массива уже привычным для вас образом: одним числом — для одномерного или кортежем — для многомерного.\n",
        "\n",
        "dtype позволяет задать конкретный тип данных, который должен быть использован в массиве."
      ],
      "metadata": {
        "id": "xTw_icTpdWRC"
      }
    },
    {
      "cell_type": "code",
      "source": [
        "np.random.randint(4, size=(2,3))\n",
        "# array([[3, 0, 1],\n",
        "#       [2, 1, 3]])"
      ],
      "metadata": {
        "colab": {
          "base_uri": "https://localhost:8080/"
        },
        "id": "hT4KBzf2dTL9",
        "outputId": "d76b4c99-bb2d-452a-e340-d1d337969d30"
      },
      "execution_count": 184,
      "outputs": [
        {
          "output_type": "execute_result",
          "data": {
            "text/plain": [
              "array([[2, 1, 3],\n",
              "       [3, 2, 2]])"
            ]
          },
          "metadata": {},
          "execution_count": 184
        }
      ]
    },
    {
      "cell_type": "code",
      "source": [
        "np.random.randint(6, 12, size=(3,3))\n",
        "# array([[ 9,  6, 10],\n",
        "#        [10, 11, 10],\n",
        "#        [ 7, 10, 11]])"
      ],
      "metadata": {
        "colab": {
          "base_uri": "https://localhost:8080/"
        },
        "id": "Xo0Nwfu0djnI",
        "outputId": "4efa8041-0e82-4c2d-e1c9-e075a385983f"
      },
      "execution_count": 185,
      "outputs": [
        {
          "output_type": "execute_result",
          "data": {
            "text/plain": [
              "array([[ 9,  7,  7],\n",
              "       [ 7,  6,  8],\n",
              "       [ 6, 10, 10]])"
            ]
          },
          "metadata": {},
          "execution_count": 185
        }
      ]
    },
    {
      "cell_type": "code",
      "source": [],
      "metadata": {
        "id": "6GzvTC0BdmaZ"
      },
      "execution_count": null,
      "outputs": []
    },
    {
      "cell_type": "markdown",
      "source": [
        "## ГЕНЕРАЦИЯ ВЫБОРОК\n",
        "\n",
        "Просто перемешать все числа в массиве позволяет функция random.shuffle.\n",
        "\n",
        "\n",
        "Чтобы получить новый перемешанный массив, а исходный оставить без изменений, можно использовать функцию random.permutation. Она принимает на вход один аргумент — или массив целиком, или одно число:\n",
        "\n",
        "\n",
        "Перемешать набор чисел от 0 до n-1 можно с помощью записи np.random.permutation(n), где n — верхняя граница, которая бы использовалась для генерации набора чисел функцией arange.\n",
        "\n",
        "\n",
        "Чтобы получить случайный набор объектов из массива, используется функция random.choice:"
      ],
      "metadata": {
        "id": "yhZFT3s3dvDp"
      }
    },
    {
      "cell_type": "code",
      "source": [
        "arr = np.arange(6)\n",
        "print(arr)\n",
        "# [0 1 2 3 4 5]\n",
        "print(np.random.shuffle(arr))\n",
        "# None\n",
        "arr\n",
        "# array([0, 5, 1, 3, 2, 4])"
      ],
      "metadata": {
        "colab": {
          "base_uri": "https://localhost:8080/"
        },
        "id": "hs7N7tpDdwoq",
        "outputId": "7a77fd07-a683-4775-fe36-1c54d6625206"
      },
      "execution_count": 186,
      "outputs": [
        {
          "output_type": "stream",
          "name": "stdout",
          "text": [
            "[0 1 2 3 4 5]\n",
            "None\n"
          ]
        },
        {
          "output_type": "execute_result",
          "data": {
            "text/plain": [
              "array([4, 3, 0, 2, 5, 1])"
            ]
          },
          "metadata": {},
          "execution_count": 186
        }
      ]
    },
    {
      "cell_type": "code",
      "source": [
        "playlist = [\"The Beatles\", \"Pink Floyd\", \"ACDC\", \"Deep Purple\"]\n",
        "shuffled = np.random.permutation(playlist)\n",
        "print(shuffled)\n",
        "# ['The Beatles' 'Pink Floyd' 'Deep Purple' 'ACDC']\n",
        "print(playlist)\n",
        "# ['The Beatles', 'Pink Floyd', 'ACDC', 'Deep Purple']"
      ],
      "metadata": {
        "colab": {
          "base_uri": "https://localhost:8080/"
        },
        "id": "pheL5uiqd6vy",
        "outputId": "c2f8f8d7-b5ed-4171-f527-6eac324c8cd1"
      },
      "execution_count": 187,
      "outputs": [
        {
          "output_type": "stream",
          "name": "stdout",
          "text": [
            "['ACDC' 'The Beatles' 'Deep Purple' 'Pink Floyd']\n",
            "['The Beatles', 'Pink Floyd', 'ACDC', 'Deep Purple']\n"
          ]
        }
      ]
    },
    {
      "cell_type": "code",
      "source": [
        "np.random.permutation(10)\n",
        "# array([7, 8, 2, 9, 4, 3, 1, 0, 5, 6])"
      ],
      "metadata": {
        "colab": {
          "base_uri": "https://localhost:8080/"
        },
        "id": "sxT6SlczeSSd",
        "outputId": "7201fa47-135b-4a4c-9fd8-d46ac8c19e41"
      },
      "execution_count": 189,
      "outputs": [
        {
          "output_type": "execute_result",
          "data": {
            "text/plain": [
              "array([2, 1, 9, 3, 7, 4, 6, 0, 5, 8])"
            ]
          },
          "metadata": {},
          "execution_count": 189
        }
      ]
    },
    {
      "cell_type": "code",
      "source": [
        "#choice(a, size=None, replace=True)\n",
        "\n",
        "#a — одномерный массив или число для генерации arange(a);\n",
        "#size — желаемая форма массива (число для получения одномерного массива, кортеж — для многомерного; если параметр не задан, возвращается один объект);\n",
        "#replace — параметр, задающий, могут ли элементы повторяться (по умолчанию могут).\n"
      ],
      "metadata": {
        "id": "70mL4JSCe7Hw"
      },
      "execution_count": null,
      "outputs": []
    },
    {
      "cell_type": "code",
      "source": [
        "workers = ['Ivan', 'Nikita', 'Maria', 'John', 'Kate']\n",
        "\n",
        "choice = np.random.choice(workers, size=2, replace=False)\n",
        "print(choice)\n"
      ],
      "metadata": {
        "colab": {
          "base_uri": "https://localhost:8080/"
        },
        "id": "x1YohVuQfEa0",
        "outputId": "b74ab7ae-c49c-4a83-8e7c-cc8e70e60096"
      },
      "execution_count": 190,
      "outputs": [
        {
          "output_type": "stream",
          "name": "stdout",
          "text": [
            "['Nikita' 'Ivan']\n"
          ]
        }
      ]
    },
    {
      "cell_type": "code",
      "source": [
        "choice = np.random.choice([1,2,3,4,5,6], size=10)\n",
        "print(choice.mean())\n",
        "# [3 5 5 6 6 4 2 2 1 3]"
      ],
      "metadata": {
        "colab": {
          "base_uri": "https://localhost:8080/"
        },
        "id": "i6SK-TpsfHZq",
        "outputId": "27f8439b-cdcd-4905-86d2-c1d7efaab41d"
      },
      "execution_count": 200,
      "outputs": [
        {
          "output_type": "stream",
          "name": "stdout",
          "text": [
            "3.4997842\n"
          ]
        }
      ]
    },
    {
      "cell_type": "markdown",
      "source": [
        "## SEED ГЕНЕРАТОРА ПСЕВДОСЛУЧАЙНЫХ ЧИСЕЛ"
      ],
      "metadata": {
        "id": "VHwHHHsVfbOg"
      }
    },
    {
      "cell_type": "code",
      "source": [
        "np.random.seed(23)\n",
        "np.random.randint(10, size=(3,4))\n",
        "# array([[3, 6, 8, 9],\n",
        "#        [6, 8, 7, 9],\n",
        "#        [3, 6, 1, 2]])"
      ],
      "metadata": {
        "colab": {
          "base_uri": "https://localhost:8080/"
        },
        "id": "2lr4m0UVfc0G",
        "outputId": "bc4d7fab-1783-4f45-815c-d46d95d99654"
      },
      "execution_count": 203,
      "outputs": [
        {
          "output_type": "execute_result",
          "data": {
            "text/plain": [
              "array([[3, 6, 8, 9],\n",
              "       [6, 8, 7, 9],\n",
              "       [3, 6, 1, 2]])"
            ]
          },
          "metadata": {},
          "execution_count": 203
        }
      ]
    },
    {
      "cell_type": "code",
      "source": [
        "np.random.seed(100)\n",
        "print(np.random.randint(10, size=3))\n",
        "# [8 8 3]\n",
        "print(np.random.randint(10, size=3))\n",
        "# [7 7 0]\n",
        "print(np.random.randint(10, size=3))\n",
        "# [4 2 5]"
      ],
      "metadata": {
        "colab": {
          "base_uri": "https://localhost:8080/"
        },
        "id": "d_kKteakfrUP",
        "outputId": "ca3f82c3-2fd7-4457-8318-cd0a866d757c"
      },
      "execution_count": 207,
      "outputs": [
        {
          "output_type": "stream",
          "name": "stdout",
          "text": [
            "[8 8 3]\n",
            "[7 7 0]\n",
            "[4 2 5]\n"
          ]
        }
      ]
    }
  ]
}